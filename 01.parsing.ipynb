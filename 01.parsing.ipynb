{
 "cells": [
  {
   "cell_type": "markdown",
   "metadata": {},
   "source": [
    "## Parse"
   ]
  },
  {
   "cell_type": "code",
   "execution_count": 1,
   "metadata": {
    "tags": []
   },
   "outputs": [],
   "source": [
    "%load_ext autoreload\n",
    "%autoreload 2"
   ]
  },
  {
   "cell_type": "code",
   "execution_count": 2,
   "metadata": {},
   "outputs": [],
   "source": [
    "import sys\n",
    "sys.path.append('..')\n",
    "%matplotlib inline\n",
    "import re\n"
   ]
  },
  {
   "cell_type": "code",
   "execution_count": 3,
   "metadata": {},
   "outputs": [],
   "source": [
    "# get all the files, which should be parsed\n",
    "import os\n",
    "relpath = \"raw_data\"\n",
    "files = [os.path.join(relpath, f) for f in os.listdir(relpath) if os.path.isfile(os.path.join(relpath, f))]"
   ]
  },
  {
   "cell_type": "code",
   "execution_count": 4,
   "metadata": {},
   "outputs": [
    {
     "output_type": "execute_result",
     "data": {
      "text/plain": "6487"
     },
     "metadata": {},
     "execution_count": 4
    }
   ],
   "source": [
    "len(files)"
   ]
  },
  {
   "cell_type": "code",
   "execution_count": 5,
   "metadata": {},
   "outputs": [],
   "source": [
    "import unicodedata\n",
    "def normalize(text: str) -> str:\n",
    "    text = unicodedata.normalize(\"NFKC\", text)\n",
    "    # remove \\xad artifacts\n",
    "    return text.replace(\"\\xad\", \"\").replace(\"\\u00ad\", \"\").replace(\"\\N{SOFT HYPHEN}\", \"\")"
   ]
  },
  {
   "cell_type": "code",
   "execution_count": 6,
   "metadata": {},
   "outputs": [],
   "source": [
    "sys.path.append(dir+'/Code')\n",
    "from gesetz import Gesetz, progressBar"
   ]
  },
  {
   "cell_type": "code",
   "execution_count": 7,
   "metadata": {
    "tags": []
   },
   "outputs": [
    {
     "output_type": "stream",
     "name": "stdout",
     "text": "Verordnung(BierStDB): Verordnung zur Durchführung des Vorläufigen Biergesetzes\nVerordnung(StVollzVergO): Verordnung über die Vergütungsstufen des Arbeitsentgelts und der Ausbildungsbeihilfe nach dem Strafvollzugsgesetz\n5768/6487 |████████████████████████████████████████████████████████████████████████████████████████------------| 88.9% (C:/Users/marc/Google Drive/Aufsatz Marc\\Daten\\Bundesrecht_TXT_2020-05-18\\ÜFischKKonvG.txt)Verordnung(ÜlV - 2. BesVNG): Verordnung zur Überleitung in die im Zweiten Gesetz zur Vereinheitlichung und Neuregelung des Besoldungsrechts in Bund und Ländern geregelten Ämter und über die künftig wegfallenden Ämter\nVerordnung(WODrittelbG): Verordnung zur Wahl der Aufsichtsratsmitglieder der Arbeitnehmer nach dem Drittelbeteiligungsgesetz\n6487/6487 |████████████████████████████████████████████████████████████████████████████████████████████████████| 100.0% (C:/Users/marc/Google Drive/Aufsatz Marc\\Daten\\Bundesrecht_TXT_2020-05-18\\ZZulV.txt)\n"
    }
   ],
   "source": [
    "for file in progressBar(files):\n",
    "    with open(file, 'r', encoding='utf-8') as f:\n",
    "        name = os.path.basename(f.name)\n",
    "        with open(file, 'r', encoding='utf-8') as f:\n",
    "            file_content = normalize(f.read())\n",
    "            file_name = os.path.basename(f.name)\n",
    "        ges = Gesetz(file_content,file_name)"
   ]
  },
  {
   "cell_type": "code",
   "execution_count": 8,
   "metadata": {
    "tags": []
   },
   "outputs": [
    {
     "output_type": "execute_result",
     "data": {
      "text/plain": "1663"
     },
     "metadata": {},
     "execution_count": 8
    }
   ],
   "source": [
    "len(Gesetz.collected_laws)"
   ]
  },
  {
   "cell_type": "code",
   "execution_count": 9,
   "metadata": {},
   "outputs": [
    {
     "output_type": "execute_result",
     "data": {
      "text/plain": "['Bürgerliches Gesetzbuch']"
     },
     "metadata": {},
     "execution_count": 9
    }
   ],
   "source": [
    "Gesetz.collected_laws[\"BGB\"].aliases"
   ]
  },
  {
   "cell_type": "markdown",
   "metadata": {},
   "source": [
    "## Save the parsed laws"
   ]
  },
  {
   "cell_type": "code",
   "execution_count": 10,
   "metadata": {},
   "outputs": [],
   "source": [
    "import pickle\n",
    "with open(\"pickles/laws.pickle\", \"wb\") as fp:   #Pickling\n",
    "    pickle.dump(Gesetz.collected_laws, fp)"
   ]
  },
  {
   "cell_type": "code",
   "execution_count": null,
   "metadata": {},
   "outputs": [],
   "source": []
  }
 ],
 "metadata": {
  "kernelspec": {
   "display_name": "Python 3.7.7 64-bit",
   "language": "python",
   "name": "python_defaultSpec_1600891449750"
  },
  "language_info": {
   "codemirror_mode": {
    "name": "ipython",
    "version": 3
   },
   "file_extension": ".py",
   "mimetype": "text/x-python",
   "name": "python",
   "nbconvert_exporter": "python",
   "pygments_lexer": "ipython3",
   "version": "3.7.7-final"
  }
 },
 "nbformat": 4,
 "nbformat_minor": 2
}