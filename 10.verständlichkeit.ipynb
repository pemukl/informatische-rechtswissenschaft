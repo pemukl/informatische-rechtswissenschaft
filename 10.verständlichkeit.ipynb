{
 "cells": [
  {
   "cell_type": "markdown",
   "metadata": {},
   "source": [
    "## Parse"
   ]
  },
  {
   "cell_type": "code",
   "execution_count": 1,
   "metadata": {
    "tags": []
   },
   "outputs": [],
   "source": [
    "%load_ext autoreload\n",
    "%autoreload 2\n",
    "import sys\n",
    "sys.path.append('..')"
   ]
  },
  {
   "cell_type": "code",
   "execution_count": 2,
   "metadata": {},
   "outputs": [],
   "source": [
    "from gesetz import Gesetz\n",
    "import pickle"
   ]
  },
  {
   "cell_type": "code",
   "execution_count": 3,
   "metadata": {},
   "outputs": [],
   "source": [
    "with open(\"pickles/laws_links_topics.pickle\", \"rb\") as fp:   # Unpickling\n",
    "    Gesetz.collected_laws = pickle.load(fp)"
   ]
  },
  {
   "cell_type": "markdown",
   "metadata": {},
   "source": [
    "## start evaluation"
   ]
  },
  {
   "cell_type": "code",
   "execution_count": 4,
   "metadata": {},
   "outputs": [],
   "source": [
    "import unicodedata\n",
    "import statistics\n"
   ]
  },
  {
   "cell_type": "code",
   "execution_count": 5,
   "metadata": {},
   "outputs": [],
   "source": [
    "def normalize(text: str) -> str:\n",
    "    text = unicodedata.normalize(\"NFKC\", text)\n",
    "    # remove \\xad artifacts\n",
    "    return text.replace(\"\\xad\", \"\").replace(\"\\u00ad\", \"\").replace(\"\\N{SOFT HYPHEN}\", \"\")\n"
   ]
  },
  {
   "cell_type": "code",
   "execution_count": 6,
   "metadata": {},
   "outputs": [],
   "source": [
    "import textstat\n",
    "textstat.set_lang(\"de\")"
   ]
  },
  {
   "cell_type": "code",
   "execution_count": 7,
   "metadata": {},
   "outputs": [],
   "source": [
    "test = \"Juliana kommt aus Paris. Das ist die Hauptstadt von Frankreich. In diesem Sommer macht sie einen Sprachkurs in Freiburg. Das ist eine Universitätsstadt im Süden von Deutschland. Es gefällt ihr hier sehr gut. Morgens um neun beginnt der Unterricht, um vierzehn Uhr ist er zu Ende. In ihrer Klasse sind außer Juliana noch 14 weitere Schüler, acht Mädchen und sechs Jungen. Sie kommen alle aus Frankreich, aber nicht aus Paris. Julianas beste Freundin Marie macht auch gerade einen Sprachkurs, aber in Hamburg, das liegt ganz im Norden von Deutschland. Wenn die beiden ihre Schule beendet haben, wollen sie in Deutschland studieren. Juliana will Tierärztin werden, ihre beste Freundin auch. Aber Maries Eltern sind beide Zahnärzte, deshalb wird Marie wahrscheinlich auch Zahnärztin werden. Juliana und Marie verbringen insgesamt sechs Wochen in Deutschland. Nach dem Sprachkurs machen sie eine Prüfung.\""
   ]
  },
  {
   "cell_type": "code",
   "execution_count": 8,
   "metadata": {},
   "outputs": [
    {
     "output_type": "execute_result",
     "data": {
      "text/plain": "70.65"
     },
     "metadata": {},
     "execution_count": 8
    }
   ],
   "source": [
    "textstat.flesch_reading_ease(test)"
   ]
  },
  {
   "cell_type": "code",
   "execution_count": 9,
   "metadata": {},
   "outputs": [
    {
     "output_type": "execute_result",
     "data": {
      "text/plain": "174"
     },
     "metadata": {},
     "execution_count": 9
    }
   ],
   "source": [
    "to_analyze = []\n",
    "for law in Gesetz.collected_laws.values():\n",
    "    if law.get_topic() == \"GesR\":\n",
    "        to_analyze.append(law)\n",
    "len(to_analyze)"
   ]
  },
  {
   "cell_type": "code",
   "execution_count": 10,
   "metadata": {},
   "outputs": [
    {
     "output_type": "execute_result",
     "data": {
      "text/plain": "174"
     },
     "metadata": {},
     "execution_count": 10
    }
   ],
   "source": [
    "results = []\n",
    "for law in to_analyze:\n",
    "    results.append((textstat.flesch_reading_ease(law.content),law.name_short))\n",
    "results.sort()\n",
    "len(results)"
   ]
  },
  {
   "cell_type": "code",
   "execution_count": 11,
   "metadata": {
    "tags": []
   },
   "outputs": [
    {
     "output_type": "stream",
     "name": "stdout",
     "text": "MEAN: 15.940747126436781\n"
    }
   ],
   "source": [
    "print(\"MEAN: \"+str(statistics.mean([f for (f,s) in results])))"
   ]
  },
  {
   "cell_type": "code",
   "execution_count": 12,
   "metadata": {
    "tags": []
   },
   "outputs": [],
   "source": [
    "#Ergebnisse im GesR\n",
    "\n",
    "file = open(\"flesch_ArbR.txt\",\"w\",encoding=\"utf8\")\n",
    "\n",
    "\n",
    "for r,n in results[:]:\n",
    "    file.write((str(round(r,1))+\": \").rjust(7))\n",
    "    file.write(n.ljust(15)+\" - '\")\n",
    "    law = Gesetz.collected_laws[n]\n",
    "    file.write(law.name_full + \"'\\n\")\n",
    "\n",
    "file.close()\n"
   ]
  }
 ],
 "metadata": {
  "kernelspec": {
   "display_name": "Python 3.7.7 64-bit",
   "language": "python",
   "name": "python_defaultSpec_1600878949656"
  },
  "language_info": {
   "codemirror_mode": {
    "name": "ipython",
    "version": 3
   },
   "file_extension": ".py",
   "mimetype": "text/x-python",
   "name": "python",
   "nbconvert_exporter": "python",
   "pygments_lexer": "ipython3",
   "version": "3.7.7-final"
  }
 },
 "nbformat": 4,
 "nbformat_minor": 2
}