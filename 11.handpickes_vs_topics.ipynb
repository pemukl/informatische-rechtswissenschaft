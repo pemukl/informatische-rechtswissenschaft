{
 "metadata": {
  "language_info": {
   "codemirror_mode": {
    "name": "ipython",
    "version": 3
   },
   "file_extension": ".py",
   "mimetype": "text/x-python",
   "name": "python",
   "nbconvert_exporter": "python",
   "pygments_lexer": "ipython3",
   "version": "3.7.7-final"
  },
  "orig_nbformat": 2,
  "kernelspec": {
   "name": "python_defaultSpec_1600878986811",
   "display_name": "Python 3.7.7 64-bit"
  }
 },
 "nbformat": 4,
 "nbformat_minor": 2,
 "cells": [
  {
   "cell_type": "code",
   "execution_count": 1,
   "metadata": {
    "tags": []
   },
   "outputs": [],
   "source": [
    "%load_ext autoreload\n",
    "%autoreload 2"
   ]
  },
  {
   "cell_type": "code",
   "execution_count": 2,
   "metadata": {},
   "outputs": [],
   "source": [
    "import sys\n",
    "sys.path.append('..')\n",
    "from gesetz import Gesetz\n",
    "from graph import Graph"
   ]
  },
  {
   "cell_type": "code",
   "execution_count": 3,
   "metadata": {},
   "outputs": [],
   "source": [
    "import pickle\n",
    "with open(\"pickles/laws_links_topics.pickle\", \"rb\") as fp:   # Unpickling\n",
    "    Gesetz.collected_laws = pickle.load(fp)"
   ]
  },
  {
   "cell_type": "code",
   "execution_count": 4,
   "metadata": {
    "tags": []
   },
   "outputs": [
    {
     "output_type": "stream",
     "name": "stdout",
     "text": "{0, 2, 3, 4, 5, 6, 7, 8, 9, 10, 11, 12, 13, 14}\n"
    }
   ],
   "source": [
    "Graph.set_big(Gesetz.collected_laws)"
   ]
  },
  {
   "cell_type": "code",
   "execution_count": 5,
   "metadata": {},
   "outputs": [],
   "source": [
    "from tabulate import tabulate"
   ]
  },
  {
   "cell_type": "code",
   "execution_count": 6,
   "metadata": {
    "tags": []
   },
   "outputs": [
    {
     "output_type": "stream",
     "name": "stdout",
     "text": "Topic          Erfurt    Beck    Umwelt    StrafR nomos    UmwR beck    GesR beck    WaffR Beck    BankR beck    ArbText beck\n-------------  --------  ------  --------  --------------  -----------  -----------  ------------  ------------  --------------\nStrafR         0%        0%      0%        43.3%           0%           0%           75.0%         5.6%          0%\nBahnR          0%        0%      0%        3.3%            2.9%         0%           0%            0%            0%\nWahlR          0%        0%      0%        0%              0%           0%           0%            0%            0%\nPatentR        0%        0%      0%        0%              0%           0%           0%            0%            2.9%\nVersorgungsR   0%        0%      0%        3.3%            2.9%         0%           0%            0%            2.9%\nSteuerR        0%        0%      0%        0%              0%           0%           0%            0%            2.9%\nFinMarktR      0%        0%      0%        3.3%            0%           4.8%         0%            50.0%         2.9%\nVerkehrsR      0%        0%      0%        0%              2.9%         0%           0%            0%            0%\nMedR           0%        0%      0%        3.3%            2.9%         0%           0%            0%            0%\nProduktR       0%        0%      0%        0%              2.9%         0%           0%            0%            0%\nInsolvenzR     0%        0%      0%        0%              0%           0%           0%            0%            0%\nGesR           0%        0%      7.7%      10.0%           0%           66.7%        0%            44.4%         0%\nAgrarR         0%        0%      0%        0%              0%           0%           0%            0%            0%\nOrganR         29.4%     25.0%   0%        3.3%            2.9%         14.3%        0%            0%            20.6%\nStatistikR     0%        0%      0%        0%              2.9%         0%           0%            0%            0%\nSachenR        0%        0%      15.4%     0%              5.9%         0%           0%            0%            0%\nKriegsfolgenR  0%        0%      0%        0%              0%           0%           0%            0%            0%\nKommR          11.8%     0%      0%        0%              0%           14.3%        0%            0%            8.8%\nBeamtenR       23.5%     25.0%   0%        3.3%            0%           0%           0%            0%            14.7%\nEntsorgungsR   0%        0%      0%        0%              8.8%         0%           0%            0%            0%\nProzessR       5.9%      0%      0%        23.3%           0%           0%           0%            0%            5.9%\nBauR           0%        0%      23.1%     0%              11.8%        0%           0%            0%            0%\nBerufsR        5.9%      8.3%    0%        0%              0%           0%           0%            0%            5.9%\nUmweltR        0%        0%      53.8%     0%              52.9%        0%           25.0%         0%            8.8%\nBankR          0%        0%      0%        0%              0%           0%           0%            0%            0%\nWohnR          0%        0%      0%        0%              0%           0%           0%            0%            0%\nGebührenR      0%        0%      0%        3.3%            0%           0%           0%            0%            0%\nAsylR          0%        0%      0%        0%              0%           0%           0%            0%            0%\nArbR           23.5%     41.7%   0%        0%              0%           0%           0%            0%            23.5%\n"
    }
   ],
   "source": [
    "data = []\n",
    "for topic in set(Graph.topic.values()):\n",
    "    point = [topic]\n",
    "    for selection in Graph.hand_picked:\n",
    "        relevant = [law for law in Graph.hand_picked[selection][\"relevant\"] if law in Graph.topic]\n",
    "        percentage = round(100*len([law for law in relevant if Graph.topic[law] == topic])/len(relevant),1)\n",
    "        point.append((str(percentage) if percentage != 0 else str(0) )+\"%\")\n",
    "    data.append(point)\n",
    "\n",
    "headers = [\"Topic\"]\n",
    "for selection in Graph.hand_picked:\n",
    "    headers.append(selection)\n",
    "\n",
    "print(tabulate(data, headers=headers))\n"
   ]
  },
  {
   "cell_type": "code",
   "execution_count": 7,
   "metadata": {
    "tags": []
   },
   "outputs": [
    {
     "output_type": "stream",
     "name": "stdout",
     "text": "96\n93\n95\n64\n96\n98\n45\n93\n95\nTopic          Erfurt    Beck    Umwelt    StrafR nomos    UmwR beck    GesR beck    WaffR Beck    BankR beck    ArbText beck\n-------------  --------  ------  --------  --------------  -----------  -----------  ------------  ------------  --------------\nStrafR         2%        4%      1%        31%             2%           1%           51%           3%            2%\nBahnR          3%        5%      6%        4%              9%           2%           2%            6%            3%\nWahlR          1%        0%      0%        1%              0%           5%           0%            1%            1%\nPatentR        0%        0%      0%        1%              0%           0%           0%            0%            1%\nVersorgungsR   1%        0%      0%        3%              1%           0%           0%            0%            3%\nSteuerR        1%        1%      0%        0%              1%           0%           0%            1%            2%\nFinMarktR      0%        0%      1%        1%              0%           3%           0%            32%           2%\nVerkehrsR      0%        0%      0%        1%              2%           0%           1%            0%            0%\nMedR           1%        1%      1%        3%              6%           0%           5%            0%            1%\nProduktR       0%        0%      0%        0%              2%           0%           10%           0%            0%\nInsolvenzR     0%        0%      0%        0%              0%           1%           0%            2%            0%\nGesR           8%        6%      9%        9%              2%           57%          2%            35%           7%\nAgrarR         0%        0%      1%        0%              0%           0%           0%            0%            0%\nOrganR         22%       17%     3%        3%              5%           13%          0%            3%            19%\nStatistikR     0%        0%      0%        0%              2%           0%           0%            0%            1%\nSachenR        0%        0%      15%       0%              8%           0%           0%            1%            0%\nKriegsfolgenR  0%        0%      0%        0%              0%           0%           0%            0%            0%\nKommR          11%       0%      0%        0%              0%           9%           0%            0%            7%\nBeamtenR       12%       14%     0%        4%              0%           0%           0%            1%            10%\nEntsorgungsR   0%        0%      3%        1%              10%          0%           6%            1%            0%\nProzessR       6%        2%      1%        22%             1%           3%           1%            2%            6%\nBauR           0%        0%      11%       0%              7%           0%           0%            0%            0%\nBerufsR        2%        3%      0%        0%              0%           1%           0%            0%            2%\nUmweltR        8%        14%     44%       7%              40%          1%           18%           1%            11%\nBankR          0%        0%      0%        0%              0%           0%           0%            1%            0%\nWohnR          0%        0%      0%        0%              0%           0%           0%            0%            0%\nGebührenR      0%        0%      0%        2%              0%           0%           0%            0%            0%\nAsylR          0%        0%      0%        1%              0%           0%           0%            0%            0%\nArbR           20%       30%     0%        1%              0%           3%           0%            6%            19%\n"
    }
   ],
   "source": [
    "data = []\n",
    "for topic in [t for t in set(Graph.topic.values())]:\n",
    "#for topic in set(Graph.topic.values()):\n",
    "    point = [topic]\n",
    "    for selection in Graph.hand_picked:\n",
    "        relevant = [law for law in Graph.hand_picked[selection][\"relevant\"] if law in Graph.topic]\n",
    "        percentage = 0\n",
    "        for law in relevant:\n",
    "            for (top,p) in Gesetz.collected_laws[law].topics:\n",
    "                if top == topic:\n",
    "                    percentage = percentage +p\n",
    "        percentage = round(percentage*100/len(relevant))\n",
    "        point.append((str(percentage) if percentage != 0 else str(0) )+\"%\")\n",
    "    data.append(point)\n",
    "\n",
    "headers = [\"Topic\"]\n",
    "for selection in Graph.hand_picked:\n",
    "    headers.append(selection)\n",
    "\n",
    "for y in range(1,len(data[0])):\n",
    "    summe = 0\n",
    "    for x in range(1,len(data)):\n",
    "        summe = summe+int(data[x][y][:-1])\n",
    "    print(summe)\n",
    "\n",
    "print(tabulate(data, headers=headers))"
   ]
  },
  {
   "cell_type": "code",
   "execution_count": null,
   "metadata": {},
   "outputs": [],
   "source": []
  }
 ]
}