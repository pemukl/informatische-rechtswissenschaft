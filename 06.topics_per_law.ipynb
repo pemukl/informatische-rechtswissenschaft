{
 "metadata": {
  "language_info": {
   "codemirror_mode": {
    "name": "ipython",
    "version": 3
   },
   "file_extension": ".py",
   "mimetype": "text/x-python",
   "name": "python",
   "nbconvert_exporter": "python",
   "pygments_lexer": "ipython3",
   "version": "3.7.7-final"
  },
  "orig_nbformat": 2,
  "kernelspec": {
   "name": "python_defaultSpec_1600878718550",
   "display_name": "Python 3.7.7 64-bit"
  }
 },
 "nbformat": 4,
 "nbformat_minor": 2,
 "cells": [
  {
   "cell_type": "code",
   "execution_count": 1,
   "metadata": {
    "tags": []
   },
   "outputs": [],
   "source": [
    "%load_ext autoreload\n",
    "%autoreload 2"
   ]
  },
  {
   "cell_type": "code",
   "execution_count": 2,
   "metadata": {},
   "outputs": [],
   "source": [
    "sys.path.append('..')\n",
    "from gesetz import Gesetz\n",
    "from graph import Graph"
   ]
  },
  {
   "cell_type": "code",
   "execution_count": 3,
   "metadata": {},
   "outputs": [],
   "source": [
    "import pickle\n",
    "with open(\"pickles/laws_links_topics.pickle\", \"rb\") as fp:   # Unpickling\n",
    "    Gesetz.collected_laws = pickle.load(fp)"
   ]
  },
  {
   "cell_type": "code",
   "execution_count": 4,
   "metadata": {
    "tags": []
   },
   "outputs": [
    {
     "output_type": "stream",
     "name": "stdout",
     "text": "{0, 2, 3, 4, 5, 6, 7, 8, 9, 10, 11, 12, 13, 14}\n"
    }
   ],
   "source": [
    "Graph.set_big(Gesetz.collected_laws)"
   ]
  },
  {
   "cell_type": "markdown",
   "metadata": {},
   "source": [
    "# Plot"
   ]
  },
  {
   "cell_type": "code",
   "execution_count": 5,
   "metadata": {},
   "outputs": [],
   "source": [
    "import plotly.graph_objects as go\n",
    "\n",
    "def plot(toplot):\n",
    "    laws = []\n",
    "    for law in Graph.get_handpicked_laws(toplot):\n",
    "        laws.append(Gesetz.collected_laws[law])\n",
    "\n",
    "    topics = {}\n",
    "    for law in laws:\n",
    "        for (top,p) in law.topics:\n",
    "            topics[top] = []\n",
    "\n",
    "    labels = []\n",
    "    for law in laws:\n",
    "        labels.append(law.name_short)\n",
    "        for top in topics:\n",
    "            to_append = 0\n",
    "            for (t,p) in law.topics:\n",
    "                if t == top:\n",
    "                    to_append = p\n",
    "            topics[top].append(to_append)\n",
    "    chosen = []\n",
    "    for top in topics:\n",
    "        summ = 0\n",
    "        for elm in topics[top]:\n",
    "            summ += elm\n",
    "        if len(chosen)<10:\n",
    "            chosen.append((summ,top))\n",
    "            chosen.sort()\n",
    "        elif summ > chosen[0][0]:\n",
    "            chosen[0] = (summ,top)\n",
    "            chosen.sort()\n",
    "    #print(chosen)\n",
    "    data = []\n",
    "    chosen.reverse()\n",
    "    for topic in [top for (p,top) in chosen]:\n",
    "        data.append(go.Bar(name=topic,x=labels,y=topics[topic]))\n",
    "        \n",
    "    fig = go.Figure(data=data)\n",
    "    # Change the bar mode\n",
    "    fig.update_layout(barmode='stack',font=dict(family='Times New Roman',size=12))\n",
    "    fig.show()"
   ]
  },
  {
   "cell_type": "code",
   "execution_count": 7,
   "metadata": {},
   "outputs": [
    {
     "output_type": "display_data",
     "data": {
      "application/vnd.plotly.v1+json": {
       "config": {
        "plotlyServerURL": "https://plot.ly"
       },
       "data": [
        {
         "name": "GesR",
         "type": "bar",
         "x": [
          "AktG",
          "AktGEG",
          "GmbHG",
          "EGGmbHG",
          "GenG",
          "HGBEG",
          "PublG",
          "PartGG",
          "SEAG",
          "EWIVAG",
          "WpHG",
          "WpÜG",
          "UmwG",
          "MitbestG",
          "MontanMitbestG",
          "MontanMitbestGErgG",
          "DrittelbG",
          "MgVG",
          "SEBG",
          "SpruchG",
          "COVInsAG",
          "GesRuaCOVBekG"
         ],
         "y": [
          0.8960344791412354,
          0.9232988357543945,
          0.934899628162384,
          0.889178991317749,
          0.6947889924049377,
          0.8190308809280396,
          0.8983606696128845,
          0.6926382184028625,
          0.5580552220344543,
          0.7350375652313232,
          0.31445950269699097,
          0.5402206778526306,
          0.9426068067550659,
          0.2234504520893097,
          0.30928835272789,
          0.21013908088207245,
          0.15073849260807037,
          0.06951143592596054,
          0.06330280750989914,
          0.4832608699798584,
          0.4126443564891815,
          0.7538459300994873
         ]
        },
        {
         "name": "OrganR",
         "type": "bar",
         "x": [
          "AktG",
          "AktGEG",
          "GmbHG",
          "EGGmbHG",
          "GenG",
          "HGBEG",
          "PublG",
          "PartGG",
          "SEAG",
          "EWIVAG",
          "WpHG",
          "WpÜG",
          "UmwG",
          "MitbestG",
          "MontanMitbestG",
          "MontanMitbestGErgG",
          "DrittelbG",
          "MgVG",
          "SEBG",
          "SpruchG",
          "COVInsAG",
          "GesRuaCOVBekG"
         ],
         "y": [
          0.041947901248931885,
          0.023640330880880356,
          0,
          0,
          0.09717851877212524,
          0,
          0,
          0.023789526894688606,
          0.35331594944000244,
          0.12535572052001953,
          0,
          0.03648432344198227,
          0.017308413982391357,
          0.18489184975624084,
          0.35154151916503906,
          0.1587519645690918,
          0.3316548466682434,
          0.4373153746128082,
          0.4770636558532715,
          0.020219877362251282,
          0,
          0.1277383416891098
         ]
        },
        {
         "name": "KommR",
         "type": "bar",
         "x": [
          "AktG",
          "AktGEG",
          "GmbHG",
          "EGGmbHG",
          "GenG",
          "HGBEG",
          "PublG",
          "PartGG",
          "SEAG",
          "EWIVAG",
          "WpHG",
          "WpÜG",
          "UmwG",
          "MitbestG",
          "MontanMitbestG",
          "MontanMitbestGErgG",
          "DrittelbG",
          "MgVG",
          "SEBG",
          "SpruchG",
          "COVInsAG",
          "GesRuaCOVBekG"
         ],
         "y": [
          0.018902834504842758,
          0,
          0,
          0,
          0,
          0,
          0,
          0,
          0,
          0,
          0,
          0,
          0,
          0.582586407661438,
          0.21319927275180817,
          0.6099099516868591,
          0.4882943034172058,
          0.016788732260465622,
          0,
          0,
          0,
          0
         ]
        },
        {
         "name": "WahlR",
         "type": "bar",
         "x": [
          "AktG",
          "AktGEG",
          "GmbHG",
          "EGGmbHG",
          "GenG",
          "HGBEG",
          "PublG",
          "PartGG",
          "SEAG",
          "EWIVAG",
          "WpHG",
          "WpÜG",
          "UmwG",
          "MitbestG",
          "MontanMitbestG",
          "MontanMitbestGErgG",
          "DrittelbG",
          "MgVG",
          "SEBG",
          "SpruchG",
          "COVInsAG",
          "GesRuaCOVBekG"
         ],
         "y": [
          0,
          0.021762292832136154,
          0,
          0,
          0,
          0.0845622792840004,
          0.018857525661587715,
          0,
          0.0655774176120758,
          0.07002783566713333,
          0,
          0,
          0.012259102426469326,
          0,
          0,
          0,
          0,
          0.34584957361221313,
          0.3071598410606384,
          0.02794804982841015,
          0,
          0.05211467668414116
         ]
        },
        {
         "name": "ProzessR",
         "type": "bar",
         "x": [
          "AktG",
          "AktGEG",
          "GmbHG",
          "EGGmbHG",
          "GenG",
          "HGBEG",
          "PublG",
          "PartGG",
          "SEAG",
          "EWIVAG",
          "WpHG",
          "WpÜG",
          "UmwG",
          "MitbestG",
          "MontanMitbestG",
          "MontanMitbestGErgG",
          "DrittelbG",
          "MgVG",
          "SEBG",
          "SpruchG",
          "COVInsAG",
          "GesRuaCOVBekG"
         ],
         "y": [
          0.01871146634221077,
          0,
          0.01135109830647707,
          0,
          0.045184891670942307,
          0,
          0,
          0.08892089128494263,
          0,
          0,
          0,
          0.16831906139850616,
          0,
          0,
          0.022528458386659622,
          0,
          0,
          0,
          0,
          0.4356077313423157,
          0,
          0
         ]
        },
        {
         "name": "FinMarktR",
         "type": "bar",
         "x": [
          "AktG",
          "AktGEG",
          "GmbHG",
          "EGGmbHG",
          "GenG",
          "HGBEG",
          "PublG",
          "PartGG",
          "SEAG",
          "EWIVAG",
          "WpHG",
          "WpÜG",
          "UmwG",
          "MitbestG",
          "MontanMitbestG",
          "MontanMitbestGErgG",
          "DrittelbG",
          "MgVG",
          "SEBG",
          "SpruchG",
          "COVInsAG",
          "GesRuaCOVBekG"
         ],
         "y": [
          0.01773676462471485,
          0,
          0,
          0,
          0.01058637909591198,
          0.01194091234356165,
          0.03232031315565109,
          0,
          0,
          0,
          0.4198046624660492,
          0.16783253848552704,
          0,
          0,
          0,
          0,
          0,
          0,
          0,
          0,
          0.11016004532575607,
          0
         ]
        },
        {
         "name": "ArbR",
         "type": "bar",
         "x": [
          "AktG",
          "AktGEG",
          "GmbHG",
          "EGGmbHG",
          "GenG",
          "HGBEG",
          "PublG",
          "PartGG",
          "SEAG",
          "EWIVAG",
          "WpHG",
          "WpÜG",
          "UmwG",
          "MitbestG",
          "MontanMitbestG",
          "MontanMitbestGErgG",
          "DrittelbG",
          "MgVG",
          "SEBG",
          "SpruchG",
          "COVInsAG",
          "GesRuaCOVBekG"
         ],
         "y": [
          0,
          0,
          0.014875727705657482,
          0.030272793024778366,
          0.09379502385854721,
          0.019722992554306984,
          0.020072687417268753,
          0,
          0.01068082731217146,
          0,
          0.013483085669577122,
          0,
          0.016988132148981094,
          0,
          0.0168943852186203,
          0,
          0.018723364919424057,
          0.07392117381095886,
          0.08519480377435684,
          0,
          0.1015893965959549,
          0.01860187016427517
         ]
        },
        {
         "name": "BahnR",
         "type": "bar",
         "x": [
          "AktG",
          "AktGEG",
          "GmbHG",
          "EGGmbHG",
          "GenG",
          "HGBEG",
          "PublG",
          "PartGG",
          "SEAG",
          "EWIVAG",
          "WpHG",
          "WpÜG",
          "UmwG",
          "MitbestG",
          "MontanMitbestG",
          "MontanMitbestGErgG",
          "DrittelbG",
          "MgVG",
          "SEBG",
          "SpruchG",
          "COVInsAG",
          "GesRuaCOVBekG"
         ],
         "y": [
          0,
          0,
          0,
          0,
          0,
          0,
          0.0181676484644413,
          0,
          0,
          0,
          0.15282884240150452,
          0.05493787303566933,
          0,
          0,
          0.01716211438179016,
          0,
          0,
          0.014096968807280064,
          0.019881078973412514,
          0,
          0.0737369954586029,
          0.03136949986219406
         ]
        },
        {
         "name": "InsolvenzR",
         "type": "bar",
         "x": [
          "AktG",
          "AktGEG",
          "GmbHG",
          "EGGmbHG",
          "GenG",
          "HGBEG",
          "PublG",
          "PartGG",
          "SEAG",
          "EWIVAG",
          "WpHG",
          "WpÜG",
          "UmwG",
          "MitbestG",
          "MontanMitbestG",
          "MontanMitbestGErgG",
          "DrittelbG",
          "MgVG",
          "SEBG",
          "SpruchG",
          "COVInsAG",
          "GesRuaCOVBekG"
         ],
         "y": [
          0,
          0,
          0,
          0,
          0.03501012548804283,
          0,
          0,
          0,
          0,
          0.01213039644062519,
          0,
          0,
          0,
          0,
          0,
          0,
          0,
          0,
          0,
          0,
          0.26765793561935425,
          0
         ]
        },
        {
         "name": "StrafR",
         "type": "bar",
         "x": [
          "AktG",
          "AktGEG",
          "GmbHG",
          "EGGmbHG",
          "GenG",
          "HGBEG",
          "PublG",
          "PartGG",
          "SEAG",
          "EWIVAG",
          "WpHG",
          "WpÜG",
          "UmwG",
          "MitbestG",
          "MontanMitbestG",
          "MontanMitbestGErgG",
          "DrittelbG",
          "MgVG",
          "SEBG",
          "SpruchG",
          "COVInsAG",
          "GesRuaCOVBekG"
         ],
         "y": [
          0,
          0,
          0,
          0.04610728845000267,
          0,
          0,
          0,
          0,
          0,
          0.04863026738166809,
          0.03780962526798248,
          0.011386287398636341,
          0,
          0,
          0,
          0,
          0,
          0.01581965759396553,
          0,
          0,
          0,
          0
         ]
        }
       ],
       "layout": {
        "barmode": "stack",
        "font": {
         "family": "Times New Roman",
         "size": 12
        },
        "template": {
         "data": {
          "bar": [
           {
            "error_x": {
             "color": "#2a3f5f"
            },
            "error_y": {
             "color": "#2a3f5f"
            },
            "marker": {
             "line": {
              "color": "#E5ECF6",
              "width": 0.5
             }
            },
            "type": "bar"
           }
          ],
          "barpolar": [
           {
            "marker": {
             "line": {
              "color": "#E5ECF6",
              "width": 0.5
             }
            },
            "type": "barpolar"
           }
          ],
          "carpet": [
           {
            "aaxis": {
             "endlinecolor": "#2a3f5f",
             "gridcolor": "white",
             "linecolor": "white",
             "minorgridcolor": "white",
             "startlinecolor": "#2a3f5f"
            },
            "baxis": {
             "endlinecolor": "#2a3f5f",
             "gridcolor": "white",
             "linecolor": "white",
             "minorgridcolor": "white",
             "startlinecolor": "#2a3f5f"
            },
            "type": "carpet"
           }
          ],
          "choropleth": [
           {
            "colorbar": {
             "outlinewidth": 0,
             "ticks": ""
            },
            "type": "choropleth"
           }
          ],
          "contour": [
           {
            "colorbar": {
             "outlinewidth": 0,
             "ticks": ""
            },
            "colorscale": [
             [
              0,
              "#0d0887"
             ],
             [
              0.1111111111111111,
              "#46039f"
             ],
             [
              0.2222222222222222,
              "#7201a8"
             ],
             [
              0.3333333333333333,
              "#9c179e"
             ],
             [
              0.4444444444444444,
              "#bd3786"
             ],
             [
              0.5555555555555556,
              "#d8576b"
             ],
             [
              0.6666666666666666,
              "#ed7953"
             ],
             [
              0.7777777777777778,
              "#fb9f3a"
             ],
             [
              0.8888888888888888,
              "#fdca26"
             ],
             [
              1,
              "#f0f921"
             ]
            ],
            "type": "contour"
           }
          ],
          "contourcarpet": [
           {
            "colorbar": {
             "outlinewidth": 0,
             "ticks": ""
            },
            "type": "contourcarpet"
           }
          ],
          "heatmap": [
           {
            "colorbar": {
             "outlinewidth": 0,
             "ticks": ""
            },
            "colorscale": [
             [
              0,
              "#0d0887"
             ],
             [
              0.1111111111111111,
              "#46039f"
             ],
             [
              0.2222222222222222,
              "#7201a8"
             ],
             [
              0.3333333333333333,
              "#9c179e"
             ],
             [
              0.4444444444444444,
              "#bd3786"
             ],
             [
              0.5555555555555556,
              "#d8576b"
             ],
             [
              0.6666666666666666,
              "#ed7953"
             ],
             [
              0.7777777777777778,
              "#fb9f3a"
             ],
             [
              0.8888888888888888,
              "#fdca26"
             ],
             [
              1,
              "#f0f921"
             ]
            ],
            "type": "heatmap"
           }
          ],
          "heatmapgl": [
           {
            "colorbar": {
             "outlinewidth": 0,
             "ticks": ""
            },
            "colorscale": [
             [
              0,
              "#0d0887"
             ],
             [
              0.1111111111111111,
              "#46039f"
             ],
             [
              0.2222222222222222,
              "#7201a8"
             ],
             [
              0.3333333333333333,
              "#9c179e"
             ],
             [
              0.4444444444444444,
              "#bd3786"
             ],
             [
              0.5555555555555556,
              "#d8576b"
             ],
             [
              0.6666666666666666,
              "#ed7953"
             ],
             [
              0.7777777777777778,
              "#fb9f3a"
             ],
             [
              0.8888888888888888,
              "#fdca26"
             ],
             [
              1,
              "#f0f921"
             ]
            ],
            "type": "heatmapgl"
           }
          ],
          "histogram": [
           {
            "marker": {
             "colorbar": {
              "outlinewidth": 0,
              "ticks": ""
             }
            },
            "type": "histogram"
           }
          ],
          "histogram2d": [
           {
            "colorbar": {
             "outlinewidth": 0,
             "ticks": ""
            },
            "colorscale": [
             [
              0,
              "#0d0887"
             ],
             [
              0.1111111111111111,
              "#46039f"
             ],
             [
              0.2222222222222222,
              "#7201a8"
             ],
             [
              0.3333333333333333,
              "#9c179e"
             ],
             [
              0.4444444444444444,
              "#bd3786"
             ],
             [
              0.5555555555555556,
              "#d8576b"
             ],
             [
              0.6666666666666666,
              "#ed7953"
             ],
             [
              0.7777777777777778,
              "#fb9f3a"
             ],
             [
              0.8888888888888888,
              "#fdca26"
             ],
             [
              1,
              "#f0f921"
             ]
            ],
            "type": "histogram2d"
           }
          ],
          "histogram2dcontour": [
           {
            "colorbar": {
             "outlinewidth": 0,
             "ticks": ""
            },
            "colorscale": [
             [
              0,
              "#0d0887"
             ],
             [
              0.1111111111111111,
              "#46039f"
             ],
             [
              0.2222222222222222,
              "#7201a8"
             ],
             [
              0.3333333333333333,
              "#9c179e"
             ],
             [
              0.4444444444444444,
              "#bd3786"
             ],
             [
              0.5555555555555556,
              "#d8576b"
             ],
             [
              0.6666666666666666,
              "#ed7953"
             ],
             [
              0.7777777777777778,
              "#fb9f3a"
             ],
             [
              0.8888888888888888,
              "#fdca26"
             ],
             [
              1,
              "#f0f921"
             ]
            ],
            "type": "histogram2dcontour"
           }
          ],
          "mesh3d": [
           {
            "colorbar": {
             "outlinewidth": 0,
             "ticks": ""
            },
            "type": "mesh3d"
           }
          ],
          "parcoords": [
           {
            "line": {
             "colorbar": {
              "outlinewidth": 0,
              "ticks": ""
             }
            },
            "type": "parcoords"
           }
          ],
          "pie": [
           {
            "automargin": true,
            "type": "pie"
           }
          ],
          "scatter": [
           {
            "marker": {
             "colorbar": {
              "outlinewidth": 0,
              "ticks": ""
             }
            },
            "type": "scatter"
           }
          ],
          "scatter3d": [
           {
            "line": {
             "colorbar": {
              "outlinewidth": 0,
              "ticks": ""
             }
            },
            "marker": {
             "colorbar": {
              "outlinewidth": 0,
              "ticks": ""
             }
            },
            "type": "scatter3d"
           }
          ],
          "scattercarpet": [
           {
            "marker": {
             "colorbar": {
              "outlinewidth": 0,
              "ticks": ""
             }
            },
            "type": "scattercarpet"
           }
          ],
          "scattergeo": [
           {
            "marker": {
             "colorbar": {
              "outlinewidth": 0,
              "ticks": ""
             }
            },
            "type": "scattergeo"
           }
          ],
          "scattergl": [
           {
            "marker": {
             "colorbar": {
              "outlinewidth": 0,
              "ticks": ""
             }
            },
            "type": "scattergl"
           }
          ],
          "scattermapbox": [
           {
            "marker": {
             "colorbar": {
              "outlinewidth": 0,
              "ticks": ""
             }
            },
            "type": "scattermapbox"
           }
          ],
          "scatterpolar": [
           {
            "marker": {
             "colorbar": {
              "outlinewidth": 0,
              "ticks": ""
             }
            },
            "type": "scatterpolar"
           }
          ],
          "scatterpolargl": [
           {
            "marker": {
             "colorbar": {
              "outlinewidth": 0,
              "ticks": ""
             }
            },
            "type": "scatterpolargl"
           }
          ],
          "scatterternary": [
           {
            "marker": {
             "colorbar": {
              "outlinewidth": 0,
              "ticks": ""
             }
            },
            "type": "scatterternary"
           }
          ],
          "surface": [
           {
            "colorbar": {
             "outlinewidth": 0,
             "ticks": ""
            },
            "colorscale": [
             [
              0,
              "#0d0887"
             ],
             [
              0.1111111111111111,
              "#46039f"
             ],
             [
              0.2222222222222222,
              "#7201a8"
             ],
             [
              0.3333333333333333,
              "#9c179e"
             ],
             [
              0.4444444444444444,
              "#bd3786"
             ],
             [
              0.5555555555555556,
              "#d8576b"
             ],
             [
              0.6666666666666666,
              "#ed7953"
             ],
             [
              0.7777777777777778,
              "#fb9f3a"
             ],
             [
              0.8888888888888888,
              "#fdca26"
             ],
             [
              1,
              "#f0f921"
             ]
            ],
            "type": "surface"
           }
          ],
          "table": [
           {
            "cells": {
             "fill": {
              "color": "#EBF0F8"
             },
             "line": {
              "color": "white"
             }
            },
            "header": {
             "fill": {
              "color": "#C8D4E3"
             },
             "line": {
              "color": "white"
             }
            },
            "type": "table"
           }
          ]
         },
         "layout": {
          "annotationdefaults": {
           "arrowcolor": "#2a3f5f",
           "arrowhead": 0,
           "arrowwidth": 1
          },
          "coloraxis": {
           "colorbar": {
            "outlinewidth": 0,
            "ticks": ""
           }
          },
          "colorscale": {
           "diverging": [
            [
             0,
             "#8e0152"
            ],
            [
             0.1,
             "#c51b7d"
            ],
            [
             0.2,
             "#de77ae"
            ],
            [
             0.3,
             "#f1b6da"
            ],
            [
             0.4,
             "#fde0ef"
            ],
            [
             0.5,
             "#f7f7f7"
            ],
            [
             0.6,
             "#e6f5d0"
            ],
            [
             0.7,
             "#b8e186"
            ],
            [
             0.8,
             "#7fbc41"
            ],
            [
             0.9,
             "#4d9221"
            ],
            [
             1,
             "#276419"
            ]
           ],
           "sequential": [
            [
             0,
             "#0d0887"
            ],
            [
             0.1111111111111111,
             "#46039f"
            ],
            [
             0.2222222222222222,
             "#7201a8"
            ],
            [
             0.3333333333333333,
             "#9c179e"
            ],
            [
             0.4444444444444444,
             "#bd3786"
            ],
            [
             0.5555555555555556,
             "#d8576b"
            ],
            [
             0.6666666666666666,
             "#ed7953"
            ],
            [
             0.7777777777777778,
             "#fb9f3a"
            ],
            [
             0.8888888888888888,
             "#fdca26"
            ],
            [
             1,
             "#f0f921"
            ]
           ],
           "sequentialminus": [
            [
             0,
             "#0d0887"
            ],
            [
             0.1111111111111111,
             "#46039f"
            ],
            [
             0.2222222222222222,
             "#7201a8"
            ],
            [
             0.3333333333333333,
             "#9c179e"
            ],
            [
             0.4444444444444444,
             "#bd3786"
            ],
            [
             0.5555555555555556,
             "#d8576b"
            ],
            [
             0.6666666666666666,
             "#ed7953"
            ],
            [
             0.7777777777777778,
             "#fb9f3a"
            ],
            [
             0.8888888888888888,
             "#fdca26"
            ],
            [
             1,
             "#f0f921"
            ]
           ]
          },
          "colorway": [
           "#636efa",
           "#EF553B",
           "#00cc96",
           "#ab63fa",
           "#FFA15A",
           "#19d3f3",
           "#FF6692",
           "#B6E880",
           "#FF97FF",
           "#FECB52"
          ],
          "font": {
           "color": "#2a3f5f"
          },
          "geo": {
           "bgcolor": "white",
           "lakecolor": "white",
           "landcolor": "#E5ECF6",
           "showlakes": true,
           "showland": true,
           "subunitcolor": "white"
          },
          "hoverlabel": {
           "align": "left"
          },
          "hovermode": "closest",
          "mapbox": {
           "style": "light"
          },
          "paper_bgcolor": "white",
          "plot_bgcolor": "#E5ECF6",
          "polar": {
           "angularaxis": {
            "gridcolor": "white",
            "linecolor": "white",
            "ticks": ""
           },
           "bgcolor": "#E5ECF6",
           "radialaxis": {
            "gridcolor": "white",
            "linecolor": "white",
            "ticks": ""
           }
          },
          "scene": {
           "xaxis": {
            "backgroundcolor": "#E5ECF6",
            "gridcolor": "white",
            "gridwidth": 2,
            "linecolor": "white",
            "showbackground": true,
            "ticks": "",
            "zerolinecolor": "white"
           },
           "yaxis": {
            "backgroundcolor": "#E5ECF6",
            "gridcolor": "white",
            "gridwidth": 2,
            "linecolor": "white",
            "showbackground": true,
            "ticks": "",
            "zerolinecolor": "white"
           },
           "zaxis": {
            "backgroundcolor": "#E5ECF6",
            "gridcolor": "white",
            "gridwidth": 2,
            "linecolor": "white",
            "showbackground": true,
            "ticks": "",
            "zerolinecolor": "white"
           }
          },
          "shapedefaults": {
           "line": {
            "color": "#2a3f5f"
           }
          },
          "ternary": {
           "aaxis": {
            "gridcolor": "white",
            "linecolor": "white",
            "ticks": ""
           },
           "baxis": {
            "gridcolor": "white",
            "linecolor": "white",
            "ticks": ""
           },
           "bgcolor": "#E5ECF6",
           "caxis": {
            "gridcolor": "white",
            "linecolor": "white",
            "ticks": ""
           }
          },
          "title": {
           "x": 0.05
          },
          "xaxis": {
           "automargin": true,
           "gridcolor": "white",
           "linecolor": "white",
           "ticks": "",
           "title": {
            "standoff": 15
           },
           "zerolinecolor": "white",
           "zerolinewidth": 2
          },
          "yaxis": {
           "automargin": true,
           "gridcolor": "white",
           "linecolor": "white",
           "ticks": "",
           "title": {
            "standoff": 15
           },
           "zerolinecolor": "white",
           "zerolinewidth": 2
          }
         }
        }
       }
      }
     },
     "metadata": {}
    }
   ],
   "source": [
    "plot(\"GesR beck\")"
   ]
  },
  {
   "cell_type": "code",
   "execution_count": 8,
   "metadata": {
    "tags": []
   },
   "outputs": [
    {
     "output_type": "display_data",
     "data": {
      "application/vnd.plotly.v1+json": {
       "config": {
        "plotlyServerURL": "https://plot.ly"
       },
       "data": [
        {
         "name": "OrganR",
         "type": "bar",
         "x": [
          "AGG",
          "AEntG",
          "ArbnErfG",
          "AÜG",
          "ArbGG",
          "AnlEntG",
          "ArbSchG",
          "ArbZG",
          "AsylbLG",
          "AAG",
          "ÄArbVtrG",
          "BBiG",
          "BetrVG",
          "BEEG",
          "BUrlG",
          "DrittelbG",
          "EntgTranspG",
          "EBRG",
          "FPfZG",
          "HAG",
          "KSchG",
          "LadSchlG",
          "MiLoG",
          "MitbestG",
          "MontanMitbestGErgG",
          "MontanMitbestG",
          "MuSchG",
          "NachwG",
          "PflegeZG",
          "SprAuG",
          "TVG",
          "TzBfG",
          "WissZeitVG",
          "ZPO"
         ],
         "y": [
          0.4677540957927704,
          0.14809145033359528,
          0.063020721077919,
          0.053500428795814514,
          0.1026727631688118,
          0,
          0.11863280087709427,
          0.030827725306153297,
          0,
          0.050505541265010834,
          0.2090134173631668,
          0.12557537853717804,
          0.6885682344436646,
          0.02029132843017578,
          0,
          0.3316548466682434,
          0.2319849580526352,
          0.7744489312171936,
          0.16457247734069824,
          0.19823309779167175,
          0.38341814279556274,
          0,
          0.22429464757442474,
          0.18489184975624084,
          0.1587519645690918,
          0.35154151916503906,
          0.18258005380630493,
          0.09605658799409866,
          0.05158162862062454,
          0.47521981596946716,
          0.175314262509346,
          0.0737602710723877,
          0.17305967211723328,
          0
         ]
        },
        {
         "name": "ArbR",
         "type": "bar",
         "x": [
          "AGG",
          "AEntG",
          "ArbnErfG",
          "AÜG",
          "ArbGG",
          "AnlEntG",
          "ArbSchG",
          "ArbZG",
          "AsylbLG",
          "AAG",
          "ÄArbVtrG",
          "BBiG",
          "BetrVG",
          "BEEG",
          "BUrlG",
          "DrittelbG",
          "EntgTranspG",
          "EBRG",
          "FPfZG",
          "HAG",
          "KSchG",
          "LadSchlG",
          "MiLoG",
          "MitbestG",
          "MontanMitbestGErgG",
          "MontanMitbestG",
          "MuSchG",
          "NachwG",
          "PflegeZG",
          "SprAuG",
          "TVG",
          "TzBfG",
          "WissZeitVG",
          "ZPO"
         ],
         "y": [
          0.06388279795646667,
          0.2892555296421051,
          0.15089891850948334,
          0.19967089593410492,
          0.044483646750450134,
          0.02529604732990265,
          0.1790253221988678,
          0.5038583278656006,
          0.019805243238806725,
          0.45088788866996765,
          0,
          0.2520333528518677,
          0.13976389169692993,
          0.09627331048250198,
          0.30099138617515564,
          0.018723364919424057,
          0.29490354657173157,
          0.019098840653896332,
          0.29277560114860535,
          0.22408878803253174,
          0.2666856646537781,
          0.2805401384830475,
          0.22303472459316254,
          0,
          0,
          0.0168943852186203,
          0.26139891147613525,
          0.4090125858783722,
          0.26304891705513,
          0.05348982661962509,
          0.4235324561595917,
          0.4567728340625763,
          0.08633115142583847,
          0
         ]
        },
        {
         "name": "UmweltR",
         "type": "bar",
         "x": [
          "AGG",
          "AEntG",
          "ArbnErfG",
          "AÜG",
          "ArbGG",
          "AnlEntG",
          "ArbSchG",
          "ArbZG",
          "AsylbLG",
          "AAG",
          "ÄArbVtrG",
          "BBiG",
          "BetrVG",
          "BEEG",
          "BUrlG",
          "DrittelbG",
          "EntgTranspG",
          "EBRG",
          "FPfZG",
          "HAG",
          "KSchG",
          "LadSchlG",
          "MiLoG",
          "MitbestG",
          "MontanMitbestGErgG",
          "MontanMitbestG",
          "MuSchG",
          "NachwG",
          "PflegeZG",
          "SprAuG",
          "TVG",
          "TzBfG",
          "WissZeitVG",
          "ZPO"
         ],
         "y": [
          0.24950315058231354,
          0.250984251499176,
          0.062197886407375336,
          0.12064079195261002,
          0.01516670547425747,
          0.012962543405592442,
          0.4431910216808319,
          0.2997978925704956,
          0.05615048483014107,
          0.11500924825668335,
          0.01844697631895542,
          0.0395614393055439,
          0.028530055657029152,
          0.012913898564875126,
          0.1979229748249054,
          0,
          0.08633661270141602,
          0,
          0.03093281015753746,
          0.24863293766975403,
          0.07522813975811005,
          0.26428303122520447,
          0.1272774189710617,
          0,
          0,
          0.019885562360286713,
          0.42346620559692383,
          0.05667796730995178,
          0.0727287158370018,
          0,
          0.15694180130958557,
          0.06522863358259201,
          0.01791602186858654,
          0.014556883834302425
         ]
        },
        {
         "name": "BeamtenR",
         "type": "bar",
         "x": [
          "AGG",
          "AEntG",
          "ArbnErfG",
          "AÜG",
          "ArbGG",
          "AnlEntG",
          "ArbSchG",
          "ArbZG",
          "AsylbLG",
          "AAG",
          "ÄArbVtrG",
          "BBiG",
          "BetrVG",
          "BEEG",
          "BUrlG",
          "DrittelbG",
          "EntgTranspG",
          "EBRG",
          "FPfZG",
          "HAG",
          "KSchG",
          "LadSchlG",
          "MiLoG",
          "MitbestG",
          "MontanMitbestGErgG",
          "MontanMitbestG",
          "MuSchG",
          "NachwG",
          "PflegeZG",
          "SprAuG",
          "TVG",
          "TzBfG",
          "WissZeitVG",
          "ZPO"
         ],
         "y": [
          0.05622698366641998,
          0.011264256201684475,
          0.042724598199129105,
          0,
          0,
          0,
          0.021259073168039322,
          0.048492830246686935,
          0.07676438242197037,
          0.013065410777926445,
          0.5859728455543518,
          0.05168115720152855,
          0,
          0.13468891382217407,
          0.44034698605537415,
          0,
          0.01094707753509283,
          0,
          0.3695436716079712,
          0,
          0.047232065349817276,
          0,
          0.013121147640049458,
          0,
          0,
          0,
          0.05520840361714363,
          0.07556666433811188,
          0.5061696767807007,
          0,
          0,
          0.23029594123363495,
          0.5977015495300293,
          0
         ]
        },
        {
         "name": "GesR",
         "type": "bar",
         "x": [
          "AGG",
          "AEntG",
          "ArbnErfG",
          "AÜG",
          "ArbGG",
          "AnlEntG",
          "ArbSchG",
          "ArbZG",
          "AsylbLG",
          "AAG",
          "ÄArbVtrG",
          "BBiG",
          "BetrVG",
          "BEEG",
          "BUrlG",
          "DrittelbG",
          "EntgTranspG",
          "EBRG",
          "FPfZG",
          "HAG",
          "KSchG",
          "LadSchlG",
          "MiLoG",
          "MitbestG",
          "MontanMitbestGErgG",
          "MontanMitbestG",
          "MuSchG",
          "NachwG",
          "PflegeZG",
          "SprAuG",
          "TVG",
          "TzBfG",
          "WissZeitVG",
          "ZPO"
         ],
         "y": [
          0.0633600503206253,
          0.022468747571110725,
          0.10286848247051239,
          0.14851126074790955,
          0.034364983439445496,
          0.09667852520942688,
          0,
          0,
          0.02781454473733902,
          0.021425632759928703,
          0,
          0,
          0.022313645109534264,
          0.024307455867528915,
          0,
          0.15073849260807037,
          0.03513161465525627,
          0.04253144562244415,
          0.08660626411437988,
          0.09054958820343018,
          0.12149661779403687,
          0.08655579388141632,
          0.03165324032306671,
          0.2234504520893097,
          0.21013908088207245,
          0.30928835272789,
          0.017810849472880363,
          0.16879922151565552,
          0.041049107909202576,
          0.010337595827877522,
          0.04722007364034653,
          0.08524056524038315,
          0,
          0.13911540806293488
         ]
        },
        {
         "name": "KommR",
         "type": "bar",
         "x": [
          "AGG",
          "AEntG",
          "ArbnErfG",
          "AÜG",
          "ArbGG",
          "AnlEntG",
          "ArbSchG",
          "ArbZG",
          "AsylbLG",
          "AAG",
          "ÄArbVtrG",
          "BBiG",
          "BetrVG",
          "BEEG",
          "BUrlG",
          "DrittelbG",
          "EntgTranspG",
          "EBRG",
          "FPfZG",
          "HAG",
          "KSchG",
          "LadSchlG",
          "MiLoG",
          "MitbestG",
          "MontanMitbestGErgG",
          "MontanMitbestG",
          "MuSchG",
          "NachwG",
          "PflegeZG",
          "SprAuG",
          "TVG",
          "TzBfG",
          "WissZeitVG",
          "ZPO"
         ],
         "y": [
          0,
          0.022683968767523766,
          0,
          0,
          0,
          0,
          0,
          0,
          0,
          0,
          0,
          0,
          0.08582042157649994,
          0,
          0,
          0.4882943034172058,
          0.011199964210391045,
          0,
          0,
          0,
          0,
          0,
          0.02076563984155655,
          0.582586407661438,
          0.6099099516868591,
          0.21319927275180817,
          0,
          0,
          0,
          0.40808767080307007,
          0,
          0,
          0,
          0
         ]
        },
        {
         "name": "ProzessR",
         "type": "bar",
         "x": [
          "AGG",
          "AEntG",
          "ArbnErfG",
          "AÜG",
          "ArbGG",
          "AnlEntG",
          "ArbSchG",
          "ArbZG",
          "AsylbLG",
          "AAG",
          "ÄArbVtrG",
          "BBiG",
          "BetrVG",
          "BEEG",
          "BUrlG",
          "DrittelbG",
          "EntgTranspG",
          "EBRG",
          "FPfZG",
          "HAG",
          "KSchG",
          "LadSchlG",
          "MiLoG",
          "MitbestG",
          "MontanMitbestGErgG",
          "MontanMitbestG",
          "MuSchG",
          "NachwG",
          "PflegeZG",
          "SprAuG",
          "TVG",
          "TzBfG",
          "WissZeitVG",
          "ZPO"
         ],
         "y": [
          0.030582476407289505,
          0,
          0.08118431270122528,
          0,
          0.7724282741546631,
          0,
          0,
          0,
          0.04882471635937691,
          0,
          0,
          0,
          0,
          0,
          0,
          0,
          0,
          0,
          0,
          0.026484092697501183,
          0.077669657766819,
          0,
          0.030074581503868103,
          0,
          0,
          0.022528458386659622,
          0,
          0,
          0,
          0,
          0.09684594720602036,
          0,
          0,
          0.6902414560317993
         ]
        },
        {
         "name": "BahnR",
         "type": "bar",
         "x": [
          "AGG",
          "AEntG",
          "ArbnErfG",
          "AÜG",
          "ArbGG",
          "AnlEntG",
          "ArbSchG",
          "ArbZG",
          "AsylbLG",
          "AAG",
          "ÄArbVtrG",
          "BBiG",
          "BetrVG",
          "BEEG",
          "BUrlG",
          "DrittelbG",
          "EntgTranspG",
          "EBRG",
          "FPfZG",
          "HAG",
          "KSchG",
          "LadSchlG",
          "MiLoG",
          "MitbestG",
          "MontanMitbestGErgG",
          "MontanMitbestG",
          "MuSchG",
          "NachwG",
          "PflegeZG",
          "SprAuG",
          "TVG",
          "TzBfG",
          "WissZeitVG",
          "ZPO"
         ],
         "y": [
          0.044504813849925995,
          0.08752980828285217,
          0.010040991008281708,
          0.025308804586529732,
          0,
          0,
          0.09894553571939468,
          0.02933625690639019,
          0.07593157887458801,
          0.05736810341477394,
          0.04424602538347244,
          0.03442065417766571,
          0,
          0,
          0,
          0,
          0.2789957821369171,
          0.020452426746487617,
          0.015742652118206024,
          0.10616999864578247,
          0,
          0.03693992644548416,
          0.09943079203367233,
          0,
          0,
          0.01716211438179016,
          0.010369786992669106,
          0.017228614538908005,
          0,
          0,
          0.02032659202814102,
          0.022049391642212868,
          0.01218095701187849,
          0
         ]
        },
        {
         "name": "VersorgungsR",
         "type": "bar",
         "x": [
          "AGG",
          "AEntG",
          "ArbnErfG",
          "AÜG",
          "ArbGG",
          "AnlEntG",
          "ArbSchG",
          "ArbZG",
          "AsylbLG",
          "AAG",
          "ÄArbVtrG",
          "BBiG",
          "BetrVG",
          "BEEG",
          "BUrlG",
          "DrittelbG",
          "EntgTranspG",
          "EBRG",
          "FPfZG",
          "HAG",
          "KSchG",
          "LadSchlG",
          "MiLoG",
          "MitbestG",
          "MontanMitbestGErgG",
          "MontanMitbestG",
          "MuSchG",
          "NachwG",
          "PflegeZG",
          "SprAuG",
          "TVG",
          "TzBfG",
          "WissZeitVG",
          "ZPO"
         ],
         "y": [
          0,
          0,
          0,
          0,
          0,
          0,
          0,
          0,
          0.4314306676387787,
          0.19555802643299103,
          0,
          0,
          0,
          0.25120702385902405,
          0,
          0,
          0,
          0,
          0.034358613193035126,
          0.029003676027059555,
          0,
          0,
          0,
          0,
          0,
          0.020744377747178078,
          0.010376782156527042,
          0.017696429044008255,
          0,
          0,
          0.014270561747252941,
          0,
          0,
          0
         ]
        },
        {
         "name": "FinMarktR",
         "type": "bar",
         "x": [
          "AGG",
          "AEntG",
          "ArbnErfG",
          "AÜG",
          "ArbGG",
          "AnlEntG",
          "ArbSchG",
          "ArbZG",
          "AsylbLG",
          "AAG",
          "ÄArbVtrG",
          "BBiG",
          "BetrVG",
          "BEEG",
          "BUrlG",
          "DrittelbG",
          "EntgTranspG",
          "EBRG",
          "FPfZG",
          "HAG",
          "KSchG",
          "LadSchlG",
          "MiLoG",
          "MitbestG",
          "MontanMitbestGErgG",
          "MontanMitbestG",
          "MuSchG",
          "NachwG",
          "PflegeZG",
          "SprAuG",
          "TVG",
          "TzBfG",
          "WissZeitVG",
          "ZPO"
         ],
         "y": [
          0,
          0,
          0,
          0,
          0,
          0.8070601224899292,
          0,
          0,
          0,
          0,
          0,
          0,
          0,
          0,
          0,
          0,
          0,
          0.0321316123008728,
          0,
          0,
          0,
          0,
          0,
          0,
          0,
          0,
          0,
          0,
          0,
          0,
          0,
          0,
          0,
          0
         ]
        }
       ],
       "layout": {
        "barmode": "stack",
        "font": {
         "family": "Times New Roman",
         "size": 12
        },
        "template": {
         "data": {
          "bar": [
           {
            "error_x": {
             "color": "#2a3f5f"
            },
            "error_y": {
             "color": "#2a3f5f"
            },
            "marker": {
             "line": {
              "color": "#E5ECF6",
              "width": 0.5
             }
            },
            "type": "bar"
           }
          ],
          "barpolar": [
           {
            "marker": {
             "line": {
              "color": "#E5ECF6",
              "width": 0.5
             }
            },
            "type": "barpolar"
           }
          ],
          "carpet": [
           {
            "aaxis": {
             "endlinecolor": "#2a3f5f",
             "gridcolor": "white",
             "linecolor": "white",
             "minorgridcolor": "white",
             "startlinecolor": "#2a3f5f"
            },
            "baxis": {
             "endlinecolor": "#2a3f5f",
             "gridcolor": "white",
             "linecolor": "white",
             "minorgridcolor": "white",
             "startlinecolor": "#2a3f5f"
            },
            "type": "carpet"
           }
          ],
          "choropleth": [
           {
            "colorbar": {
             "outlinewidth": 0,
             "ticks": ""
            },
            "type": "choropleth"
           }
          ],
          "contour": [
           {
            "colorbar": {
             "outlinewidth": 0,
             "ticks": ""
            },
            "colorscale": [
             [
              0,
              "#0d0887"
             ],
             [
              0.1111111111111111,
              "#46039f"
             ],
             [
              0.2222222222222222,
              "#7201a8"
             ],
             [
              0.3333333333333333,
              "#9c179e"
             ],
             [
              0.4444444444444444,
              "#bd3786"
             ],
             [
              0.5555555555555556,
              "#d8576b"
             ],
             [
              0.6666666666666666,
              "#ed7953"
             ],
             [
              0.7777777777777778,
              "#fb9f3a"
             ],
             [
              0.8888888888888888,
              "#fdca26"
             ],
             [
              1,
              "#f0f921"
             ]
            ],
            "type": "contour"
           }
          ],
          "contourcarpet": [
           {
            "colorbar": {
             "outlinewidth": 0,
             "ticks": ""
            },
            "type": "contourcarpet"
           }
          ],
          "heatmap": [
           {
            "colorbar": {
             "outlinewidth": 0,
             "ticks": ""
            },
            "colorscale": [
             [
              0,
              "#0d0887"
             ],
             [
              0.1111111111111111,
              "#46039f"
             ],
             [
              0.2222222222222222,
              "#7201a8"
             ],
             [
              0.3333333333333333,
              "#9c179e"
             ],
             [
              0.4444444444444444,
              "#bd3786"
             ],
             [
              0.5555555555555556,
              "#d8576b"
             ],
             [
              0.6666666666666666,
              "#ed7953"
             ],
             [
              0.7777777777777778,
              "#fb9f3a"
             ],
             [
              0.8888888888888888,
              "#fdca26"
             ],
             [
              1,
              "#f0f921"
             ]
            ],
            "type": "heatmap"
           }
          ],
          "heatmapgl": [
           {
            "colorbar": {
             "outlinewidth": 0,
             "ticks": ""
            },
            "colorscale": [
             [
              0,
              "#0d0887"
             ],
             [
              0.1111111111111111,
              "#46039f"
             ],
             [
              0.2222222222222222,
              "#7201a8"
             ],
             [
              0.3333333333333333,
              "#9c179e"
             ],
             [
              0.4444444444444444,
              "#bd3786"
             ],
             [
              0.5555555555555556,
              "#d8576b"
             ],
             [
              0.6666666666666666,
              "#ed7953"
             ],
             [
              0.7777777777777778,
              "#fb9f3a"
             ],
             [
              0.8888888888888888,
              "#fdca26"
             ],
             [
              1,
              "#f0f921"
             ]
            ],
            "type": "heatmapgl"
           }
          ],
          "histogram": [
           {
            "marker": {
             "colorbar": {
              "outlinewidth": 0,
              "ticks": ""
             }
            },
            "type": "histogram"
           }
          ],
          "histogram2d": [
           {
            "colorbar": {
             "outlinewidth": 0,
             "ticks": ""
            },
            "colorscale": [
             [
              0,
              "#0d0887"
             ],
             [
              0.1111111111111111,
              "#46039f"
             ],
             [
              0.2222222222222222,
              "#7201a8"
             ],
             [
              0.3333333333333333,
              "#9c179e"
             ],
             [
              0.4444444444444444,
              "#bd3786"
             ],
             [
              0.5555555555555556,
              "#d8576b"
             ],
             [
              0.6666666666666666,
              "#ed7953"
             ],
             [
              0.7777777777777778,
              "#fb9f3a"
             ],
             [
              0.8888888888888888,
              "#fdca26"
             ],
             [
              1,
              "#f0f921"
             ]
            ],
            "type": "histogram2d"
           }
          ],
          "histogram2dcontour": [
           {
            "colorbar": {
             "outlinewidth": 0,
             "ticks": ""
            },
            "colorscale": [
             [
              0,
              "#0d0887"
             ],
             [
              0.1111111111111111,
              "#46039f"
             ],
             [
              0.2222222222222222,
              "#7201a8"
             ],
             [
              0.3333333333333333,
              "#9c179e"
             ],
             [
              0.4444444444444444,
              "#bd3786"
             ],
             [
              0.5555555555555556,
              "#d8576b"
             ],
             [
              0.6666666666666666,
              "#ed7953"
             ],
             [
              0.7777777777777778,
              "#fb9f3a"
             ],
             [
              0.8888888888888888,
              "#fdca26"
             ],
             [
              1,
              "#f0f921"
             ]
            ],
            "type": "histogram2dcontour"
           }
          ],
          "mesh3d": [
           {
            "colorbar": {
             "outlinewidth": 0,
             "ticks": ""
            },
            "type": "mesh3d"
           }
          ],
          "parcoords": [
           {
            "line": {
             "colorbar": {
              "outlinewidth": 0,
              "ticks": ""
             }
            },
            "type": "parcoords"
           }
          ],
          "pie": [
           {
            "automargin": true,
            "type": "pie"
           }
          ],
          "scatter": [
           {
            "marker": {
             "colorbar": {
              "outlinewidth": 0,
              "ticks": ""
             }
            },
            "type": "scatter"
           }
          ],
          "scatter3d": [
           {
            "line": {
             "colorbar": {
              "outlinewidth": 0,
              "ticks": ""
             }
            },
            "marker": {
             "colorbar": {
              "outlinewidth": 0,
              "ticks": ""
             }
            },
            "type": "scatter3d"
           }
          ],
          "scattercarpet": [
           {
            "marker": {
             "colorbar": {
              "outlinewidth": 0,
              "ticks": ""
             }
            },
            "type": "scattercarpet"
           }
          ],
          "scattergeo": [
           {
            "marker": {
             "colorbar": {
              "outlinewidth": 0,
              "ticks": ""
             }
            },
            "type": "scattergeo"
           }
          ],
          "scattergl": [
           {
            "marker": {
             "colorbar": {
              "outlinewidth": 0,
              "ticks": ""
             }
            },
            "type": "scattergl"
           }
          ],
          "scattermapbox": [
           {
            "marker": {
             "colorbar": {
              "outlinewidth": 0,
              "ticks": ""
             }
            },
            "type": "scattermapbox"
           }
          ],
          "scatterpolar": [
           {
            "marker": {
             "colorbar": {
              "outlinewidth": 0,
              "ticks": ""
             }
            },
            "type": "scatterpolar"
           }
          ],
          "scatterpolargl": [
           {
            "marker": {
             "colorbar": {
              "outlinewidth": 0,
              "ticks": ""
             }
            },
            "type": "scatterpolargl"
           }
          ],
          "scatterternary": [
           {
            "marker": {
             "colorbar": {
              "outlinewidth": 0,
              "ticks": ""
             }
            },
            "type": "scatterternary"
           }
          ],
          "surface": [
           {
            "colorbar": {
             "outlinewidth": 0,
             "ticks": ""
            },
            "colorscale": [
             [
              0,
              "#0d0887"
             ],
             [
              0.1111111111111111,
              "#46039f"
             ],
             [
              0.2222222222222222,
              "#7201a8"
             ],
             [
              0.3333333333333333,
              "#9c179e"
             ],
             [
              0.4444444444444444,
              "#bd3786"
             ],
             [
              0.5555555555555556,
              "#d8576b"
             ],
             [
              0.6666666666666666,
              "#ed7953"
             ],
             [
              0.7777777777777778,
              "#fb9f3a"
             ],
             [
              0.8888888888888888,
              "#fdca26"
             ],
             [
              1,
              "#f0f921"
             ]
            ],
            "type": "surface"
           }
          ],
          "table": [
           {
            "cells": {
             "fill": {
              "color": "#EBF0F8"
             },
             "line": {
              "color": "white"
             }
            },
            "header": {
             "fill": {
              "color": "#C8D4E3"
             },
             "line": {
              "color": "white"
             }
            },
            "type": "table"
           }
          ]
         },
         "layout": {
          "annotationdefaults": {
           "arrowcolor": "#2a3f5f",
           "arrowhead": 0,
           "arrowwidth": 1
          },
          "coloraxis": {
           "colorbar": {
            "outlinewidth": 0,
            "ticks": ""
           }
          },
          "colorscale": {
           "diverging": [
            [
             0,
             "#8e0152"
            ],
            [
             0.1,
             "#c51b7d"
            ],
            [
             0.2,
             "#de77ae"
            ],
            [
             0.3,
             "#f1b6da"
            ],
            [
             0.4,
             "#fde0ef"
            ],
            [
             0.5,
             "#f7f7f7"
            ],
            [
             0.6,
             "#e6f5d0"
            ],
            [
             0.7,
             "#b8e186"
            ],
            [
             0.8,
             "#7fbc41"
            ],
            [
             0.9,
             "#4d9221"
            ],
            [
             1,
             "#276419"
            ]
           ],
           "sequential": [
            [
             0,
             "#0d0887"
            ],
            [
             0.1111111111111111,
             "#46039f"
            ],
            [
             0.2222222222222222,
             "#7201a8"
            ],
            [
             0.3333333333333333,
             "#9c179e"
            ],
            [
             0.4444444444444444,
             "#bd3786"
            ],
            [
             0.5555555555555556,
             "#d8576b"
            ],
            [
             0.6666666666666666,
             "#ed7953"
            ],
            [
             0.7777777777777778,
             "#fb9f3a"
            ],
            [
             0.8888888888888888,
             "#fdca26"
            ],
            [
             1,
             "#f0f921"
            ]
           ],
           "sequentialminus": [
            [
             0,
             "#0d0887"
            ],
            [
             0.1111111111111111,
             "#46039f"
            ],
            [
             0.2222222222222222,
             "#7201a8"
            ],
            [
             0.3333333333333333,
             "#9c179e"
            ],
            [
             0.4444444444444444,
             "#bd3786"
            ],
            [
             0.5555555555555556,
             "#d8576b"
            ],
            [
             0.6666666666666666,
             "#ed7953"
            ],
            [
             0.7777777777777778,
             "#fb9f3a"
            ],
            [
             0.8888888888888888,
             "#fdca26"
            ],
            [
             1,
             "#f0f921"
            ]
           ]
          },
          "colorway": [
           "#636efa",
           "#EF553B",
           "#00cc96",
           "#ab63fa",
           "#FFA15A",
           "#19d3f3",
           "#FF6692",
           "#B6E880",
           "#FF97FF",
           "#FECB52"
          ],
          "font": {
           "color": "#2a3f5f"
          },
          "geo": {
           "bgcolor": "white",
           "lakecolor": "white",
           "landcolor": "#E5ECF6",
           "showlakes": true,
           "showland": true,
           "subunitcolor": "white"
          },
          "hoverlabel": {
           "align": "left"
          },
          "hovermode": "closest",
          "mapbox": {
           "style": "light"
          },
          "paper_bgcolor": "white",
          "plot_bgcolor": "#E5ECF6",
          "polar": {
           "angularaxis": {
            "gridcolor": "white",
            "linecolor": "white",
            "ticks": ""
           },
           "bgcolor": "#E5ECF6",
           "radialaxis": {
            "gridcolor": "white",
            "linecolor": "white",
            "ticks": ""
           }
          },
          "scene": {
           "xaxis": {
            "backgroundcolor": "#E5ECF6",
            "gridcolor": "white",
            "gridwidth": 2,
            "linecolor": "white",
            "showbackground": true,
            "ticks": "",
            "zerolinecolor": "white"
           },
           "yaxis": {
            "backgroundcolor": "#E5ECF6",
            "gridcolor": "white",
            "gridwidth": 2,
            "linecolor": "white",
            "showbackground": true,
            "ticks": "",
            "zerolinecolor": "white"
           },
           "zaxis": {
            "backgroundcolor": "#E5ECF6",
            "gridcolor": "white",
            "gridwidth": 2,
            "linecolor": "white",
            "showbackground": true,
            "ticks": "",
            "zerolinecolor": "white"
           }
          },
          "shapedefaults": {
           "line": {
            "color": "#2a3f5f"
           }
          },
          "ternary": {
           "aaxis": {
            "gridcolor": "white",
            "linecolor": "white",
            "ticks": ""
           },
           "baxis": {
            "gridcolor": "white",
            "linecolor": "white",
            "ticks": ""
           },
           "bgcolor": "#E5ECF6",
           "caxis": {
            "gridcolor": "white",
            "linecolor": "white",
            "ticks": ""
           }
          },
          "title": {
           "x": 0.05
          },
          "xaxis": {
           "automargin": true,
           "gridcolor": "white",
           "linecolor": "white",
           "ticks": "",
           "title": {
            "standoff": 15
           },
           "zerolinecolor": "white",
           "zerolinewidth": 2
          },
          "yaxis": {
           "automargin": true,
           "gridcolor": "white",
           "linecolor": "white",
           "ticks": "",
           "title": {
            "standoff": 15
           },
           "zerolinecolor": "white",
           "zerolinewidth": 2
          }
         }
        }
       }
      }
     },
     "metadata": {}
    },
    {
     "output_type": "display_data",
     "data": {
      "application/vnd.plotly.v1+json": {
       "config": {
        "plotlyServerURL": "https://plot.ly"
       },
       "data": [
        {
         "name": "ArbR",
         "type": "bar",
         "x": [
          "AEntG",
          "AGG",
          "ArbZG",
          "AÜG",
          "BUrlG",
          "EntgTranspG",
          "FPfZG",
          "KSchG",
          "MiLoG",
          "PflegeZG",
          "TVG",
          "TzBfG"
         ],
         "y": [
          0.2892555296421051,
          0.06388279795646667,
          0.5038583278656006,
          0.19967089593410492,
          0.30099138617515564,
          0.29490354657173157,
          0.29277560114860535,
          0.2666856646537781,
          0.22303472459316254,
          0.26304891705513,
          0.4235324561595917,
          0.4567728340625763
         ]
        },
        {
         "name": "OrganR",
         "type": "bar",
         "x": [
          "AEntG",
          "AGG",
          "ArbZG",
          "AÜG",
          "BUrlG",
          "EntgTranspG",
          "FPfZG",
          "KSchG",
          "MiLoG",
          "PflegeZG",
          "TVG",
          "TzBfG"
         ],
         "y": [
          0.14809145033359528,
          0.4677540957927704,
          0.030827725306153297,
          0.053500428795814514,
          0,
          0.2319849580526352,
          0.16457247734069824,
          0.38341814279556274,
          0.22429464757442474,
          0.05158162862062454,
          0.175314262509346,
          0.0737602710723877
         ]
        },
        {
         "name": "BeamtenR",
         "type": "bar",
         "x": [
          "AEntG",
          "AGG",
          "ArbZG",
          "AÜG",
          "BUrlG",
          "EntgTranspG",
          "FPfZG",
          "KSchG",
          "MiLoG",
          "PflegeZG",
          "TVG",
          "TzBfG"
         ],
         "y": [
          0.011264256201684475,
          0.05622698366641998,
          0.048492830246686935,
          0,
          0.44034698605537415,
          0.01094707753509283,
          0.3695436716079712,
          0.047232065349817276,
          0.013121147640049458,
          0.5061696767807007,
          0,
          0.23029594123363495
         ]
        },
        {
         "name": "UmweltR",
         "type": "bar",
         "x": [
          "AEntG",
          "AGG",
          "ArbZG",
          "AÜG",
          "BUrlG",
          "EntgTranspG",
          "FPfZG",
          "KSchG",
          "MiLoG",
          "PflegeZG",
          "TVG",
          "TzBfG"
         ],
         "y": [
          0.250984251499176,
          0.24950315058231354,
          0.2997978925704956,
          0.12064079195261002,
          0.1979229748249054,
          0.08633661270141602,
          0.03093281015753746,
          0.07522813975811005,
          0.1272774189710617,
          0.0727287158370018,
          0.15694180130958557,
          0.06522863358259201
         ]
        },
        {
         "name": "GesR",
         "type": "bar",
         "x": [
          "AEntG",
          "AGG",
          "ArbZG",
          "AÜG",
          "BUrlG",
          "EntgTranspG",
          "FPfZG",
          "KSchG",
          "MiLoG",
          "PflegeZG",
          "TVG",
          "TzBfG"
         ],
         "y": [
          0.022468747571110725,
          0.0633600503206253,
          0,
          0.14851126074790955,
          0,
          0.03513161465525627,
          0.08660626411437988,
          0.12149661779403687,
          0.03165324032306671,
          0.041049107909202576,
          0.04722007364034653,
          0.08524056524038315
         ]
        },
        {
         "name": "BahnR",
         "type": "bar",
         "x": [
          "AEntG",
          "AGG",
          "ArbZG",
          "AÜG",
          "BUrlG",
          "EntgTranspG",
          "FPfZG",
          "KSchG",
          "MiLoG",
          "PflegeZG",
          "TVG",
          "TzBfG"
         ],
         "y": [
          0.08752980828285217,
          0.044504813849925995,
          0.02933625690639019,
          0.025308804586529732,
          0,
          0.2789957821369171,
          0.015742652118206024,
          0,
          0.09943079203367233,
          0,
          0.02032659202814102,
          0.022049391642212868
         ]
        },
        {
         "name": "StrafR",
         "type": "bar",
         "x": [
          "AEntG",
          "AGG",
          "ArbZG",
          "AÜG",
          "BUrlG",
          "EntgTranspG",
          "FPfZG",
          "KSchG",
          "MiLoG",
          "PflegeZG",
          "TVG",
          "TzBfG"
         ],
         "y": [
          0.06693238019943237,
          0,
          0.037758324295282364,
          0.16947051882743835,
          0,
          0.018111227080225945,
          0,
          0,
          0.12609067559242249,
          0,
          0,
          0.01764894276857376
         ]
        },
        {
         "name": "BerufsR",
         "type": "bar",
         "x": [
          "AEntG",
          "AGG",
          "ArbZG",
          "AÜG",
          "BUrlG",
          "EntgTranspG",
          "FPfZG",
          "KSchG",
          "MiLoG",
          "PflegeZG",
          "TVG",
          "TzBfG"
         ],
         "y": [
          0.02336268685758114,
          0,
          0,
          0.24919073283672333,
          0,
          0,
          0,
          0,
          0.04853292927145958,
          0,
          0,
          0
         ]
        },
        {
         "name": "ProzessR",
         "type": "bar",
         "x": [
          "AEntG",
          "AGG",
          "ArbZG",
          "AÜG",
          "BUrlG",
          "EntgTranspG",
          "FPfZG",
          "KSchG",
          "MiLoG",
          "PflegeZG",
          "TVG",
          "TzBfG"
         ],
         "y": [
          0,
          0.030582476407289505,
          0,
          0,
          0,
          0,
          0,
          0.077669657766819,
          0.030074581503868103,
          0,
          0.09684594720602036,
          0
         ]
        },
        {
         "name": "MedR",
         "type": "bar",
         "x": [
          "AEntG",
          "AGG",
          "ArbZG",
          "AÜG",
          "BUrlG",
          "EntgTranspG",
          "FPfZG",
          "KSchG",
          "MiLoG",
          "PflegeZG",
          "TVG",
          "TzBfG"
         ],
         "y": [
          0.05227607861161232,
          0,
          0.020248394459486008,
          0,
          0,
          0,
          0,
          0,
          0.0241406187415123,
          0.038768116384744644,
          0,
          0
         ]
        }
       ],
       "layout": {
        "barmode": "stack",
        "font": {
         "family": "Times New Roman",
         "size": 12
        },
        "template": {
         "data": {
          "bar": [
           {
            "error_x": {
             "color": "#2a3f5f"
            },
            "error_y": {
             "color": "#2a3f5f"
            },
            "marker": {
             "line": {
              "color": "#E5ECF6",
              "width": 0.5
             }
            },
            "type": "bar"
           }
          ],
          "barpolar": [
           {
            "marker": {
             "line": {
              "color": "#E5ECF6",
              "width": 0.5
             }
            },
            "type": "barpolar"
           }
          ],
          "carpet": [
           {
            "aaxis": {
             "endlinecolor": "#2a3f5f",
             "gridcolor": "white",
             "linecolor": "white",
             "minorgridcolor": "white",
             "startlinecolor": "#2a3f5f"
            },
            "baxis": {
             "endlinecolor": "#2a3f5f",
             "gridcolor": "white",
             "linecolor": "white",
             "minorgridcolor": "white",
             "startlinecolor": "#2a3f5f"
            },
            "type": "carpet"
           }
          ],
          "choropleth": [
           {
            "colorbar": {
             "outlinewidth": 0,
             "ticks": ""
            },
            "type": "choropleth"
           }
          ],
          "contour": [
           {
            "colorbar": {
             "outlinewidth": 0,
             "ticks": ""
            },
            "colorscale": [
             [
              0,
              "#0d0887"
             ],
             [
              0.1111111111111111,
              "#46039f"
             ],
             [
              0.2222222222222222,
              "#7201a8"
             ],
             [
              0.3333333333333333,
              "#9c179e"
             ],
             [
              0.4444444444444444,
              "#bd3786"
             ],
             [
              0.5555555555555556,
              "#d8576b"
             ],
             [
              0.6666666666666666,
              "#ed7953"
             ],
             [
              0.7777777777777778,
              "#fb9f3a"
             ],
             [
              0.8888888888888888,
              "#fdca26"
             ],
             [
              1,
              "#f0f921"
             ]
            ],
            "type": "contour"
           }
          ],
          "contourcarpet": [
           {
            "colorbar": {
             "outlinewidth": 0,
             "ticks": ""
            },
            "type": "contourcarpet"
           }
          ],
          "heatmap": [
           {
            "colorbar": {
             "outlinewidth": 0,
             "ticks": ""
            },
            "colorscale": [
             [
              0,
              "#0d0887"
             ],
             [
              0.1111111111111111,
              "#46039f"
             ],
             [
              0.2222222222222222,
              "#7201a8"
             ],
             [
              0.3333333333333333,
              "#9c179e"
             ],
             [
              0.4444444444444444,
              "#bd3786"
             ],
             [
              0.5555555555555556,
              "#d8576b"
             ],
             [
              0.6666666666666666,
              "#ed7953"
             ],
             [
              0.7777777777777778,
              "#fb9f3a"
             ],
             [
              0.8888888888888888,
              "#fdca26"
             ],
             [
              1,
              "#f0f921"
             ]
            ],
            "type": "heatmap"
           }
          ],
          "heatmapgl": [
           {
            "colorbar": {
             "outlinewidth": 0,
             "ticks": ""
            },
            "colorscale": [
             [
              0,
              "#0d0887"
             ],
             [
              0.1111111111111111,
              "#46039f"
             ],
             [
              0.2222222222222222,
              "#7201a8"
             ],
             [
              0.3333333333333333,
              "#9c179e"
             ],
             [
              0.4444444444444444,
              "#bd3786"
             ],
             [
              0.5555555555555556,
              "#d8576b"
             ],
             [
              0.6666666666666666,
              "#ed7953"
             ],
             [
              0.7777777777777778,
              "#fb9f3a"
             ],
             [
              0.8888888888888888,
              "#fdca26"
             ],
             [
              1,
              "#f0f921"
             ]
            ],
            "type": "heatmapgl"
           }
          ],
          "histogram": [
           {
            "marker": {
             "colorbar": {
              "outlinewidth": 0,
              "ticks": ""
             }
            },
            "type": "histogram"
           }
          ],
          "histogram2d": [
           {
            "colorbar": {
             "outlinewidth": 0,
             "ticks": ""
            },
            "colorscale": [
             [
              0,
              "#0d0887"
             ],
             [
              0.1111111111111111,
              "#46039f"
             ],
             [
              0.2222222222222222,
              "#7201a8"
             ],
             [
              0.3333333333333333,
              "#9c179e"
             ],
             [
              0.4444444444444444,
              "#bd3786"
             ],
             [
              0.5555555555555556,
              "#d8576b"
             ],
             [
              0.6666666666666666,
              "#ed7953"
             ],
             [
              0.7777777777777778,
              "#fb9f3a"
             ],
             [
              0.8888888888888888,
              "#fdca26"
             ],
             [
              1,
              "#f0f921"
             ]
            ],
            "type": "histogram2d"
           }
          ],
          "histogram2dcontour": [
           {
            "colorbar": {
             "outlinewidth": 0,
             "ticks": ""
            },
            "colorscale": [
             [
              0,
              "#0d0887"
             ],
             [
              0.1111111111111111,
              "#46039f"
             ],
             [
              0.2222222222222222,
              "#7201a8"
             ],
             [
              0.3333333333333333,
              "#9c179e"
             ],
             [
              0.4444444444444444,
              "#bd3786"
             ],
             [
              0.5555555555555556,
              "#d8576b"
             ],
             [
              0.6666666666666666,
              "#ed7953"
             ],
             [
              0.7777777777777778,
              "#fb9f3a"
             ],
             [
              0.8888888888888888,
              "#fdca26"
             ],
             [
              1,
              "#f0f921"
             ]
            ],
            "type": "histogram2dcontour"
           }
          ],
          "mesh3d": [
           {
            "colorbar": {
             "outlinewidth": 0,
             "ticks": ""
            },
            "type": "mesh3d"
           }
          ],
          "parcoords": [
           {
            "line": {
             "colorbar": {
              "outlinewidth": 0,
              "ticks": ""
             }
            },
            "type": "parcoords"
           }
          ],
          "pie": [
           {
            "automargin": true,
            "type": "pie"
           }
          ],
          "scatter": [
           {
            "marker": {
             "colorbar": {
              "outlinewidth": 0,
              "ticks": ""
             }
            },
            "type": "scatter"
           }
          ],
          "scatter3d": [
           {
            "line": {
             "colorbar": {
              "outlinewidth": 0,
              "ticks": ""
             }
            },
            "marker": {
             "colorbar": {
              "outlinewidth": 0,
              "ticks": ""
             }
            },
            "type": "scatter3d"
           }
          ],
          "scattercarpet": [
           {
            "marker": {
             "colorbar": {
              "outlinewidth": 0,
              "ticks": ""
             }
            },
            "type": "scattercarpet"
           }
          ],
          "scattergeo": [
           {
            "marker": {
             "colorbar": {
              "outlinewidth": 0,
              "ticks": ""
             }
            },
            "type": "scattergeo"
           }
          ],
          "scattergl": [
           {
            "marker": {
             "colorbar": {
              "outlinewidth": 0,
              "ticks": ""
             }
            },
            "type": "scattergl"
           }
          ],
          "scattermapbox": [
           {
            "marker": {
             "colorbar": {
              "outlinewidth": 0,
              "ticks": ""
             }
            },
            "type": "scattermapbox"
           }
          ],
          "scatterpolar": [
           {
            "marker": {
             "colorbar": {
              "outlinewidth": 0,
              "ticks": ""
             }
            },
            "type": "scatterpolar"
           }
          ],
          "scatterpolargl": [
           {
            "marker": {
             "colorbar": {
              "outlinewidth": 0,
              "ticks": ""
             }
            },
            "type": "scatterpolargl"
           }
          ],
          "scatterternary": [
           {
            "marker": {
             "colorbar": {
              "outlinewidth": 0,
              "ticks": ""
             }
            },
            "type": "scatterternary"
           }
          ],
          "surface": [
           {
            "colorbar": {
             "outlinewidth": 0,
             "ticks": ""
            },
            "colorscale": [
             [
              0,
              "#0d0887"
             ],
             [
              0.1111111111111111,
              "#46039f"
             ],
             [
              0.2222222222222222,
              "#7201a8"
             ],
             [
              0.3333333333333333,
              "#9c179e"
             ],
             [
              0.4444444444444444,
              "#bd3786"
             ],
             [
              0.5555555555555556,
              "#d8576b"
             ],
             [
              0.6666666666666666,
              "#ed7953"
             ],
             [
              0.7777777777777778,
              "#fb9f3a"
             ],
             [
              0.8888888888888888,
              "#fdca26"
             ],
             [
              1,
              "#f0f921"
             ]
            ],
            "type": "surface"
           }
          ],
          "table": [
           {
            "cells": {
             "fill": {
              "color": "#EBF0F8"
             },
             "line": {
              "color": "white"
             }
            },
            "header": {
             "fill": {
              "color": "#C8D4E3"
             },
             "line": {
              "color": "white"
             }
            },
            "type": "table"
           }
          ]
         },
         "layout": {
          "annotationdefaults": {
           "arrowcolor": "#2a3f5f",
           "arrowhead": 0,
           "arrowwidth": 1
          },
          "coloraxis": {
           "colorbar": {
            "outlinewidth": 0,
            "ticks": ""
           }
          },
          "colorscale": {
           "diverging": [
            [
             0,
             "#8e0152"
            ],
            [
             0.1,
             "#c51b7d"
            ],
            [
             0.2,
             "#de77ae"
            ],
            [
             0.3,
             "#f1b6da"
            ],
            [
             0.4,
             "#fde0ef"
            ],
            [
             0.5,
             "#f7f7f7"
            ],
            [
             0.6,
             "#e6f5d0"
            ],
            [
             0.7,
             "#b8e186"
            ],
            [
             0.8,
             "#7fbc41"
            ],
            [
             0.9,
             "#4d9221"
            ],
            [
             1,
             "#276419"
            ]
           ],
           "sequential": [
            [
             0,
             "#0d0887"
            ],
            [
             0.1111111111111111,
             "#46039f"
            ],
            [
             0.2222222222222222,
             "#7201a8"
            ],
            [
             0.3333333333333333,
             "#9c179e"
            ],
            [
             0.4444444444444444,
             "#bd3786"
            ],
            [
             0.5555555555555556,
             "#d8576b"
            ],
            [
             0.6666666666666666,
             "#ed7953"
            ],
            [
             0.7777777777777778,
             "#fb9f3a"
            ],
            [
             0.8888888888888888,
             "#fdca26"
            ],
            [
             1,
             "#f0f921"
            ]
           ],
           "sequentialminus": [
            [
             0,
             "#0d0887"
            ],
            [
             0.1111111111111111,
             "#46039f"
            ],
            [
             0.2222222222222222,
             "#7201a8"
            ],
            [
             0.3333333333333333,
             "#9c179e"
            ],
            [
             0.4444444444444444,
             "#bd3786"
            ],
            [
             0.5555555555555556,
             "#d8576b"
            ],
            [
             0.6666666666666666,
             "#ed7953"
            ],
            [
             0.7777777777777778,
             "#fb9f3a"
            ],
            [
             0.8888888888888888,
             "#fdca26"
            ],
            [
             1,
             "#f0f921"
            ]
           ]
          },
          "colorway": [
           "#636efa",
           "#EF553B",
           "#00cc96",
           "#ab63fa",
           "#FFA15A",
           "#19d3f3",
           "#FF6692",
           "#B6E880",
           "#FF97FF",
           "#FECB52"
          ],
          "font": {
           "color": "#2a3f5f"
          },
          "geo": {
           "bgcolor": "white",
           "lakecolor": "white",
           "landcolor": "#E5ECF6",
           "showlakes": true,
           "showland": true,
           "subunitcolor": "white"
          },
          "hoverlabel": {
           "align": "left"
          },
          "hovermode": "closest",
          "mapbox": {
           "style": "light"
          },
          "paper_bgcolor": "white",
          "plot_bgcolor": "#E5ECF6",
          "polar": {
           "angularaxis": {
            "gridcolor": "white",
            "linecolor": "white",
            "ticks": ""
           },
           "bgcolor": "#E5ECF6",
           "radialaxis": {
            "gridcolor": "white",
            "linecolor": "white",
            "ticks": ""
           }
          },
          "scene": {
           "xaxis": {
            "backgroundcolor": "#E5ECF6",
            "gridcolor": "white",
            "gridwidth": 2,
            "linecolor": "white",
            "showbackground": true,
            "ticks": "",
            "zerolinecolor": "white"
           },
           "yaxis": {
            "backgroundcolor": "#E5ECF6",
            "gridcolor": "white",
            "gridwidth": 2,
            "linecolor": "white",
            "showbackground": true,
            "ticks": "",
            "zerolinecolor": "white"
           },
           "zaxis": {
            "backgroundcolor": "#E5ECF6",
            "gridcolor": "white",
            "gridwidth": 2,
            "linecolor": "white",
            "showbackground": true,
            "ticks": "",
            "zerolinecolor": "white"
           }
          },
          "shapedefaults": {
           "line": {
            "color": "#2a3f5f"
           }
          },
          "ternary": {
           "aaxis": {
            "gridcolor": "white",
            "linecolor": "white",
            "ticks": ""
           },
           "baxis": {
            "gridcolor": "white",
            "linecolor": "white",
            "ticks": ""
           },
           "bgcolor": "#E5ECF6",
           "caxis": {
            "gridcolor": "white",
            "linecolor": "white",
            "ticks": ""
           }
          },
          "title": {
           "x": 0.05
          },
          "xaxis": {
           "automargin": true,
           "gridcolor": "white",
           "linecolor": "white",
           "ticks": "",
           "title": {
            "standoff": 15
           },
           "zerolinecolor": "white",
           "zerolinewidth": 2
          },
          "yaxis": {
           "automargin": true,
           "gridcolor": "white",
           "linecolor": "white",
           "ticks": "",
           "title": {
            "standoff": 15
           },
           "zerolinecolor": "white",
           "zerolinewidth": 2
          }
         }
        }
       }
      }
     },
     "metadata": {}
    },
    {
     "output_type": "display_data",
     "data": {
      "application/vnd.plotly.v1+json": {
       "config": {
        "plotlyServerURL": "https://plot.ly"
       },
       "data": [
        {
         "name": "GesR",
         "type": "bar",
         "x": [
          "BBankG",
          "FinDAG",
          "KWG",
          "FKAG",
          "ZAG",
          "AnlEntG",
          "EinSiG",
          "ZKG",
          "GwG",
          "PfandBG",
          "BauSparkG",
          "FMStFG",
          "FMStBG",
          "KredReorgG",
          "RStruktFG",
          "SAG",
          "ScheckG",
          "WG"
         ],
         "y": [
          0.19662563502788544,
          0.1574227511882782,
          0.30848079919815063,
          0.23448403179645538,
          0.35462307929992676,
          0.09667852520942688,
          0.06560691446065903,
          0.45197874307632446,
          0.13232144713401794,
          0.5168288946151733,
          0.21355894207954407,
          0.2928081452846527,
          0.7102839350700378,
          0.40566426515579224,
          0.16565737128257751,
          0.3084026575088501,
          0.8940567970275879,
          0.852242112159729
         ]
        },
        {
         "name": "FinMarktR",
         "type": "bar",
         "x": [
          "BBankG",
          "FinDAG",
          "KWG",
          "FKAG",
          "ZAG",
          "AnlEntG",
          "EinSiG",
          "ZKG",
          "GwG",
          "PfandBG",
          "BauSparkG",
          "FMStFG",
          "FMStBG",
          "KredReorgG",
          "RStruktFG",
          "SAG",
          "ScheckG",
          "WG"
         ],
         "y": [
          0.1816413849592209,
          0.22648145258426666,
          0.46991661190986633,
          0.5495625734329224,
          0.4209713339805603,
          0.8070601224899292,
          0.7949697375297546,
          0.21174883842468262,
          0.29539212584495544,
          0.13497741520404816,
          0.49781808257102966,
          0.1413758099079132,
          0.036752086132764816,
          0.17508873343467712,
          0.46142011880874634,
          0.35958731174468994,
          0,
          0
         ]
        },
        {
         "name": "ArbR",
         "type": "bar",
         "x": [
          "BBankG",
          "FinDAG",
          "KWG",
          "FKAG",
          "ZAG",
          "AnlEntG",
          "EinSiG",
          "ZKG",
          "GwG",
          "PfandBG",
          "BauSparkG",
          "FMStFG",
          "FMStBG",
          "KredReorgG",
          "RStruktFG",
          "SAG",
          "ScheckG",
          "WG"
         ],
         "y": [
          0.05437937378883362,
          0.16898733377456665,
          0.030592087656259537,
          0.023692691698670387,
          0,
          0.02529604732990265,
          0.04113775119185448,
          0.012216577306389809,
          0,
          0.026029454544186592,
          0.07088124006986618,
          0.28503257036209106,
          0.17596246302127838,
          0.013094467110931873,
          0.20328021049499512,
          0.018302151933312416,
          0,
          0
         ]
        },
        {
         "name": "BahnR",
         "type": "bar",
         "x": [
          "BBankG",
          "FinDAG",
          "KWG",
          "FKAG",
          "ZAG",
          "AnlEntG",
          "EinSiG",
          "ZKG",
          "GwG",
          "PfandBG",
          "BauSparkG",
          "FMStFG",
          "FMStBG",
          "KredReorgG",
          "RStruktFG",
          "SAG",
          "ScheckG",
          "WG"
         ],
         "y": [
          0,
          0.03537323325872421,
          0.10336796939373016,
          0.1403624713420868,
          0.1366657316684723,
          0,
          0.020106585696339607,
          0.11365950852632523,
          0.08149925619363785,
          0.04306453466415405,
          0.05654850974678993,
          0.03635573387145996,
          0.021072305738925934,
          0,
          0.07221367955207825,
          0.18621867895126343,
          0,
          0
         ]
        },
        {
         "name": "OrganR",
         "type": "bar",
         "x": [
          "BBankG",
          "FinDAG",
          "KWG",
          "FKAG",
          "ZAG",
          "AnlEntG",
          "EinSiG",
          "ZKG",
          "GwG",
          "PfandBG",
          "BauSparkG",
          "FMStFG",
          "FMStBG",
          "KredReorgG",
          "RStruktFG",
          "SAG",
          "ScheckG",
          "WG"
         ],
         "y": [
          0.19003701210021973,
          0.1733386367559433,
          0.012511164881289005,
          0.01826656609773636,
          0,
          0,
          0,
          0,
          0,
          0,
          0.018738092854619026,
          0.08567752689123154,
          0,
          0.05658547580242157,
          0.013585379347205162,
          0.02094079554080963,
          0,
          0.029516741633415222
         ]
        },
        {
         "name": "StrafR",
         "type": "bar",
         "x": [
          "BBankG",
          "FinDAG",
          "KWG",
          "FKAG",
          "ZAG",
          "AnlEntG",
          "EinSiG",
          "ZKG",
          "GwG",
          "PfandBG",
          "BauSparkG",
          "FMStFG",
          "FMStBG",
          "KredReorgG",
          "RStruktFG",
          "SAG",
          "ScheckG",
          "WG"
         ],
         "y": [
          0.02655497007071972,
          0,
          0.03036533296108246,
          0,
          0.03737638145685196,
          0.013573640026152134,
          0,
          0.014734580181539059,
          0.3359817862510681,
          0,
          0,
          0,
          0,
          0,
          0,
          0.013739608228206635,
          0,
          0
         ]
        },
        {
         "name": "InsolvenzR",
         "type": "bar",
         "x": [
          "BBankG",
          "FinDAG",
          "KWG",
          "FKAG",
          "ZAG",
          "AnlEntG",
          "EinSiG",
          "ZKG",
          "GwG",
          "PfandBG",
          "BauSparkG",
          "FMStFG",
          "FMStBG",
          "KredReorgG",
          "RStruktFG",
          "SAG",
          "ScheckG",
          "WG"
         ],
         "y": [
          0.022472672164440155,
          0,
          0,
          0,
          0,
          0.021792424842715263,
          0,
          0,
          0,
          0.17175254225730896,
          0.027680886909365654,
          0,
          0,
          0.16654102504253387,
          0.010985166765749454,
          0.01191102433949709,
          0,
          0
         ]
        },
        {
         "name": "ProzessR",
         "type": "bar",
         "x": [
          "BBankG",
          "FinDAG",
          "KWG",
          "FKAG",
          "ZAG",
          "AnlEntG",
          "EinSiG",
          "ZKG",
          "GwG",
          "PfandBG",
          "BauSparkG",
          "FMStFG",
          "FMStBG",
          "KredReorgG",
          "RStruktFG",
          "SAG",
          "ScheckG",
          "WG"
         ],
         "y": [
          0.03613158315420151,
          0.02091645821928978,
          0,
          0,
          0,
          0,
          0,
          0,
          0.01623949594795704,
          0,
          0,
          0.013604173436760902,
          0,
          0.14656312763690948,
          0.011603105813264847,
          0,
          0.02963675931096077,
          0.042071886360645294
         ]
        },
        {
         "name": "SteuerR",
         "type": "bar",
         "x": [
          "BBankG",
          "FinDAG",
          "KWG",
          "FKAG",
          "ZAG",
          "AnlEntG",
          "EinSiG",
          "ZKG",
          "GwG",
          "PfandBG",
          "BauSparkG",
          "FMStFG",
          "FMStBG",
          "KredReorgG",
          "RStruktFG",
          "SAG",
          "ScheckG",
          "WG"
         ],
         "y": [
          0.027687305584549904,
          0.06724322587251663,
          0,
          0,
          0,
          0,
          0,
          0,
          0.011540563777089119,
          0,
          0.020096493884921074,
          0.09675419330596924,
          0,
          0,
          0.03180147334933281,
          0,
          0,
          0
         ]
        },
        {
         "name": "BeamtenR",
         "type": "bar",
         "x": [
          "BBankG",
          "FinDAG",
          "KWG",
          "FKAG",
          "ZAG",
          "AnlEntG",
          "EinSiG",
          "ZKG",
          "GwG",
          "PfandBG",
          "BauSparkG",
          "FMStFG",
          "FMStBG",
          "KredReorgG",
          "RStruktFG",
          "SAG",
          "ScheckG",
          "WG"
         ],
         "y": [
          0.14437367022037506,
          0.05417078360915184,
          0,
          0,
          0,
          0,
          0.014978555031120777,
          0,
          0,
          0,
          0,
          0.04108128696680069,
          0,
          0,
          0,
          0,
          0,
          0
         ]
        }
       ],
       "layout": {
        "barmode": "stack",
        "font": {
         "family": "Times New Roman",
         "size": 12
        },
        "template": {
         "data": {
          "bar": [
           {
            "error_x": {
             "color": "#2a3f5f"
            },
            "error_y": {
             "color": "#2a3f5f"
            },
            "marker": {
             "line": {
              "color": "#E5ECF6",
              "width": 0.5
             }
            },
            "type": "bar"
           }
          ],
          "barpolar": [
           {
            "marker": {
             "line": {
              "color": "#E5ECF6",
              "width": 0.5
             }
            },
            "type": "barpolar"
           }
          ],
          "carpet": [
           {
            "aaxis": {
             "endlinecolor": "#2a3f5f",
             "gridcolor": "white",
             "linecolor": "white",
             "minorgridcolor": "white",
             "startlinecolor": "#2a3f5f"
            },
            "baxis": {
             "endlinecolor": "#2a3f5f",
             "gridcolor": "white",
             "linecolor": "white",
             "minorgridcolor": "white",
             "startlinecolor": "#2a3f5f"
            },
            "type": "carpet"
           }
          ],
          "choropleth": [
           {
            "colorbar": {
             "outlinewidth": 0,
             "ticks": ""
            },
            "type": "choropleth"
           }
          ],
          "contour": [
           {
            "colorbar": {
             "outlinewidth": 0,
             "ticks": ""
            },
            "colorscale": [
             [
              0,
              "#0d0887"
             ],
             [
              0.1111111111111111,
              "#46039f"
             ],
             [
              0.2222222222222222,
              "#7201a8"
             ],
             [
              0.3333333333333333,
              "#9c179e"
             ],
             [
              0.4444444444444444,
              "#bd3786"
             ],
             [
              0.5555555555555556,
              "#d8576b"
             ],
             [
              0.6666666666666666,
              "#ed7953"
             ],
             [
              0.7777777777777778,
              "#fb9f3a"
             ],
             [
              0.8888888888888888,
              "#fdca26"
             ],
             [
              1,
              "#f0f921"
             ]
            ],
            "type": "contour"
           }
          ],
          "contourcarpet": [
           {
            "colorbar": {
             "outlinewidth": 0,
             "ticks": ""
            },
            "type": "contourcarpet"
           }
          ],
          "heatmap": [
           {
            "colorbar": {
             "outlinewidth": 0,
             "ticks": ""
            },
            "colorscale": [
             [
              0,
              "#0d0887"
             ],
             [
              0.1111111111111111,
              "#46039f"
             ],
             [
              0.2222222222222222,
              "#7201a8"
             ],
             [
              0.3333333333333333,
              "#9c179e"
             ],
             [
              0.4444444444444444,
              "#bd3786"
             ],
             [
              0.5555555555555556,
              "#d8576b"
             ],
             [
              0.6666666666666666,
              "#ed7953"
             ],
             [
              0.7777777777777778,
              "#fb9f3a"
             ],
             [
              0.8888888888888888,
              "#fdca26"
             ],
             [
              1,
              "#f0f921"
             ]
            ],
            "type": "heatmap"
           }
          ],
          "heatmapgl": [
           {
            "colorbar": {
             "outlinewidth": 0,
             "ticks": ""
            },
            "colorscale": [
             [
              0,
              "#0d0887"
             ],
             [
              0.1111111111111111,
              "#46039f"
             ],
             [
              0.2222222222222222,
              "#7201a8"
             ],
             [
              0.3333333333333333,
              "#9c179e"
             ],
             [
              0.4444444444444444,
              "#bd3786"
             ],
             [
              0.5555555555555556,
              "#d8576b"
             ],
             [
              0.6666666666666666,
              "#ed7953"
             ],
             [
              0.7777777777777778,
              "#fb9f3a"
             ],
             [
              0.8888888888888888,
              "#fdca26"
             ],
             [
              1,
              "#f0f921"
             ]
            ],
            "type": "heatmapgl"
           }
          ],
          "histogram": [
           {
            "marker": {
             "colorbar": {
              "outlinewidth": 0,
              "ticks": ""
             }
            },
            "type": "histogram"
           }
          ],
          "histogram2d": [
           {
            "colorbar": {
             "outlinewidth": 0,
             "ticks": ""
            },
            "colorscale": [
             [
              0,
              "#0d0887"
             ],
             [
              0.1111111111111111,
              "#46039f"
             ],
             [
              0.2222222222222222,
              "#7201a8"
             ],
             [
              0.3333333333333333,
              "#9c179e"
             ],
             [
              0.4444444444444444,
              "#bd3786"
             ],
             [
              0.5555555555555556,
              "#d8576b"
             ],
             [
              0.6666666666666666,
              "#ed7953"
             ],
             [
              0.7777777777777778,
              "#fb9f3a"
             ],
             [
              0.8888888888888888,
              "#fdca26"
             ],
             [
              1,
              "#f0f921"
             ]
            ],
            "type": "histogram2d"
           }
          ],
          "histogram2dcontour": [
           {
            "colorbar": {
             "outlinewidth": 0,
             "ticks": ""
            },
            "colorscale": [
             [
              0,
              "#0d0887"
             ],
             [
              0.1111111111111111,
              "#46039f"
             ],
             [
              0.2222222222222222,
              "#7201a8"
             ],
             [
              0.3333333333333333,
              "#9c179e"
             ],
             [
              0.4444444444444444,
              "#bd3786"
             ],
             [
              0.5555555555555556,
              "#d8576b"
             ],
             [
              0.6666666666666666,
              "#ed7953"
             ],
             [
              0.7777777777777778,
              "#fb9f3a"
             ],
             [
              0.8888888888888888,
              "#fdca26"
             ],
             [
              1,
              "#f0f921"
             ]
            ],
            "type": "histogram2dcontour"
           }
          ],
          "mesh3d": [
           {
            "colorbar": {
             "outlinewidth": 0,
             "ticks": ""
            },
            "type": "mesh3d"
           }
          ],
          "parcoords": [
           {
            "line": {
             "colorbar": {
              "outlinewidth": 0,
              "ticks": ""
             }
            },
            "type": "parcoords"
           }
          ],
          "pie": [
           {
            "automargin": true,
            "type": "pie"
           }
          ],
          "scatter": [
           {
            "marker": {
             "colorbar": {
              "outlinewidth": 0,
              "ticks": ""
             }
            },
            "type": "scatter"
           }
          ],
          "scatter3d": [
           {
            "line": {
             "colorbar": {
              "outlinewidth": 0,
              "ticks": ""
             }
            },
            "marker": {
             "colorbar": {
              "outlinewidth": 0,
              "ticks": ""
             }
            },
            "type": "scatter3d"
           }
          ],
          "scattercarpet": [
           {
            "marker": {
             "colorbar": {
              "outlinewidth": 0,
              "ticks": ""
             }
            },
            "type": "scattercarpet"
           }
          ],
          "scattergeo": [
           {
            "marker": {
             "colorbar": {
              "outlinewidth": 0,
              "ticks": ""
             }
            },
            "type": "scattergeo"
           }
          ],
          "scattergl": [
           {
            "marker": {
             "colorbar": {
              "outlinewidth": 0,
              "ticks": ""
             }
            },
            "type": "scattergl"
           }
          ],
          "scattermapbox": [
           {
            "marker": {
             "colorbar": {
              "outlinewidth": 0,
              "ticks": ""
             }
            },
            "type": "scattermapbox"
           }
          ],
          "scatterpolar": [
           {
            "marker": {
             "colorbar": {
              "outlinewidth": 0,
              "ticks": ""
             }
            },
            "type": "scatterpolar"
           }
          ],
          "scatterpolargl": [
           {
            "marker": {
             "colorbar": {
              "outlinewidth": 0,
              "ticks": ""
             }
            },
            "type": "scatterpolargl"
           }
          ],
          "scatterternary": [
           {
            "marker": {
             "colorbar": {
              "outlinewidth": 0,
              "ticks": ""
             }
            },
            "type": "scatterternary"
           }
          ],
          "surface": [
           {
            "colorbar": {
             "outlinewidth": 0,
             "ticks": ""
            },
            "colorscale": [
             [
              0,
              "#0d0887"
             ],
             [
              0.1111111111111111,
              "#46039f"
             ],
             [
              0.2222222222222222,
              "#7201a8"
             ],
             [
              0.3333333333333333,
              "#9c179e"
             ],
             [
              0.4444444444444444,
              "#bd3786"
             ],
             [
              0.5555555555555556,
              "#d8576b"
             ],
             [
              0.6666666666666666,
              "#ed7953"
             ],
             [
              0.7777777777777778,
              "#fb9f3a"
             ],
             [
              0.8888888888888888,
              "#fdca26"
             ],
             [
              1,
              "#f0f921"
             ]
            ],
            "type": "surface"
           }
          ],
          "table": [
           {
            "cells": {
             "fill": {
              "color": "#EBF0F8"
             },
             "line": {
              "color": "white"
             }
            },
            "header": {
             "fill": {
              "color": "#C8D4E3"
             },
             "line": {
              "color": "white"
             }
            },
            "type": "table"
           }
          ]
         },
         "layout": {
          "annotationdefaults": {
           "arrowcolor": "#2a3f5f",
           "arrowhead": 0,
           "arrowwidth": 1
          },
          "coloraxis": {
           "colorbar": {
            "outlinewidth": 0,
            "ticks": ""
           }
          },
          "colorscale": {
           "diverging": [
            [
             0,
             "#8e0152"
            ],
            [
             0.1,
             "#c51b7d"
            ],
            [
             0.2,
             "#de77ae"
            ],
            [
             0.3,
             "#f1b6da"
            ],
            [
             0.4,
             "#fde0ef"
            ],
            [
             0.5,
             "#f7f7f7"
            ],
            [
             0.6,
             "#e6f5d0"
            ],
            [
             0.7,
             "#b8e186"
            ],
            [
             0.8,
             "#7fbc41"
            ],
            [
             0.9,
             "#4d9221"
            ],
            [
             1,
             "#276419"
            ]
           ],
           "sequential": [
            [
             0,
             "#0d0887"
            ],
            [
             0.1111111111111111,
             "#46039f"
            ],
            [
             0.2222222222222222,
             "#7201a8"
            ],
            [
             0.3333333333333333,
             "#9c179e"
            ],
            [
             0.4444444444444444,
             "#bd3786"
            ],
            [
             0.5555555555555556,
             "#d8576b"
            ],
            [
             0.6666666666666666,
             "#ed7953"
            ],
            [
             0.7777777777777778,
             "#fb9f3a"
            ],
            [
             0.8888888888888888,
             "#fdca26"
            ],
            [
             1,
             "#f0f921"
            ]
           ],
           "sequentialminus": [
            [
             0,
             "#0d0887"
            ],
            [
             0.1111111111111111,
             "#46039f"
            ],
            [
             0.2222222222222222,
             "#7201a8"
            ],
            [
             0.3333333333333333,
             "#9c179e"
            ],
            [
             0.4444444444444444,
             "#bd3786"
            ],
            [
             0.5555555555555556,
             "#d8576b"
            ],
            [
             0.6666666666666666,
             "#ed7953"
            ],
            [
             0.7777777777777778,
             "#fb9f3a"
            ],
            [
             0.8888888888888888,
             "#fdca26"
            ],
            [
             1,
             "#f0f921"
            ]
           ]
          },
          "colorway": [
           "#636efa",
           "#EF553B",
           "#00cc96",
           "#ab63fa",
           "#FFA15A",
           "#19d3f3",
           "#FF6692",
           "#B6E880",
           "#FF97FF",
           "#FECB52"
          ],
          "font": {
           "color": "#2a3f5f"
          },
          "geo": {
           "bgcolor": "white",
           "lakecolor": "white",
           "landcolor": "#E5ECF6",
           "showlakes": true,
           "showland": true,
           "subunitcolor": "white"
          },
          "hoverlabel": {
           "align": "left"
          },
          "hovermode": "closest",
          "mapbox": {
           "style": "light"
          },
          "paper_bgcolor": "white",
          "plot_bgcolor": "#E5ECF6",
          "polar": {
           "angularaxis": {
            "gridcolor": "white",
            "linecolor": "white",
            "ticks": ""
           },
           "bgcolor": "#E5ECF6",
           "radialaxis": {
            "gridcolor": "white",
            "linecolor": "white",
            "ticks": ""
           }
          },
          "scene": {
           "xaxis": {
            "backgroundcolor": "#E5ECF6",
            "gridcolor": "white",
            "gridwidth": 2,
            "linecolor": "white",
            "showbackground": true,
            "ticks": "",
            "zerolinecolor": "white"
           },
           "yaxis": {
            "backgroundcolor": "#E5ECF6",
            "gridcolor": "white",
            "gridwidth": 2,
            "linecolor": "white",
            "showbackground": true,
            "ticks": "",
            "zerolinecolor": "white"
           },
           "zaxis": {
            "backgroundcolor": "#E5ECF6",
            "gridcolor": "white",
            "gridwidth": 2,
            "linecolor": "white",
            "showbackground": true,
            "ticks": "",
            "zerolinecolor": "white"
           }
          },
          "shapedefaults": {
           "line": {
            "color": "#2a3f5f"
           }
          },
          "ternary": {
           "aaxis": {
            "gridcolor": "white",
            "linecolor": "white",
            "ticks": ""
           },
           "baxis": {
            "gridcolor": "white",
            "linecolor": "white",
            "ticks": ""
           },
           "bgcolor": "#E5ECF6",
           "caxis": {
            "gridcolor": "white",
            "linecolor": "white",
            "ticks": ""
           }
          },
          "title": {
           "x": 0.05
          },
          "xaxis": {
           "automargin": true,
           "gridcolor": "white",
           "linecolor": "white",
           "ticks": "",
           "title": {
            "standoff": 15
           },
           "zerolinecolor": "white",
           "zerolinewidth": 2
          },
          "yaxis": {
           "automargin": true,
           "gridcolor": "white",
           "linecolor": "white",
           "ticks": "",
           "title": {
            "standoff": 15
           },
           "zerolinecolor": "white",
           "zerolinewidth": 2
          }
         }
        }
       }
      }
     },
     "metadata": {}
    },
    {
     "output_type": "display_data",
     "data": {
      "application/vnd.plotly.v1+json": {
       "config": {
        "plotlyServerURL": "https://plot.ly"
       },
       "data": [
        {
         "name": "UmweltR",
         "type": "bar",
         "x": [
          "UBAG",
          "DBUStiftG",
          "UStatG",
          "UVPG",
          "UIG",
          "UAG",
          "USchadG",
          "BfNatSchG",
          "BNatSchG",
          "TierSchG",
          "BBodSchG",
          "WHG",
          "AbwAG",
          "WRMG",
          "KrWG",
          "ElektroG",
          "BattG",
          "VerpackG",
          "BImSchG",
          "BzBlG",
          "TEHG",
          "SchlärmschG",
          "KSG",
          "BEHG",
          "BfkEG",
          "AtG",
          "EnEG",
          "StromStG",
          "EVPG",
          "EEWärmeG",
          "EmoG",
          "CsgG",
          "ChemG",
          "GenTG",
          "UmweltHG",
          "UmwRG"
         ],
         "y": [
          0.5598693490028381,
          0.4039132297039032,
          0.30568379163742065,
          0.27458518743515015,
          0.3870439827442169,
          0.5125458240509033,
          0.629460334777832,
          0.45512980222702026,
          0.23280204832553864,
          0.33755093812942505,
          0.5723322033882141,
          0.4093964397907257,
          0.7730416655540466,
          0.5290270447731018,
          0.6058751344680786,
          0.0755709558725357,
          0.06918608397245407,
          0.1412380486726761,
          0.7583991885185242,
          0.6360575556755066,
          0.23803018033504486,
          0.04086638242006302,
          0.30203181505203247,
          0.24383506178855896,
          0.4895733892917633,
          0.6660415530204773,
          0.3599492311477661,
          0.17625699937343597,
          0.113242506980896,
          0.1548747718334198,
          0.18467912077903748,
          0.07945110648870468,
          0.5965258479118347,
          0.4243279993534088,
          0.7034755945205688,
          0.22075481712818146
         ]
        },
        {
         "name": "BahnR",
         "type": "bar",
         "x": [
          "UBAG",
          "DBUStiftG",
          "UStatG",
          "UVPG",
          "UIG",
          "UAG",
          "USchadG",
          "BfNatSchG",
          "BNatSchG",
          "TierSchG",
          "BBodSchG",
          "WHG",
          "AbwAG",
          "WRMG",
          "KrWG",
          "ElektroG",
          "BattG",
          "VerpackG",
          "BImSchG",
          "BzBlG",
          "TEHG",
          "SchlärmschG",
          "KSG",
          "BEHG",
          "BfkEG",
          "AtG",
          "EnEG",
          "StromStG",
          "EVPG",
          "EEWärmeG",
          "EmoG",
          "CsgG",
          "ChemG",
          "GenTG",
          "UmweltHG",
          "UmwRG"
         ],
         "y": [
          0.04210326075553894,
          0.033112816512584686,
          0.0358712337911129,
          0.022714287042617798,
          0.1834099441766739,
          0.09801767021417618,
          0.0937579944729805,
          0,
          0.012554939836263657,
          0.014660682529211044,
          0.032596997916698456,
          0.046610135585069656,
          0.023157861083745956,
          0,
          0.11660923808813095,
          0.05336544290184975,
          0.05693012475967407,
          0.1388702243566513,
          0.09577694535255432,
          0.02589261718094349,
          0.19469571113586426,
          0.7148813605308533,
          0.271186500787735,
          0.13713805377483368,
          0,
          0.0675312727689743,
          0.14021040499210358,
          0.0832204520702362,
          0.06475944817066193,
          0.11500240862369537,
          0.16715264320373535,
          0.5266646146774292,
          0.026597151532769203,
          0.08693103492259979,
          0,
          0.051781464368104935
         ]
        },
        {
         "name": "EntsorgungsR",
         "type": "bar",
         "x": [
          "UBAG",
          "DBUStiftG",
          "UStatG",
          "UVPG",
          "UIG",
          "UAG",
          "USchadG",
          "BfNatSchG",
          "BNatSchG",
          "TierSchG",
          "BBodSchG",
          "WHG",
          "AbwAG",
          "WRMG",
          "KrWG",
          "ElektroG",
          "BattG",
          "VerpackG",
          "BImSchG",
          "BzBlG",
          "TEHG",
          "SchlärmschG",
          "KSG",
          "BEHG",
          "BfkEG",
          "AtG",
          "EnEG",
          "StromStG",
          "EVPG",
          "EEWärmeG",
          "EmoG",
          "CsgG",
          "ChemG",
          "GenTG",
          "UmweltHG",
          "UmwRG"
         ],
         "y": [
          0,
          0,
          0.08955574035644531,
          0.05014824867248535,
          0.029331639409065247,
          0.029267771169543266,
          0.01541355811059475,
          0,
          0,
          0,
          0.014910755679011345,
          0,
          0,
          0,
          0.15804456174373627,
          0.8352541327476501,
          0.8084531426429749,
          0.4574770927429199,
          0.012204865925014019,
          0.24572138488292694,
          0.10668262094259262,
          0,
          0,
          0.051177822053432465,
          0,
          0,
          0.05132400244474411,
          0.04216909036040306,
          0.09592856466770172,
          0.07261563092470169,
          0.11904221773147583,
          0,
          0.01565835066139698,
          0,
          0.035493768751621246,
          0
         ]
        },
        {
         "name": "SachenR",
         "type": "bar",
         "x": [
          "UBAG",
          "DBUStiftG",
          "UStatG",
          "UVPG",
          "UIG",
          "UAG",
          "USchadG",
          "BfNatSchG",
          "BNatSchG",
          "TierSchG",
          "BBodSchG",
          "WHG",
          "AbwAG",
          "WRMG",
          "KrWG",
          "ElektroG",
          "BattG",
          "VerpackG",
          "BImSchG",
          "BzBlG",
          "TEHG",
          "SchlärmschG",
          "KSG",
          "BEHG",
          "BfkEG",
          "AtG",
          "EnEG",
          "StromStG",
          "EVPG",
          "EEWärmeG",
          "EmoG",
          "CsgG",
          "ChemG",
          "GenTG",
          "UmweltHG",
          "UmwRG"
         ],
         "y": [
          0.015642177313566208,
          0,
          0,
          0.10088522732257843,
          0.011801193468272686,
          0,
          0.06934917718172073,
          0.19086617231369019,
          0.6536198854446411,
          0.015709389001131058,
          0.3158265948295593,
          0.4400080740451813,
          0.07560645043849945,
          0,
          0.036644965410232544,
          0,
          0,
          0,
          0.010549085214734077,
          0,
          0.020076340064406395,
          0.02145507000386715,
          0.09519913792610168,
          0.011773688718676567,
          0,
          0.0417049266397953,
          0.2917305827140808,
          0,
          0,
          0.4000730812549591,
          0,
          0.05921288579702377,
          0,
          0.013138513080775738,
          0,
          0.14383047819137573
         ]
        },
        {
         "name": "BauR",
         "type": "bar",
         "x": [
          "UBAG",
          "DBUStiftG",
          "UStatG",
          "UVPG",
          "UIG",
          "UAG",
          "USchadG",
          "BfNatSchG",
          "BNatSchG",
          "TierSchG",
          "BBodSchG",
          "WHG",
          "AbwAG",
          "WRMG",
          "KrWG",
          "ElektroG",
          "BattG",
          "VerpackG",
          "BImSchG",
          "BzBlG",
          "TEHG",
          "SchlärmschG",
          "KSG",
          "BEHG",
          "BfkEG",
          "AtG",
          "EnEG",
          "StromStG",
          "EVPG",
          "EEWärmeG",
          "EmoG",
          "CsgG",
          "ChemG",
          "GenTG",
          "UmweltHG",
          "UmwRG"
         ],
         "y": [
          0,
          0.10756772011518478,
          0,
          0.4763074517250061,
          0.03738397732377052,
          0,
          0.0732567086815834,
          0,
          0.02803688310086727,
          0,
          0.031180797144770622,
          0.03413335606455803,
          0.027791710570454597,
          0,
          0.034813977777957916,
          0,
          0,
          0,
          0.06726241856813431,
          0.012785852886736393,
          0.3123972713947296,
          0.012977754697203636,
          0.1436278223991394,
          0.32975247502326965,
          0.017349833622574806,
          0.03654085844755173,
          0,
          0.14353272318840027,
          0,
          0.1714843213558197,
          0,
          0.05939008668065071,
          0,
          0,
          0.04258200153708458,
          0.39955443143844604
         ]
        },
        {
         "name": "MedR",
         "type": "bar",
         "x": [
          "UBAG",
          "DBUStiftG",
          "UStatG",
          "UVPG",
          "UIG",
          "UAG",
          "USchadG",
          "BfNatSchG",
          "BNatSchG",
          "TierSchG",
          "BBodSchG",
          "WHG",
          "AbwAG",
          "WRMG",
          "KrWG",
          "ElektroG",
          "BattG",
          "VerpackG",
          "BImSchG",
          "BzBlG",
          "TEHG",
          "SchlärmschG",
          "KSG",
          "BEHG",
          "BfkEG",
          "AtG",
          "EnEG",
          "StromStG",
          "EVPG",
          "EEWärmeG",
          "EmoG",
          "CsgG",
          "ChemG",
          "GenTG",
          "UmweltHG",
          "UmwRG"
         ],
         "y": [
          0,
          0,
          0,
          0,
          0.08611192554235458,
          0.062475062906742096,
          0.053502168506383896,
          0,
          0.04047321900725365,
          0.4985220730304718,
          0,
          0,
          0,
          0.27957457304000854,
          0.021564098075032234,
          0,
          0,
          0.022937802597880363,
          0.011241341941058636,
          0,
          0,
          0,
          0,
          0,
          0,
          0.01891743764281273,
          0,
          0,
          0.08065403252840042,
          0,
          0,
          0.013533557765185833,
          0.2821763753890991,
          0.38061338663101196,
          0.05245136469602585,
          0
         ]
        },
        {
         "name": "OrganR",
         "type": "bar",
         "x": [
          "UBAG",
          "DBUStiftG",
          "UStatG",
          "UVPG",
          "UIG",
          "UAG",
          "USchadG",
          "BfNatSchG",
          "BNatSchG",
          "TierSchG",
          "BBodSchG",
          "WHG",
          "AbwAG",
          "WRMG",
          "KrWG",
          "ElektroG",
          "BattG",
          "VerpackG",
          "BImSchG",
          "BzBlG",
          "TEHG",
          "SchlärmschG",
          "KSG",
          "BEHG",
          "BfkEG",
          "AtG",
          "EnEG",
          "StromStG",
          "EVPG",
          "EEWärmeG",
          "EmoG",
          "CsgG",
          "ChemG",
          "GenTG",
          "UmweltHG",
          "UmwRG"
         ],
         "y": [
          0.3014070689678192,
          0.4196177124977112,
          0,
          0,
          0.020476307719945908,
          0.040735308080911636,
          0,
          0.32173797488212585,
          0,
          0,
          0,
          0,
          0,
          0,
          0,
          0,
          0,
          0.02715190127491951,
          0,
          0,
          0,
          0,
          0.07559642195701599,
          0,
          0.4772370159626007,
          0,
          0,
          0,
          0,
          0,
          0,
          0,
          0,
          0,
          0,
          0
         ]
        },
        {
         "name": "VerkehrsR",
         "type": "bar",
         "x": [
          "UBAG",
          "DBUStiftG",
          "UStatG",
          "UVPG",
          "UIG",
          "UAG",
          "USchadG",
          "BfNatSchG",
          "BNatSchG",
          "TierSchG",
          "BBodSchG",
          "WHG",
          "AbwAG",
          "WRMG",
          "KrWG",
          "ElektroG",
          "BattG",
          "VerpackG",
          "BImSchG",
          "BzBlG",
          "TEHG",
          "SchlärmschG",
          "KSG",
          "BEHG",
          "BfkEG",
          "AtG",
          "EnEG",
          "StromStG",
          "EVPG",
          "EEWärmeG",
          "EmoG",
          "CsgG",
          "ChemG",
          "GenTG",
          "UmweltHG",
          "UmwRG"
         ],
         "y": [
          0,
          0,
          0,
          0.027544377371668816,
          0,
          0,
          0,
          0,
          0,
          0,
          0,
          0,
          0,
          0,
          0,
          0,
          0,
          0,
          0.01475618313997984,
          0,
          0,
          0.15502621233463287,
          0,
          0,
          0,
          0,
          0,
          0.016804339364171028,
          0,
          0,
          0.4832443296909332,
          0.22771835327148438,
          0,
          0,
          0,
          0
         ]
        },
        {
         "name": "ProduktR",
         "type": "bar",
         "x": [
          "UBAG",
          "DBUStiftG",
          "UStatG",
          "UVPG",
          "UIG",
          "UAG",
          "USchadG",
          "BfNatSchG",
          "BNatSchG",
          "TierSchG",
          "BBodSchG",
          "WHG",
          "AbwAG",
          "WRMG",
          "KrWG",
          "ElektroG",
          "BattG",
          "VerpackG",
          "BImSchG",
          "BzBlG",
          "TEHG",
          "SchlärmschG",
          "KSG",
          "BEHG",
          "BfkEG",
          "AtG",
          "EnEG",
          "StromStG",
          "EVPG",
          "EEWärmeG",
          "EmoG",
          "CsgG",
          "ChemG",
          "GenTG",
          "UmweltHG",
          "UmwRG"
         ],
         "y": [
          0,
          0,
          0,
          0,
          0,
          0,
          0,
          0,
          0,
          0,
          0,
          0,
          0,
          0.1126445010304451,
          0,
          0,
          0,
          0,
          0,
          0.016771534457802773,
          0,
          0.016867000609636307,
          0,
          0,
          0,
          0.03307608142495155,
          0,
          0,
          0.6119416356086731,
          0,
          0.029075853526592255,
          0,
          0.02917606383562088,
          0,
          0,
          0
         ]
        },
        {
         "name": "GesR",
         "type": "bar",
         "x": [
          "UBAG",
          "DBUStiftG",
          "UStatG",
          "UVPG",
          "UIG",
          "UAG",
          "USchadG",
          "BfNatSchG",
          "BNatSchG",
          "TierSchG",
          "BBodSchG",
          "WHG",
          "AbwAG",
          "WRMG",
          "KrWG",
          "ElektroG",
          "BattG",
          "VerpackG",
          "BImSchG",
          "BzBlG",
          "TEHG",
          "SchlärmschG",
          "KSG",
          "BEHG",
          "BfkEG",
          "AtG",
          "EnEG",
          "StromStG",
          "EVPG",
          "EEWärmeG",
          "EmoG",
          "CsgG",
          "ChemG",
          "GenTG",
          "UmweltHG",
          "UmwRG"
         ],
         "y": [
          0,
          0,
          0.012651270255446434,
          0.011406962759792805,
          0.024835018441081047,
          0.06892421096563339,
          0.04213361814618111,
          0,
          0,
          0.014024541713297367,
          0.011648143641650677,
          0.04440410062670708,
          0,
          0,
          0.012939170934259892,
          0,
          0.02877102792263031,
          0.15749910473823547,
          0,
          0,
          0.03579825535416603,
          0,
          0.028868762776255608,
          0.03953688591718674,
          0,
          0.04917192831635475,
          0.01938379742205143,
          0,
          0,
          0,
          0,
          0,
          0,
          0.010444124229252338,
          0.08003180474042892,
          0.01831742376089096
         ]
        }
       ],
       "layout": {
        "barmode": "stack",
        "font": {
         "family": "Times New Roman",
         "size": 12
        },
        "template": {
         "data": {
          "bar": [
           {
            "error_x": {
             "color": "#2a3f5f"
            },
            "error_y": {
             "color": "#2a3f5f"
            },
            "marker": {
             "line": {
              "color": "#E5ECF6",
              "width": 0.5
             }
            },
            "type": "bar"
           }
          ],
          "barpolar": [
           {
            "marker": {
             "line": {
              "color": "#E5ECF6",
              "width": 0.5
             }
            },
            "type": "barpolar"
           }
          ],
          "carpet": [
           {
            "aaxis": {
             "endlinecolor": "#2a3f5f",
             "gridcolor": "white",
             "linecolor": "white",
             "minorgridcolor": "white",
             "startlinecolor": "#2a3f5f"
            },
            "baxis": {
             "endlinecolor": "#2a3f5f",
             "gridcolor": "white",
             "linecolor": "white",
             "minorgridcolor": "white",
             "startlinecolor": "#2a3f5f"
            },
            "type": "carpet"
           }
          ],
          "choropleth": [
           {
            "colorbar": {
             "outlinewidth": 0,
             "ticks": ""
            },
            "type": "choropleth"
           }
          ],
          "contour": [
           {
            "colorbar": {
             "outlinewidth": 0,
             "ticks": ""
            },
            "colorscale": [
             [
              0,
              "#0d0887"
             ],
             [
              0.1111111111111111,
              "#46039f"
             ],
             [
              0.2222222222222222,
              "#7201a8"
             ],
             [
              0.3333333333333333,
              "#9c179e"
             ],
             [
              0.4444444444444444,
              "#bd3786"
             ],
             [
              0.5555555555555556,
              "#d8576b"
             ],
             [
              0.6666666666666666,
              "#ed7953"
             ],
             [
              0.7777777777777778,
              "#fb9f3a"
             ],
             [
              0.8888888888888888,
              "#fdca26"
             ],
             [
              1,
              "#f0f921"
             ]
            ],
            "type": "contour"
           }
          ],
          "contourcarpet": [
           {
            "colorbar": {
             "outlinewidth": 0,
             "ticks": ""
            },
            "type": "contourcarpet"
           }
          ],
          "heatmap": [
           {
            "colorbar": {
             "outlinewidth": 0,
             "ticks": ""
            },
            "colorscale": [
             [
              0,
              "#0d0887"
             ],
             [
              0.1111111111111111,
              "#46039f"
             ],
             [
              0.2222222222222222,
              "#7201a8"
             ],
             [
              0.3333333333333333,
              "#9c179e"
             ],
             [
              0.4444444444444444,
              "#bd3786"
             ],
             [
              0.5555555555555556,
              "#d8576b"
             ],
             [
              0.6666666666666666,
              "#ed7953"
             ],
             [
              0.7777777777777778,
              "#fb9f3a"
             ],
             [
              0.8888888888888888,
              "#fdca26"
             ],
             [
              1,
              "#f0f921"
             ]
            ],
            "type": "heatmap"
           }
          ],
          "heatmapgl": [
           {
            "colorbar": {
             "outlinewidth": 0,
             "ticks": ""
            },
            "colorscale": [
             [
              0,
              "#0d0887"
             ],
             [
              0.1111111111111111,
              "#46039f"
             ],
             [
              0.2222222222222222,
              "#7201a8"
             ],
             [
              0.3333333333333333,
              "#9c179e"
             ],
             [
              0.4444444444444444,
              "#bd3786"
             ],
             [
              0.5555555555555556,
              "#d8576b"
             ],
             [
              0.6666666666666666,
              "#ed7953"
             ],
             [
              0.7777777777777778,
              "#fb9f3a"
             ],
             [
              0.8888888888888888,
              "#fdca26"
             ],
             [
              1,
              "#f0f921"
             ]
            ],
            "type": "heatmapgl"
           }
          ],
          "histogram": [
           {
            "marker": {
             "colorbar": {
              "outlinewidth": 0,
              "ticks": ""
             }
            },
            "type": "histogram"
           }
          ],
          "histogram2d": [
           {
            "colorbar": {
             "outlinewidth": 0,
             "ticks": ""
            },
            "colorscale": [
             [
              0,
              "#0d0887"
             ],
             [
              0.1111111111111111,
              "#46039f"
             ],
             [
              0.2222222222222222,
              "#7201a8"
             ],
             [
              0.3333333333333333,
              "#9c179e"
             ],
             [
              0.4444444444444444,
              "#bd3786"
             ],
             [
              0.5555555555555556,
              "#d8576b"
             ],
             [
              0.6666666666666666,
              "#ed7953"
             ],
             [
              0.7777777777777778,
              "#fb9f3a"
             ],
             [
              0.8888888888888888,
              "#fdca26"
             ],
             [
              1,
              "#f0f921"
             ]
            ],
            "type": "histogram2d"
           }
          ],
          "histogram2dcontour": [
           {
            "colorbar": {
             "outlinewidth": 0,
             "ticks": ""
            },
            "colorscale": [
             [
              0,
              "#0d0887"
             ],
             [
              0.1111111111111111,
              "#46039f"
             ],
             [
              0.2222222222222222,
              "#7201a8"
             ],
             [
              0.3333333333333333,
              "#9c179e"
             ],
             [
              0.4444444444444444,
              "#bd3786"
             ],
             [
              0.5555555555555556,
              "#d8576b"
             ],
             [
              0.6666666666666666,
              "#ed7953"
             ],
             [
              0.7777777777777778,
              "#fb9f3a"
             ],
             [
              0.8888888888888888,
              "#fdca26"
             ],
             [
              1,
              "#f0f921"
             ]
            ],
            "type": "histogram2dcontour"
           }
          ],
          "mesh3d": [
           {
            "colorbar": {
             "outlinewidth": 0,
             "ticks": ""
            },
            "type": "mesh3d"
           }
          ],
          "parcoords": [
           {
            "line": {
             "colorbar": {
              "outlinewidth": 0,
              "ticks": ""
             }
            },
            "type": "parcoords"
           }
          ],
          "pie": [
           {
            "automargin": true,
            "type": "pie"
           }
          ],
          "scatter": [
           {
            "marker": {
             "colorbar": {
              "outlinewidth": 0,
              "ticks": ""
             }
            },
            "type": "scatter"
           }
          ],
          "scatter3d": [
           {
            "line": {
             "colorbar": {
              "outlinewidth": 0,
              "ticks": ""
             }
            },
            "marker": {
             "colorbar": {
              "outlinewidth": 0,
              "ticks": ""
             }
            },
            "type": "scatter3d"
           }
          ],
          "scattercarpet": [
           {
            "marker": {
             "colorbar": {
              "outlinewidth": 0,
              "ticks": ""
             }
            },
            "type": "scattercarpet"
           }
          ],
          "scattergeo": [
           {
            "marker": {
             "colorbar": {
              "outlinewidth": 0,
              "ticks": ""
             }
            },
            "type": "scattergeo"
           }
          ],
          "scattergl": [
           {
            "marker": {
             "colorbar": {
              "outlinewidth": 0,
              "ticks": ""
             }
            },
            "type": "scattergl"
           }
          ],
          "scattermapbox": [
           {
            "marker": {
             "colorbar": {
              "outlinewidth": 0,
              "ticks": ""
             }
            },
            "type": "scattermapbox"
           }
          ],
          "scatterpolar": [
           {
            "marker": {
             "colorbar": {
              "outlinewidth": 0,
              "ticks": ""
             }
            },
            "type": "scatterpolar"
           }
          ],
          "scatterpolargl": [
           {
            "marker": {
             "colorbar": {
              "outlinewidth": 0,
              "ticks": ""
             }
            },
            "type": "scatterpolargl"
           }
          ],
          "scatterternary": [
           {
            "marker": {
             "colorbar": {
              "outlinewidth": 0,
              "ticks": ""
             }
            },
            "type": "scatterternary"
           }
          ],
          "surface": [
           {
            "colorbar": {
             "outlinewidth": 0,
             "ticks": ""
            },
            "colorscale": [
             [
              0,
              "#0d0887"
             ],
             [
              0.1111111111111111,
              "#46039f"
             ],
             [
              0.2222222222222222,
              "#7201a8"
             ],
             [
              0.3333333333333333,
              "#9c179e"
             ],
             [
              0.4444444444444444,
              "#bd3786"
             ],
             [
              0.5555555555555556,
              "#d8576b"
             ],
             [
              0.6666666666666666,
              "#ed7953"
             ],
             [
              0.7777777777777778,
              "#fb9f3a"
             ],
             [
              0.8888888888888888,
              "#fdca26"
             ],
             [
              1,
              "#f0f921"
             ]
            ],
            "type": "surface"
           }
          ],
          "table": [
           {
            "cells": {
             "fill": {
              "color": "#EBF0F8"
             },
             "line": {
              "color": "white"
             }
            },
            "header": {
             "fill": {
              "color": "#C8D4E3"
             },
             "line": {
              "color": "white"
             }
            },
            "type": "table"
           }
          ]
         },
         "layout": {
          "annotationdefaults": {
           "arrowcolor": "#2a3f5f",
           "arrowhead": 0,
           "arrowwidth": 1
          },
          "coloraxis": {
           "colorbar": {
            "outlinewidth": 0,
            "ticks": ""
           }
          },
          "colorscale": {
           "diverging": [
            [
             0,
             "#8e0152"
            ],
            [
             0.1,
             "#c51b7d"
            ],
            [
             0.2,
             "#de77ae"
            ],
            [
             0.3,
             "#f1b6da"
            ],
            [
             0.4,
             "#fde0ef"
            ],
            [
             0.5,
             "#f7f7f7"
            ],
            [
             0.6,
             "#e6f5d0"
            ],
            [
             0.7,
             "#b8e186"
            ],
            [
             0.8,
             "#7fbc41"
            ],
            [
             0.9,
             "#4d9221"
            ],
            [
             1,
             "#276419"
            ]
           ],
           "sequential": [
            [
             0,
             "#0d0887"
            ],
            [
             0.1111111111111111,
             "#46039f"
            ],
            [
             0.2222222222222222,
             "#7201a8"
            ],
            [
             0.3333333333333333,
             "#9c179e"
            ],
            [
             0.4444444444444444,
             "#bd3786"
            ],
            [
             0.5555555555555556,
             "#d8576b"
            ],
            [
             0.6666666666666666,
             "#ed7953"
            ],
            [
             0.7777777777777778,
             "#fb9f3a"
            ],
            [
             0.8888888888888888,
             "#fdca26"
            ],
            [
             1,
             "#f0f921"
            ]
           ],
           "sequentialminus": [
            [
             0,
             "#0d0887"
            ],
            [
             0.1111111111111111,
             "#46039f"
            ],
            [
             0.2222222222222222,
             "#7201a8"
            ],
            [
             0.3333333333333333,
             "#9c179e"
            ],
            [
             0.4444444444444444,
             "#bd3786"
            ],
            [
             0.5555555555555556,
             "#d8576b"
            ],
            [
             0.6666666666666666,
             "#ed7953"
            ],
            [
             0.7777777777777778,
             "#fb9f3a"
            ],
            [
             0.8888888888888888,
             "#fdca26"
            ],
            [
             1,
             "#f0f921"
            ]
           ]
          },
          "colorway": [
           "#636efa",
           "#EF553B",
           "#00cc96",
           "#ab63fa",
           "#FFA15A",
           "#19d3f3",
           "#FF6692",
           "#B6E880",
           "#FF97FF",
           "#FECB52"
          ],
          "font": {
           "color": "#2a3f5f"
          },
          "geo": {
           "bgcolor": "white",
           "lakecolor": "white",
           "landcolor": "#E5ECF6",
           "showlakes": true,
           "showland": true,
           "subunitcolor": "white"
          },
          "hoverlabel": {
           "align": "left"
          },
          "hovermode": "closest",
          "mapbox": {
           "style": "light"
          },
          "paper_bgcolor": "white",
          "plot_bgcolor": "#E5ECF6",
          "polar": {
           "angularaxis": {
            "gridcolor": "white",
            "linecolor": "white",
            "ticks": ""
           },
           "bgcolor": "#E5ECF6",
           "radialaxis": {
            "gridcolor": "white",
            "linecolor": "white",
            "ticks": ""
           }
          },
          "scene": {
           "xaxis": {
            "backgroundcolor": "#E5ECF6",
            "gridcolor": "white",
            "gridwidth": 2,
            "linecolor": "white",
            "showbackground": true,
            "ticks": "",
            "zerolinecolor": "white"
           },
           "yaxis": {
            "backgroundcolor": "#E5ECF6",
            "gridcolor": "white",
            "gridwidth": 2,
            "linecolor": "white",
            "showbackground": true,
            "ticks": "",
            "zerolinecolor": "white"
           },
           "zaxis": {
            "backgroundcolor": "#E5ECF6",
            "gridcolor": "white",
            "gridwidth": 2,
            "linecolor": "white",
            "showbackground": true,
            "ticks": "",
            "zerolinecolor": "white"
           }
          },
          "shapedefaults": {
           "line": {
            "color": "#2a3f5f"
           }
          },
          "ternary": {
           "aaxis": {
            "gridcolor": "white",
            "linecolor": "white",
            "ticks": ""
           },
           "baxis": {
            "gridcolor": "white",
            "linecolor": "white",
            "ticks": ""
           },
           "bgcolor": "#E5ECF6",
           "caxis": {
            "gridcolor": "white",
            "linecolor": "white",
            "ticks": ""
           }
          },
          "title": {
           "x": 0.05
          },
          "xaxis": {
           "automargin": true,
           "gridcolor": "white",
           "linecolor": "white",
           "ticks": "",
           "title": {
            "standoff": 15
           },
           "zerolinecolor": "white",
           "zerolinewidth": 2
          },
          "yaxis": {
           "automargin": true,
           "gridcolor": "white",
           "linecolor": "white",
           "ticks": "",
           "title": {
            "standoff": 15
           },
           "zerolinecolor": "white",
           "zerolinewidth": 2
          }
         }
        }
       }
      }
     },
     "metadata": {}
    },
    {
     "output_type": "display_data",
     "data": {
      "application/vnd.plotly.v1+json": {
       "config": {
        "plotlyServerURL": "https://plot.ly"
       },
       "data": [
        {
         "name": "UmweltR",
         "type": "bar",
         "x": [
          "BGBEG",
          "KrWG",
          "BImSchG",
          "BBodSchG",
          "UBAG",
          "USchadG",
          "UmwRG",
          "WHG",
          "BNatSchG",
          "TEHG",
          "UVPG",
          "OstSUmwSchÜbkG",
          "LMeerSchÜbkG"
         ],
         "y": [
          0,
          0.6058751344680786,
          0.7583991885185242,
          0.5723322033882141,
          0.5598693490028381,
          0.629460334777832,
          0.22075481712818146,
          0.4093964397907257,
          0.23280204832553864,
          0.23803018033504486,
          0.27458518743515015,
          0.3685336410999298,
          0.8062067627906799
         ]
        },
        {
         "name": "SachenR",
         "type": "bar",
         "x": [
          "BGBEG",
          "KrWG",
          "BImSchG",
          "BBodSchG",
          "UBAG",
          "USchadG",
          "UmwRG",
          "WHG",
          "BNatSchG",
          "TEHG",
          "UVPG",
          "OstSUmwSchÜbkG",
          "LMeerSchÜbkG"
         ],
         "y": [
          0.06083005666732788,
          0.036644965410232544,
          0.010549085214734077,
          0.3158265948295593,
          0.015642177313566208,
          0.06934917718172073,
          0.14383047819137573,
          0.4400080740451813,
          0.6536198854446411,
          0.020076340064406395,
          0.10088522732257843,
          0.02793765254318714,
          0
         ]
        },
        {
         "name": "BauR",
         "type": "bar",
         "x": [
          "BGBEG",
          "KrWG",
          "BImSchG",
          "BBodSchG",
          "UBAG",
          "USchadG",
          "UmwRG",
          "WHG",
          "BNatSchG",
          "TEHG",
          "UVPG",
          "OstSUmwSchÜbkG",
          "LMeerSchÜbkG"
         ],
         "y": [
          0,
          0.034813977777957916,
          0.06726241856813431,
          0.031180797144770622,
          0,
          0.0732567086815834,
          0.39955443143844604,
          0.03413335606455803,
          0.02803688310086727,
          0.3123972713947296,
          0.4763074517250061,
          0.02131860889494419,
          0
         ]
        },
        {
         "name": "GesR",
         "type": "bar",
         "x": [
          "BGBEG",
          "KrWG",
          "BImSchG",
          "BBodSchG",
          "UBAG",
          "USchadG",
          "UmwRG",
          "WHG",
          "BNatSchG",
          "TEHG",
          "UVPG",
          "OstSUmwSchÜbkG",
          "LMeerSchÜbkG"
         ],
         "y": [
          0.8429706692695618,
          0.012939170934259892,
          0,
          0.011648143641650677,
          0,
          0.04213361814618111,
          0.01831742376089096,
          0.04440410062670708,
          0,
          0.03579825535416603,
          0.011406962759792805,
          0.07690044492483139,
          0.010121363215148449
         ]
        },
        {
         "name": "BahnR",
         "type": "bar",
         "x": [
          "BGBEG",
          "KrWG",
          "BImSchG",
          "BBodSchG",
          "UBAG",
          "USchadG",
          "UmwRG",
          "WHG",
          "BNatSchG",
          "TEHG",
          "UVPG",
          "OstSUmwSchÜbkG",
          "LMeerSchÜbkG"
         ],
         "y": [
          0.030108686536550522,
          0.11660923808813095,
          0.09577694535255432,
          0.032596997916698456,
          0.04210326075553894,
          0.0937579944729805,
          0.051781464368104935,
          0.046610135585069656,
          0.012554939836263657,
          0.19469571113586426,
          0.022714287042617798,
          0.04831566661596298,
          0
         ]
        },
        {
         "name": "EntsorgungsR",
         "type": "bar",
         "x": [
          "BGBEG",
          "KrWG",
          "BImSchG",
          "BBodSchG",
          "UBAG",
          "USchadG",
          "UmwRG",
          "WHG",
          "BNatSchG",
          "TEHG",
          "UVPG",
          "OstSUmwSchÜbkG",
          "LMeerSchÜbkG"
         ],
         "y": [
          0,
          0.15804456174373627,
          0.012204865925014019,
          0.014910755679011345,
          0,
          0.01541355811059475,
          0,
          0,
          0,
          0.10668262094259262,
          0.05014824867248535,
          0.019852405413985252,
          0
         ]
        },
        {
         "name": "OrganR",
         "type": "bar",
         "x": [
          "BGBEG",
          "KrWG",
          "BImSchG",
          "BBodSchG",
          "UBAG",
          "USchadG",
          "UmwRG",
          "WHG",
          "BNatSchG",
          "TEHG",
          "UVPG",
          "OstSUmwSchÜbkG",
          "LMeerSchÜbkG"
         ],
         "y": [
          0,
          0,
          0,
          0,
          0.3014070689678192,
          0,
          0,
          0,
          0,
          0,
          0,
          0.04808739572763443,
          0
         ]
        },
        {
         "name": "ProzessR",
         "type": "bar",
         "x": [
          "BGBEG",
          "KrWG",
          "BImSchG",
          "BBodSchG",
          "UBAG",
          "USchadG",
          "UmwRG",
          "WHG",
          "BNatSchG",
          "TEHG",
          "UVPG",
          "OstSUmwSchÜbkG",
          "LMeerSchÜbkG"
         ],
         "y": [
          0,
          0,
          0,
          0,
          0,
          0,
          0.13889436423778534,
          0,
          0,
          0,
          0,
          0.03604370728135109,
          0
         ]
        },
        {
         "name": "StrafR",
         "type": "bar",
         "x": [
          "BGBEG",
          "KrWG",
          "BImSchG",
          "BBodSchG",
          "UBAG",
          "USchadG",
          "UmwRG",
          "WHG",
          "BNatSchG",
          "TEHG",
          "UVPG",
          "OstSUmwSchÜbkG",
          "LMeerSchÜbkG"
         ],
         "y": [
          0,
          0,
          0,
          0,
          0.05134442448616028,
          0,
          0,
          0,
          0.0227402001619339,
          0.02979203313589096,
          0.010436275973916054,
          0.043407563120126724,
          0
         ]
        },
        {
         "name": "MedR",
         "type": "bar",
         "x": [
          "BGBEG",
          "KrWG",
          "BImSchG",
          "BBodSchG",
          "UBAG",
          "USchadG",
          "UmwRG",
          "WHG",
          "BNatSchG",
          "TEHG",
          "UVPG",
          "OstSUmwSchÜbkG",
          "LMeerSchÜbkG"
         ],
         "y": [
          0,
          0.021564098075032234,
          0.011241341941058636,
          0,
          0,
          0.053502168506383896,
          0,
          0,
          0.04047321900725365,
          0,
          0,
          0.023974323645234108,
          0
         ]
        }
       ],
       "layout": {
        "barmode": "stack",
        "font": {
         "family": "Times New Roman",
         "size": 12
        },
        "template": {
         "data": {
          "bar": [
           {
            "error_x": {
             "color": "#2a3f5f"
            },
            "error_y": {
             "color": "#2a3f5f"
            },
            "marker": {
             "line": {
              "color": "#E5ECF6",
              "width": 0.5
             }
            },
            "type": "bar"
           }
          ],
          "barpolar": [
           {
            "marker": {
             "line": {
              "color": "#E5ECF6",
              "width": 0.5
             }
            },
            "type": "barpolar"
           }
          ],
          "carpet": [
           {
            "aaxis": {
             "endlinecolor": "#2a3f5f",
             "gridcolor": "white",
             "linecolor": "white",
             "minorgridcolor": "white",
             "startlinecolor": "#2a3f5f"
            },
            "baxis": {
             "endlinecolor": "#2a3f5f",
             "gridcolor": "white",
             "linecolor": "white",
             "minorgridcolor": "white",
             "startlinecolor": "#2a3f5f"
            },
            "type": "carpet"
           }
          ],
          "choropleth": [
           {
            "colorbar": {
             "outlinewidth": 0,
             "ticks": ""
            },
            "type": "choropleth"
           }
          ],
          "contour": [
           {
            "colorbar": {
             "outlinewidth": 0,
             "ticks": ""
            },
            "colorscale": [
             [
              0,
              "#0d0887"
             ],
             [
              0.1111111111111111,
              "#46039f"
             ],
             [
              0.2222222222222222,
              "#7201a8"
             ],
             [
              0.3333333333333333,
              "#9c179e"
             ],
             [
              0.4444444444444444,
              "#bd3786"
             ],
             [
              0.5555555555555556,
              "#d8576b"
             ],
             [
              0.6666666666666666,
              "#ed7953"
             ],
             [
              0.7777777777777778,
              "#fb9f3a"
             ],
             [
              0.8888888888888888,
              "#fdca26"
             ],
             [
              1,
              "#f0f921"
             ]
            ],
            "type": "contour"
           }
          ],
          "contourcarpet": [
           {
            "colorbar": {
             "outlinewidth": 0,
             "ticks": ""
            },
            "type": "contourcarpet"
           }
          ],
          "heatmap": [
           {
            "colorbar": {
             "outlinewidth": 0,
             "ticks": ""
            },
            "colorscale": [
             [
              0,
              "#0d0887"
             ],
             [
              0.1111111111111111,
              "#46039f"
             ],
             [
              0.2222222222222222,
              "#7201a8"
             ],
             [
              0.3333333333333333,
              "#9c179e"
             ],
             [
              0.4444444444444444,
              "#bd3786"
             ],
             [
              0.5555555555555556,
              "#d8576b"
             ],
             [
              0.6666666666666666,
              "#ed7953"
             ],
             [
              0.7777777777777778,
              "#fb9f3a"
             ],
             [
              0.8888888888888888,
              "#fdca26"
             ],
             [
              1,
              "#f0f921"
             ]
            ],
            "type": "heatmap"
           }
          ],
          "heatmapgl": [
           {
            "colorbar": {
             "outlinewidth": 0,
             "ticks": ""
            },
            "colorscale": [
             [
              0,
              "#0d0887"
             ],
             [
              0.1111111111111111,
              "#46039f"
             ],
             [
              0.2222222222222222,
              "#7201a8"
             ],
             [
              0.3333333333333333,
              "#9c179e"
             ],
             [
              0.4444444444444444,
              "#bd3786"
             ],
             [
              0.5555555555555556,
              "#d8576b"
             ],
             [
              0.6666666666666666,
              "#ed7953"
             ],
             [
              0.7777777777777778,
              "#fb9f3a"
             ],
             [
              0.8888888888888888,
              "#fdca26"
             ],
             [
              1,
              "#f0f921"
             ]
            ],
            "type": "heatmapgl"
           }
          ],
          "histogram": [
           {
            "marker": {
             "colorbar": {
              "outlinewidth": 0,
              "ticks": ""
             }
            },
            "type": "histogram"
           }
          ],
          "histogram2d": [
           {
            "colorbar": {
             "outlinewidth": 0,
             "ticks": ""
            },
            "colorscale": [
             [
              0,
              "#0d0887"
             ],
             [
              0.1111111111111111,
              "#46039f"
             ],
             [
              0.2222222222222222,
              "#7201a8"
             ],
             [
              0.3333333333333333,
              "#9c179e"
             ],
             [
              0.4444444444444444,
              "#bd3786"
             ],
             [
              0.5555555555555556,
              "#d8576b"
             ],
             [
              0.6666666666666666,
              "#ed7953"
             ],
             [
              0.7777777777777778,
              "#fb9f3a"
             ],
             [
              0.8888888888888888,
              "#fdca26"
             ],
             [
              1,
              "#f0f921"
             ]
            ],
            "type": "histogram2d"
           }
          ],
          "histogram2dcontour": [
           {
            "colorbar": {
             "outlinewidth": 0,
             "ticks": ""
            },
            "colorscale": [
             [
              0,
              "#0d0887"
             ],
             [
              0.1111111111111111,
              "#46039f"
             ],
             [
              0.2222222222222222,
              "#7201a8"
             ],
             [
              0.3333333333333333,
              "#9c179e"
             ],
             [
              0.4444444444444444,
              "#bd3786"
             ],
             [
              0.5555555555555556,
              "#d8576b"
             ],
             [
              0.6666666666666666,
              "#ed7953"
             ],
             [
              0.7777777777777778,
              "#fb9f3a"
             ],
             [
              0.8888888888888888,
              "#fdca26"
             ],
             [
              1,
              "#f0f921"
             ]
            ],
            "type": "histogram2dcontour"
           }
          ],
          "mesh3d": [
           {
            "colorbar": {
             "outlinewidth": 0,
             "ticks": ""
            },
            "type": "mesh3d"
           }
          ],
          "parcoords": [
           {
            "line": {
             "colorbar": {
              "outlinewidth": 0,
              "ticks": ""
             }
            },
            "type": "parcoords"
           }
          ],
          "pie": [
           {
            "automargin": true,
            "type": "pie"
           }
          ],
          "scatter": [
           {
            "marker": {
             "colorbar": {
              "outlinewidth": 0,
              "ticks": ""
             }
            },
            "type": "scatter"
           }
          ],
          "scatter3d": [
           {
            "line": {
             "colorbar": {
              "outlinewidth": 0,
              "ticks": ""
             }
            },
            "marker": {
             "colorbar": {
              "outlinewidth": 0,
              "ticks": ""
             }
            },
            "type": "scatter3d"
           }
          ],
          "scattercarpet": [
           {
            "marker": {
             "colorbar": {
              "outlinewidth": 0,
              "ticks": ""
             }
            },
            "type": "scattercarpet"
           }
          ],
          "scattergeo": [
           {
            "marker": {
             "colorbar": {
              "outlinewidth": 0,
              "ticks": ""
             }
            },
            "type": "scattergeo"
           }
          ],
          "scattergl": [
           {
            "marker": {
             "colorbar": {
              "outlinewidth": 0,
              "ticks": ""
             }
            },
            "type": "scattergl"
           }
          ],
          "scattermapbox": [
           {
            "marker": {
             "colorbar": {
              "outlinewidth": 0,
              "ticks": ""
             }
            },
            "type": "scattermapbox"
           }
          ],
          "scatterpolar": [
           {
            "marker": {
             "colorbar": {
              "outlinewidth": 0,
              "ticks": ""
             }
            },
            "type": "scatterpolar"
           }
          ],
          "scatterpolargl": [
           {
            "marker": {
             "colorbar": {
              "outlinewidth": 0,
              "ticks": ""
             }
            },
            "type": "scatterpolargl"
           }
          ],
          "scatterternary": [
           {
            "marker": {
             "colorbar": {
              "outlinewidth": 0,
              "ticks": ""
             }
            },
            "type": "scatterternary"
           }
          ],
          "surface": [
           {
            "colorbar": {
             "outlinewidth": 0,
             "ticks": ""
            },
            "colorscale": [
             [
              0,
              "#0d0887"
             ],
             [
              0.1111111111111111,
              "#46039f"
             ],
             [
              0.2222222222222222,
              "#7201a8"
             ],
             [
              0.3333333333333333,
              "#9c179e"
             ],
             [
              0.4444444444444444,
              "#bd3786"
             ],
             [
              0.5555555555555556,
              "#d8576b"
             ],
             [
              0.6666666666666666,
              "#ed7953"
             ],
             [
              0.7777777777777778,
              "#fb9f3a"
             ],
             [
              0.8888888888888888,
              "#fdca26"
             ],
             [
              1,
              "#f0f921"
             ]
            ],
            "type": "surface"
           }
          ],
          "table": [
           {
            "cells": {
             "fill": {
              "color": "#EBF0F8"
             },
             "line": {
              "color": "white"
             }
            },
            "header": {
             "fill": {
              "color": "#C8D4E3"
             },
             "line": {
              "color": "white"
             }
            },
            "type": "table"
           }
          ]
         },
         "layout": {
          "annotationdefaults": {
           "arrowcolor": "#2a3f5f",
           "arrowhead": 0,
           "arrowwidth": 1
          },
          "coloraxis": {
           "colorbar": {
            "outlinewidth": 0,
            "ticks": ""
           }
          },
          "colorscale": {
           "diverging": [
            [
             0,
             "#8e0152"
            ],
            [
             0.1,
             "#c51b7d"
            ],
            [
             0.2,
             "#de77ae"
            ],
            [
             0.3,
             "#f1b6da"
            ],
            [
             0.4,
             "#fde0ef"
            ],
            [
             0.5,
             "#f7f7f7"
            ],
            [
             0.6,
             "#e6f5d0"
            ],
            [
             0.7,
             "#b8e186"
            ],
            [
             0.8,
             "#7fbc41"
            ],
            [
             0.9,
             "#4d9221"
            ],
            [
             1,
             "#276419"
            ]
           ],
           "sequential": [
            [
             0,
             "#0d0887"
            ],
            [
             0.1111111111111111,
             "#46039f"
            ],
            [
             0.2222222222222222,
             "#7201a8"
            ],
            [
             0.3333333333333333,
             "#9c179e"
            ],
            [
             0.4444444444444444,
             "#bd3786"
            ],
            [
             0.5555555555555556,
             "#d8576b"
            ],
            [
             0.6666666666666666,
             "#ed7953"
            ],
            [
             0.7777777777777778,
             "#fb9f3a"
            ],
            [
             0.8888888888888888,
             "#fdca26"
            ],
            [
             1,
             "#f0f921"
            ]
           ],
           "sequentialminus": [
            [
             0,
             "#0d0887"
            ],
            [
             0.1111111111111111,
             "#46039f"
            ],
            [
             0.2222222222222222,
             "#7201a8"
            ],
            [
             0.3333333333333333,
             "#9c179e"
            ],
            [
             0.4444444444444444,
             "#bd3786"
            ],
            [
             0.5555555555555556,
             "#d8576b"
            ],
            [
             0.6666666666666666,
             "#ed7953"
            ],
            [
             0.7777777777777778,
             "#fb9f3a"
            ],
            [
             0.8888888888888888,
             "#fdca26"
            ],
            [
             1,
             "#f0f921"
            ]
           ]
          },
          "colorway": [
           "#636efa",
           "#EF553B",
           "#00cc96",
           "#ab63fa",
           "#FFA15A",
           "#19d3f3",
           "#FF6692",
           "#B6E880",
           "#FF97FF",
           "#FECB52"
          ],
          "font": {
           "color": "#2a3f5f"
          },
          "geo": {
           "bgcolor": "white",
           "lakecolor": "white",
           "landcolor": "#E5ECF6",
           "showlakes": true,
           "showland": true,
           "subunitcolor": "white"
          },
          "hoverlabel": {
           "align": "left"
          },
          "hovermode": "closest",
          "mapbox": {
           "style": "light"
          },
          "paper_bgcolor": "white",
          "plot_bgcolor": "#E5ECF6",
          "polar": {
           "angularaxis": {
            "gridcolor": "white",
            "linecolor": "white",
            "ticks": ""
           },
           "bgcolor": "#E5ECF6",
           "radialaxis": {
            "gridcolor": "white",
            "linecolor": "white",
            "ticks": ""
           }
          },
          "scene": {
           "xaxis": {
            "backgroundcolor": "#E5ECF6",
            "gridcolor": "white",
            "gridwidth": 2,
            "linecolor": "white",
            "showbackground": true,
            "ticks": "",
            "zerolinecolor": "white"
           },
           "yaxis": {
            "backgroundcolor": "#E5ECF6",
            "gridcolor": "white",
            "gridwidth": 2,
            "linecolor": "white",
            "showbackground": true,
            "ticks": "",
            "zerolinecolor": "white"
           },
           "zaxis": {
            "backgroundcolor": "#E5ECF6",
            "gridcolor": "white",
            "gridwidth": 2,
            "linecolor": "white",
            "showbackground": true,
            "ticks": "",
            "zerolinecolor": "white"
           }
          },
          "shapedefaults": {
           "line": {
            "color": "#2a3f5f"
           }
          },
          "ternary": {
           "aaxis": {
            "gridcolor": "white",
            "linecolor": "white",
            "ticks": ""
           },
           "baxis": {
            "gridcolor": "white",
            "linecolor": "white",
            "ticks": ""
           },
           "bgcolor": "#E5ECF6",
           "caxis": {
            "gridcolor": "white",
            "linecolor": "white",
            "ticks": ""
           }
          },
          "title": {
           "x": 0.05
          },
          "xaxis": {
           "automargin": true,
           "gridcolor": "white",
           "linecolor": "white",
           "ticks": "",
           "title": {
            "standoff": 15
           },
           "zerolinecolor": "white",
           "zerolinewidth": 2
          },
          "yaxis": {
           "automargin": true,
           "gridcolor": "white",
           "linecolor": "white",
           "ticks": "",
           "title": {
            "standoff": 15
           },
           "zerolinecolor": "white",
           "zerolinewidth": 2
          }
         }
        }
       }
      }
     },
     "metadata": {}
    },
    {
     "output_type": "display_data",
     "data": {
      "application/vnd.plotly.v1+json": {
       "config": {
        "plotlyServerURL": "https://plot.ly"
       },
       "data": [
        {
         "name": "StrafR",
         "type": "bar",
         "x": [
          "StGB",
          "EGStGB",
          "SubvG",
          "UWG",
          "UrhG",
          "VStGB",
          "WpHG",
          "StVG",
          "AufenthG",
          "AsylG",
          "BtMG",
          "WStG",
          "WaffG",
          "JuSchG",
          "VersammlG",
          "OWiG",
          "NetzDG",
          "GVG",
          "StPO",
          "StPOEG",
          "JGG",
          "IStGHG",
          "IRG",
          "StVollzG",
          "BZRG",
          "StrEG",
          "OEG",
          "JVEG",
          "RVG",
          "GG"
         ],
         "y": [
          0.6376426815986633,
          0.49764376878738403,
          0.23513641953468323,
          0.022344551980495453,
          0.10412708669900894,
          0.6704066395759583,
          0.03780962526798248,
          0.3760489225387573,
          0.30144792795181274,
          0.3007502257823944,
          0.1594437211751938,
          0.7075952291488647,
          0.6579211354255676,
          0.2737421989440918,
          0.5004988312721252,
          0.2746388614177704,
          0.24017839133739471,
          0.06657998263835907,
          0.2865598499774933,
          0.3728141784667969,
          0.4395734667778015,
          0.13070857524871826,
          0.31182917952537537,
          0.30995529890060425,
          0.7211506366729736,
          0.19506977498531342,
          0.12028583884239197,
          0.08285023272037506,
          0,
          0.13729149103164673
         ]
        },
        {
         "name": "ProzessR",
         "type": "bar",
         "x": [
          "StGB",
          "EGStGB",
          "SubvG",
          "UWG",
          "UrhG",
          "VStGB",
          "WpHG",
          "StVG",
          "AufenthG",
          "AsylG",
          "BtMG",
          "WStG",
          "WaffG",
          "JuSchG",
          "VersammlG",
          "OWiG",
          "NetzDG",
          "GVG",
          "StPO",
          "StPOEG",
          "JGG",
          "IStGHG",
          "IRG",
          "StVollzG",
          "BZRG",
          "StrEG",
          "OEG",
          "JVEG",
          "RVG",
          "GG"
         ],
         "y": [
          0.05307207629084587,
          0.22179441154003143,
          0.18381738662719727,
          0.1391848772764206,
          0.03908258303999901,
          0.023985175415873528,
          0,
          0.041546620428562164,
          0.047302138060331345,
          0.20716144144535065,
          0.03168532997369766,
          0.010337656363844872,
          0,
          0,
          0.023127341642975807,
          0.5335841774940491,
          0.07416874170303345,
          0.6752356886863708,
          0.6147551536560059,
          0.336565762758255,
          0.428690105676651,
          0.7384032607078552,
          0.581283450126648,
          0.22069965302944183,
          0.18248967826366425,
          0.5628084540367126,
          0,
          0.2525494694709778,
          0.32958972454071045,
          0.04589051753282547
         ]
        },
        {
         "name": "GesR",
         "type": "bar",
         "x": [
          "StGB",
          "EGStGB",
          "SubvG",
          "UWG",
          "UrhG",
          "VStGB",
          "WpHG",
          "StVG",
          "AufenthG",
          "AsylG",
          "BtMG",
          "WStG",
          "WaffG",
          "JuSchG",
          "VersammlG",
          "OWiG",
          "NetzDG",
          "GVG",
          "StPO",
          "StPOEG",
          "JGG",
          "IStGHG",
          "IRG",
          "StVollzG",
          "BZRG",
          "StrEG",
          "OEG",
          "JVEG",
          "RVG",
          "GG"
         ],
         "y": [
          0.0870419591665268,
          0.08432922512292862,
          0.2672559320926666,
          0.40348103642463684,
          0.37236762046813965,
          0.016118954867124557,
          0.31445950269699097,
          0.04401727393269539,
          0.03291931748390198,
          0.02363208308815956,
          0,
          0.03989250585436821,
          0.03550019860267639,
          0.09523669630289078,
          0.07543192058801651,
          0.07126911729574203,
          0.10934054851531982,
          0.04638627544045448,
          0.03602595627307892,
          0.022114979103207588,
          0.019985994324088097,
          0.03272778168320656,
          0.030476560816168785,
          0.041384007781744,
          0.051940493285655975,
          0.09646126627922058,
          0.03749188035726547,
          0.06041675806045532,
          0.08162205666303635,
          0.05057837814092636
         ]
        },
        {
         "name": "UmweltR",
         "type": "bar",
         "x": [
          "StGB",
          "EGStGB",
          "SubvG",
          "UWG",
          "UrhG",
          "VStGB",
          "WpHG",
          "StVG",
          "AufenthG",
          "AsylG",
          "BtMG",
          "WStG",
          "WaffG",
          "JuSchG",
          "VersammlG",
          "OWiG",
          "NetzDG",
          "GVG",
          "StPO",
          "StPOEG",
          "JGG",
          "IStGHG",
          "IRG",
          "StVollzG",
          "BZRG",
          "StrEG",
          "OEG",
          "JVEG",
          "RVG",
          "GG"
         ],
         "y": [
          0.13551707565784454,
          0.04757930710911751,
          0.0230148546397686,
          0.06800036877393723,
          0.09615876525640488,
          0.19745376706123352,
          0.0321834422647953,
          0.13413967192173004,
          0.03331447392702103,
          0.04272719845175743,
          0.049160610884428024,
          0.061147961765527725,
          0.15225927531719208,
          0.1644350290298462,
          0.08079535514116287,
          0.05887060984969139,
          0.07796492427587509,
          0.04997585713863373,
          0.030817652121186256,
          0,
          0.06672143191099167,
          0,
          0.01290801353752613,
          0.09957955032587051,
          0,
          0.04207457974553108,
          0.06810649484395981,
          0.08246719837188721,
          0.023285379633307457,
          0.09226198494434357
         ]
        },
        {
         "name": "BeamtenR",
         "type": "bar",
         "x": [
          "StGB",
          "EGStGB",
          "SubvG",
          "UWG",
          "UrhG",
          "VStGB",
          "WpHG",
          "StVG",
          "AufenthG",
          "AsylG",
          "BtMG",
          "WStG",
          "WaffG",
          "JuSchG",
          "VersammlG",
          "OWiG",
          "NetzDG",
          "GVG",
          "StPO",
          "StPOEG",
          "JGG",
          "IStGHG",
          "IRG",
          "StVollzG",
          "BZRG",
          "StrEG",
          "OEG",
          "JVEG",
          "RVG",
          "GG"
         ],
         "y": [
          0.022547326982021332,
          0.06239704042673111,
          0.21305260062217712,
          0,
          0,
          0,
          0,
          0.027036186307668686,
          0.012382869608700275,
          0,
          0,
          0.15172609686851501,
          0,
          0,
          0,
          0,
          0,
          0.026744969189167023,
          0,
          0.011469351127743721,
          0.02222755178809166,
          0,
          0,
          0.18822653591632843,
          0,
          0,
          0.40412646532058716,
          0.10700876265764236,
          0,
          0.08304878324270248
         ]
        },
        {
         "name": "BahnR",
         "type": "bar",
         "x": [
          "StGB",
          "EGStGB",
          "SubvG",
          "UWG",
          "UrhG",
          "VStGB",
          "WpHG",
          "StVG",
          "AufenthG",
          "AsylG",
          "BtMG",
          "WStG",
          "WaffG",
          "JuSchG",
          "VersammlG",
          "OWiG",
          "NetzDG",
          "GVG",
          "StPO",
          "StPOEG",
          "JGG",
          "IStGHG",
          "IRG",
          "StVollzG",
          "BZRG",
          "StrEG",
          "OEG",
          "JVEG",
          "RVG",
          "GG"
         ],
         "y": [
          0,
          0,
          0,
          0.16931964457035065,
          0.02328178845345974,
          0.041188620030879974,
          0.15282884240150452,
          0.047301676124334335,
          0.032804664224386215,
          0.020372824743390083,
          0,
          0,
          0.015652332454919815,
          0.03852847218513489,
          0.01674642413854599,
          0,
          0.32864809036254883,
          0,
          0,
          0,
          0,
          0,
          0,
          0.02017347328364849,
          0,
          0,
          0.03712960332632065,
          0.07532020658254623,
          0,
          0.06708376854658127
         ]
        },
        {
         "name": "OrganR",
         "type": "bar",
         "x": [
          "StGB",
          "EGStGB",
          "SubvG",
          "UWG",
          "UrhG",
          "VStGB",
          "WpHG",
          "StVG",
          "AufenthG",
          "AsylG",
          "BtMG",
          "WStG",
          "WaffG",
          "JuSchG",
          "VersammlG",
          "OWiG",
          "NetzDG",
          "GVG",
          "StPO",
          "StPOEG",
          "JGG",
          "IStGHG",
          "IRG",
          "StVollzG",
          "BZRG",
          "StrEG",
          "OEG",
          "JVEG",
          "RVG",
          "GG"
         ],
         "y": [
          0.010543926618993282,
          0.02886210009455681,
          0,
          0.034201208502054214,
          0,
          0.026423584669828415,
          0,
          0,
          0,
          0,
          0,
          0.01425141654908657,
          0,
          0.16667647659778595,
          0.1262659728527069,
          0,
          0.08104241639375687,
          0.08514366298913956,
          0,
          0.033735763281583786,
          0.015519123524427414,
          0,
          0,
          0.03490747511386871,
          0,
          0,
          0,
          0.014189506880939007,
          0.015797970816493034,
          0.3350585699081421
         ]
        },
        {
         "name": "MedR",
         "type": "bar",
         "x": [
          "StGB",
          "EGStGB",
          "SubvG",
          "UWG",
          "UrhG",
          "VStGB",
          "WpHG",
          "StVG",
          "AufenthG",
          "AsylG",
          "BtMG",
          "WStG",
          "WaffG",
          "JuSchG",
          "VersammlG",
          "OWiG",
          "NetzDG",
          "GVG",
          "StPO",
          "StPOEG",
          "JGG",
          "IStGHG",
          "IRG",
          "StVollzG",
          "BZRG",
          "StrEG",
          "OEG",
          "JVEG",
          "RVG",
          "GG"
         ],
         "y": [
          0.011023931205272675,
          0,
          0,
          0.03132665529847145,
          0.04026356711983681,
          0.01937650330364704,
          0,
          0.027112873271107674,
          0.019261613488197327,
          0.01210442278534174,
          0.5922024846076965,
          0,
          0.02832879312336445,
          0.031110798940062523,
          0,
          0.013183184899389744,
          0,
          0,
          0,
          0.1272508054971695,
          0,
          0,
          0,
          0.016656579449772835,
          0.013466804288327694,
          0,
          0,
          0,
          0,
          0
         ]
        },
        {
         "name": "VersorgungsR",
         "type": "bar",
         "x": [
          "StGB",
          "EGStGB",
          "SubvG",
          "UWG",
          "UrhG",
          "VStGB",
          "WpHG",
          "StVG",
          "AufenthG",
          "AsylG",
          "BtMG",
          "WStG",
          "WaffG",
          "JuSchG",
          "VersammlG",
          "OWiG",
          "NetzDG",
          "GVG",
          "StPO",
          "StPOEG",
          "JGG",
          "IStGHG",
          "IRG",
          "StVollzG",
          "BZRG",
          "StrEG",
          "OEG",
          "JVEG",
          "RVG",
          "GG"
         ],
         "y": [
          0,
          0,
          0,
          0,
          0,
          0,
          0,
          0,
          0.45040836930274963,
          0.200966015458107,
          0,
          0,
          0,
          0,
          0,
          0,
          0,
          0,
          0,
          0,
          0,
          0,
          0,
          0,
          0,
          0.027771752327680588,
          0.2628803849220276,
          0,
          0,
          0.013400601223111153
         ]
        },
        {
         "name": "GebührenR",
         "type": "bar",
         "x": [
          "StGB",
          "EGStGB",
          "SubvG",
          "UWG",
          "UrhG",
          "VStGB",
          "WpHG",
          "StVG",
          "AufenthG",
          "AsylG",
          "BtMG",
          "WStG",
          "WaffG",
          "JuSchG",
          "VersammlG",
          "OWiG",
          "NetzDG",
          "GVG",
          "StPO",
          "StPOEG",
          "JGG",
          "IStGHG",
          "IRG",
          "StVollzG",
          "BZRG",
          "StrEG",
          "OEG",
          "JVEG",
          "RVG",
          "GG"
         ],
         "y": [
          0,
          0.030004972591996193,
          0,
          0,
          0,
          0,
          0,
          0,
          0,
          0,
          0,
          0,
          0,
          0,
          0,
          0.010248139500617981,
          0,
          0,
          0,
          0,
          0,
          0,
          0,
          0,
          0,
          0,
          0,
          0.19917376339435577,
          0.5025323033332825,
          0
         ]
        }
       ],
       "layout": {
        "barmode": "stack",
        "font": {
         "family": "Times New Roman",
         "size": 12
        },
        "template": {
         "data": {
          "bar": [
           {
            "error_x": {
             "color": "#2a3f5f"
            },
            "error_y": {
             "color": "#2a3f5f"
            },
            "marker": {
             "line": {
              "color": "#E5ECF6",
              "width": 0.5
             }
            },
            "type": "bar"
           }
          ],
          "barpolar": [
           {
            "marker": {
             "line": {
              "color": "#E5ECF6",
              "width": 0.5
             }
            },
            "type": "barpolar"
           }
          ],
          "carpet": [
           {
            "aaxis": {
             "endlinecolor": "#2a3f5f",
             "gridcolor": "white",
             "linecolor": "white",
             "minorgridcolor": "white",
             "startlinecolor": "#2a3f5f"
            },
            "baxis": {
             "endlinecolor": "#2a3f5f",
             "gridcolor": "white",
             "linecolor": "white",
             "minorgridcolor": "white",
             "startlinecolor": "#2a3f5f"
            },
            "type": "carpet"
           }
          ],
          "choropleth": [
           {
            "colorbar": {
             "outlinewidth": 0,
             "ticks": ""
            },
            "type": "choropleth"
           }
          ],
          "contour": [
           {
            "colorbar": {
             "outlinewidth": 0,
             "ticks": ""
            },
            "colorscale": [
             [
              0,
              "#0d0887"
             ],
             [
              0.1111111111111111,
              "#46039f"
             ],
             [
              0.2222222222222222,
              "#7201a8"
             ],
             [
              0.3333333333333333,
              "#9c179e"
             ],
             [
              0.4444444444444444,
              "#bd3786"
             ],
             [
              0.5555555555555556,
              "#d8576b"
             ],
             [
              0.6666666666666666,
              "#ed7953"
             ],
             [
              0.7777777777777778,
              "#fb9f3a"
             ],
             [
              0.8888888888888888,
              "#fdca26"
             ],
             [
              1,
              "#f0f921"
             ]
            ],
            "type": "contour"
           }
          ],
          "contourcarpet": [
           {
            "colorbar": {
             "outlinewidth": 0,
             "ticks": ""
            },
            "type": "contourcarpet"
           }
          ],
          "heatmap": [
           {
            "colorbar": {
             "outlinewidth": 0,
             "ticks": ""
            },
            "colorscale": [
             [
              0,
              "#0d0887"
             ],
             [
              0.1111111111111111,
              "#46039f"
             ],
             [
              0.2222222222222222,
              "#7201a8"
             ],
             [
              0.3333333333333333,
              "#9c179e"
             ],
             [
              0.4444444444444444,
              "#bd3786"
             ],
             [
              0.5555555555555556,
              "#d8576b"
             ],
             [
              0.6666666666666666,
              "#ed7953"
             ],
             [
              0.7777777777777778,
              "#fb9f3a"
             ],
             [
              0.8888888888888888,
              "#fdca26"
             ],
             [
              1,
              "#f0f921"
             ]
            ],
            "type": "heatmap"
           }
          ],
          "heatmapgl": [
           {
            "colorbar": {
             "outlinewidth": 0,
             "ticks": ""
            },
            "colorscale": [
             [
              0,
              "#0d0887"
             ],
             [
              0.1111111111111111,
              "#46039f"
             ],
             [
              0.2222222222222222,
              "#7201a8"
             ],
             [
              0.3333333333333333,
              "#9c179e"
             ],
             [
              0.4444444444444444,
              "#bd3786"
             ],
             [
              0.5555555555555556,
              "#d8576b"
             ],
             [
              0.6666666666666666,
              "#ed7953"
             ],
             [
              0.7777777777777778,
              "#fb9f3a"
             ],
             [
              0.8888888888888888,
              "#fdca26"
             ],
             [
              1,
              "#f0f921"
             ]
            ],
            "type": "heatmapgl"
           }
          ],
          "histogram": [
           {
            "marker": {
             "colorbar": {
              "outlinewidth": 0,
              "ticks": ""
             }
            },
            "type": "histogram"
           }
          ],
          "histogram2d": [
           {
            "colorbar": {
             "outlinewidth": 0,
             "ticks": ""
            },
            "colorscale": [
             [
              0,
              "#0d0887"
             ],
             [
              0.1111111111111111,
              "#46039f"
             ],
             [
              0.2222222222222222,
              "#7201a8"
             ],
             [
              0.3333333333333333,
              "#9c179e"
             ],
             [
              0.4444444444444444,
              "#bd3786"
             ],
             [
              0.5555555555555556,
              "#d8576b"
             ],
             [
              0.6666666666666666,
              "#ed7953"
             ],
             [
              0.7777777777777778,
              "#fb9f3a"
             ],
             [
              0.8888888888888888,
              "#fdca26"
             ],
             [
              1,
              "#f0f921"
             ]
            ],
            "type": "histogram2d"
           }
          ],
          "histogram2dcontour": [
           {
            "colorbar": {
             "outlinewidth": 0,
             "ticks": ""
            },
            "colorscale": [
             [
              0,
              "#0d0887"
             ],
             [
              0.1111111111111111,
              "#46039f"
             ],
             [
              0.2222222222222222,
              "#7201a8"
             ],
             [
              0.3333333333333333,
              "#9c179e"
             ],
             [
              0.4444444444444444,
              "#bd3786"
             ],
             [
              0.5555555555555556,
              "#d8576b"
             ],
             [
              0.6666666666666666,
              "#ed7953"
             ],
             [
              0.7777777777777778,
              "#fb9f3a"
             ],
             [
              0.8888888888888888,
              "#fdca26"
             ],
             [
              1,
              "#f0f921"
             ]
            ],
            "type": "histogram2dcontour"
           }
          ],
          "mesh3d": [
           {
            "colorbar": {
             "outlinewidth": 0,
             "ticks": ""
            },
            "type": "mesh3d"
           }
          ],
          "parcoords": [
           {
            "line": {
             "colorbar": {
              "outlinewidth": 0,
              "ticks": ""
             }
            },
            "type": "parcoords"
           }
          ],
          "pie": [
           {
            "automargin": true,
            "type": "pie"
           }
          ],
          "scatter": [
           {
            "marker": {
             "colorbar": {
              "outlinewidth": 0,
              "ticks": ""
             }
            },
            "type": "scatter"
           }
          ],
          "scatter3d": [
           {
            "line": {
             "colorbar": {
              "outlinewidth": 0,
              "ticks": ""
             }
            },
            "marker": {
             "colorbar": {
              "outlinewidth": 0,
              "ticks": ""
             }
            },
            "type": "scatter3d"
           }
          ],
          "scattercarpet": [
           {
            "marker": {
             "colorbar": {
              "outlinewidth": 0,
              "ticks": ""
             }
            },
            "type": "scattercarpet"
           }
          ],
          "scattergeo": [
           {
            "marker": {
             "colorbar": {
              "outlinewidth": 0,
              "ticks": ""
             }
            },
            "type": "scattergeo"
           }
          ],
          "scattergl": [
           {
            "marker": {
             "colorbar": {
              "outlinewidth": 0,
              "ticks": ""
             }
            },
            "type": "scattergl"
           }
          ],
          "scattermapbox": [
           {
            "marker": {
             "colorbar": {
              "outlinewidth": 0,
              "ticks": ""
             }
            },
            "type": "scattermapbox"
           }
          ],
          "scatterpolar": [
           {
            "marker": {
             "colorbar": {
              "outlinewidth": 0,
              "ticks": ""
             }
            },
            "type": "scatterpolar"
           }
          ],
          "scatterpolargl": [
           {
            "marker": {
             "colorbar": {
              "outlinewidth": 0,
              "ticks": ""
             }
            },
            "type": "scatterpolargl"
           }
          ],
          "scatterternary": [
           {
            "marker": {
             "colorbar": {
              "outlinewidth": 0,
              "ticks": ""
             }
            },
            "type": "scatterternary"
           }
          ],
          "surface": [
           {
            "colorbar": {
             "outlinewidth": 0,
             "ticks": ""
            },
            "colorscale": [
             [
              0,
              "#0d0887"
             ],
             [
              0.1111111111111111,
              "#46039f"
             ],
             [
              0.2222222222222222,
              "#7201a8"
             ],
             [
              0.3333333333333333,
              "#9c179e"
             ],
             [
              0.4444444444444444,
              "#bd3786"
             ],
             [
              0.5555555555555556,
              "#d8576b"
             ],
             [
              0.6666666666666666,
              "#ed7953"
             ],
             [
              0.7777777777777778,
              "#fb9f3a"
             ],
             [
              0.8888888888888888,
              "#fdca26"
             ],
             [
              1,
              "#f0f921"
             ]
            ],
            "type": "surface"
           }
          ],
          "table": [
           {
            "cells": {
             "fill": {
              "color": "#EBF0F8"
             },
             "line": {
              "color": "white"
             }
            },
            "header": {
             "fill": {
              "color": "#C8D4E3"
             },
             "line": {
              "color": "white"
             }
            },
            "type": "table"
           }
          ]
         },
         "layout": {
          "annotationdefaults": {
           "arrowcolor": "#2a3f5f",
           "arrowhead": 0,
           "arrowwidth": 1
          },
          "coloraxis": {
           "colorbar": {
            "outlinewidth": 0,
            "ticks": ""
           }
          },
          "colorscale": {
           "diverging": [
            [
             0,
             "#8e0152"
            ],
            [
             0.1,
             "#c51b7d"
            ],
            [
             0.2,
             "#de77ae"
            ],
            [
             0.3,
             "#f1b6da"
            ],
            [
             0.4,
             "#fde0ef"
            ],
            [
             0.5,
             "#f7f7f7"
            ],
            [
             0.6,
             "#e6f5d0"
            ],
            [
             0.7,
             "#b8e186"
            ],
            [
             0.8,
             "#7fbc41"
            ],
            [
             0.9,
             "#4d9221"
            ],
            [
             1,
             "#276419"
            ]
           ],
           "sequential": [
            [
             0,
             "#0d0887"
            ],
            [
             0.1111111111111111,
             "#46039f"
            ],
            [
             0.2222222222222222,
             "#7201a8"
            ],
            [
             0.3333333333333333,
             "#9c179e"
            ],
            [
             0.4444444444444444,
             "#bd3786"
            ],
            [
             0.5555555555555556,
             "#d8576b"
            ],
            [
             0.6666666666666666,
             "#ed7953"
            ],
            [
             0.7777777777777778,
             "#fb9f3a"
            ],
            [
             0.8888888888888888,
             "#fdca26"
            ],
            [
             1,
             "#f0f921"
            ]
           ],
           "sequentialminus": [
            [
             0,
             "#0d0887"
            ],
            [
             0.1111111111111111,
             "#46039f"
            ],
            [
             0.2222222222222222,
             "#7201a8"
            ],
            [
             0.3333333333333333,
             "#9c179e"
            ],
            [
             0.4444444444444444,
             "#bd3786"
            ],
            [
             0.5555555555555556,
             "#d8576b"
            ],
            [
             0.6666666666666666,
             "#ed7953"
            ],
            [
             0.7777777777777778,
             "#fb9f3a"
            ],
            [
             0.8888888888888888,
             "#fdca26"
            ],
            [
             1,
             "#f0f921"
            ]
           ]
          },
          "colorway": [
           "#636efa",
           "#EF553B",
           "#00cc96",
           "#ab63fa",
           "#FFA15A",
           "#19d3f3",
           "#FF6692",
           "#B6E880",
           "#FF97FF",
           "#FECB52"
          ],
          "font": {
           "color": "#2a3f5f"
          },
          "geo": {
           "bgcolor": "white",
           "lakecolor": "white",
           "landcolor": "#E5ECF6",
           "showlakes": true,
           "showland": true,
           "subunitcolor": "white"
          },
          "hoverlabel": {
           "align": "left"
          },
          "hovermode": "closest",
          "mapbox": {
           "style": "light"
          },
          "paper_bgcolor": "white",
          "plot_bgcolor": "#E5ECF6",
          "polar": {
           "angularaxis": {
            "gridcolor": "white",
            "linecolor": "white",
            "ticks": ""
           },
           "bgcolor": "#E5ECF6",
           "radialaxis": {
            "gridcolor": "white",
            "linecolor": "white",
            "ticks": ""
           }
          },
          "scene": {
           "xaxis": {
            "backgroundcolor": "#E5ECF6",
            "gridcolor": "white",
            "gridwidth": 2,
            "linecolor": "white",
            "showbackground": true,
            "ticks": "",
            "zerolinecolor": "white"
           },
           "yaxis": {
            "backgroundcolor": "#E5ECF6",
            "gridcolor": "white",
            "gridwidth": 2,
            "linecolor": "white",
            "showbackground": true,
            "ticks": "",
            "zerolinecolor": "white"
           },
           "zaxis": {
            "backgroundcolor": "#E5ECF6",
            "gridcolor": "white",
            "gridwidth": 2,
            "linecolor": "white",
            "showbackground": true,
            "ticks": "",
            "zerolinecolor": "white"
           }
          },
          "shapedefaults": {
           "line": {
            "color": "#2a3f5f"
           }
          },
          "ternary": {
           "aaxis": {
            "gridcolor": "white",
            "linecolor": "white",
            "ticks": ""
           },
           "baxis": {
            "gridcolor": "white",
            "linecolor": "white",
            "ticks": ""
           },
           "bgcolor": "#E5ECF6",
           "caxis": {
            "gridcolor": "white",
            "linecolor": "white",
            "ticks": ""
           }
          },
          "title": {
           "x": 0.05
          },
          "xaxis": {
           "automargin": true,
           "gridcolor": "white",
           "linecolor": "white",
           "ticks": "",
           "title": {
            "standoff": 15
           },
           "zerolinecolor": "white",
           "zerolinewidth": 2
          },
          "yaxis": {
           "automargin": true,
           "gridcolor": "white",
           "linecolor": "white",
           "ticks": "",
           "title": {
            "standoff": 15
           },
           "zerolinecolor": "white",
           "zerolinewidth": 2
          }
         }
        }
       }
      }
     },
     "metadata": {}
    }
   ],
   "source": [
    "plot(\"ArbText beck\")\n",
    "plot(\"Beck\")\n",
    "plot(\"BankR beck\")\n",
    "plot(\"UmwR beck\")\n",
    "plot(\"Umwelt\")\n",
    "plot(\"StrafR nomos\")"
   ]
  },
  {
   "cell_type": "markdown",
   "metadata": {},
   "source": [
    "# Most common laws of certain topic"
   ]
  },
  {
   "cell_type": "code",
   "execution_count": 9,
   "metadata": {},
   "outputs": [],
   "source": [
    "import pickle\n",
    "import plotly.graph_objects as go\n",
    "with open(\"pickles/laws_links_topics.pickle\", \"rb\") as fp:   # Unpickling\n",
    "    Gesetz.collected_laws = pickle.load(fp)"
   ]
  },
  {
   "cell_type": "code",
   "execution_count": 10,
   "metadata": {
    "tags": []
   },
   "outputs": [],
   "source": [
    "def plot_topic(topic_to_plot):\n",
    "    amount = 30\n",
    "    laws = []\n",
    "    for law in Gesetz.collected_laws.values():\n",
    "        strength = 0\n",
    "        for (top,pot) in law.topics:\n",
    "            if str(top) == topic_to_plot:\n",
    "                strength = pot\n",
    "        if len(laws)<amount:\n",
    "            laws.append((strength,law.name_short))\n",
    "            laws.sort()\n",
    "        elif laws[0][0]<strength:\n",
    "            laws[0] = (strength,law.name_short)\n",
    "            laws.sort()\n",
    "    \n",
    "    copy = laws\n",
    "    laws = []\n",
    "    copy.sort(reverse=True)\n",
    "    for (pot,law) in copy:\n",
    "        laws.append(Gesetz.collected_laws[law])\n",
    "\n",
    "    topics = {}\n",
    "    topics[topic_to_plot] = []\n",
    "    #topics[\"Sonstige\"] = []\n",
    "    labels = []\n",
    "    for law in laws:\n",
    "        others = 0\n",
    "        labels.append(law.name_short)\n",
    "        for (t,p) in law.topics:\n",
    "            if t == topic_to_plot:\n",
    "                topics[topic_to_plot].append(p)\n",
    "            else:\n",
    "                others = others + p\n",
    "        #topics[\"Sonstige\"].append(others)\n",
    "            \n",
    "\n",
    "    data = []\n",
    "    for topic in topics:\n",
    "        data.append(go.Bar(name=topic,x=labels,y=topics[topic]))\n",
    "        \n",
    "    fig = go.Figure(data=data)\n",
    "    # Change the bar mode\n",
    "    fig.update_layout(barmode='stack',title=(\"Topic \"+topic_to_plot),font_family=\"Arial\")\n",
    "    fig.show()\n"
   ]
  },
  {
   "cell_type": "code",
   "execution_count": 11,
   "metadata": {},
   "outputs": [
    {
     "output_type": "display_data",
     "data": {
      "application/vnd.plotly.v1+json": {
       "config": {
        "plotlyServerURL": "https://plot.ly"
       },
       "data": [
        {
         "name": "GesR",
         "type": "bar",
         "x": [
          "UmwG",
          "GmbHG",
          "AktGEG",
          "PublG",
          "AktG",
          "ScheckG",
          "MindNamÄndG",
          "EGGmbHG",
          "TestG",
          "LuftNaSiG",
          "GleichberG",
          "AdG",
          "BGB",
          "WG",
          "SpTrUG",
          "BGBEG",
          "VVG",
          "HGBEG",
          "NEhelG",
          "VWGmbHÜG",
          "DepotG",
          "WBVG",
          "WPapUmstG",
          "HGB",
          "GesRuaCOVBekG",
          "InhPapG",
          "EWIVAG",
          "VVGEG",
          "FMStBG",
          "DMBilG"
         ],
         "y": [
          0.9426068067550659,
          0.934899628162384,
          0.9232988357543945,
          0.8983606696128845,
          0.8960344791412354,
          0.8940567970275879,
          0.8922771215438843,
          0.889178991317749,
          0.8865163922309875,
          0.8821619153022766,
          0.8750540018081665,
          0.8707882761955261,
          0.8686834573745728,
          0.852242112159729,
          0.8517653346061707,
          0.8429706692695618,
          0.8302783370018005,
          0.8190308809280396,
          0.8114888072013855,
          0.8004670739173889,
          0.7832649946212769,
          0.7777538895606995,
          0.7730509042739868,
          0.7663150429725647,
          0.7538459300994873,
          0.7360069751739502,
          0.7350375652313232,
          0.734018087387085,
          0.7102839350700378,
          0.7063964605331421
         ]
        }
       ],
       "layout": {
        "barmode": "stack",
        "font": {
         "family": "Arial"
        },
        "template": {
         "data": {
          "bar": [
           {
            "error_x": {
             "color": "#2a3f5f"
            },
            "error_y": {
             "color": "#2a3f5f"
            },
            "marker": {
             "line": {
              "color": "#E5ECF6",
              "width": 0.5
             }
            },
            "type": "bar"
           }
          ],
          "barpolar": [
           {
            "marker": {
             "line": {
              "color": "#E5ECF6",
              "width": 0.5
             }
            },
            "type": "barpolar"
           }
          ],
          "carpet": [
           {
            "aaxis": {
             "endlinecolor": "#2a3f5f",
             "gridcolor": "white",
             "linecolor": "white",
             "minorgridcolor": "white",
             "startlinecolor": "#2a3f5f"
            },
            "baxis": {
             "endlinecolor": "#2a3f5f",
             "gridcolor": "white",
             "linecolor": "white",
             "minorgridcolor": "white",
             "startlinecolor": "#2a3f5f"
            },
            "type": "carpet"
           }
          ],
          "choropleth": [
           {
            "colorbar": {
             "outlinewidth": 0,
             "ticks": ""
            },
            "type": "choropleth"
           }
          ],
          "contour": [
           {
            "colorbar": {
             "outlinewidth": 0,
             "ticks": ""
            },
            "colorscale": [
             [
              0,
              "#0d0887"
             ],
             [
              0.1111111111111111,
              "#46039f"
             ],
             [
              0.2222222222222222,
              "#7201a8"
             ],
             [
              0.3333333333333333,
              "#9c179e"
             ],
             [
              0.4444444444444444,
              "#bd3786"
             ],
             [
              0.5555555555555556,
              "#d8576b"
             ],
             [
              0.6666666666666666,
              "#ed7953"
             ],
             [
              0.7777777777777778,
              "#fb9f3a"
             ],
             [
              0.8888888888888888,
              "#fdca26"
             ],
             [
              1,
              "#f0f921"
             ]
            ],
            "type": "contour"
           }
          ],
          "contourcarpet": [
           {
            "colorbar": {
             "outlinewidth": 0,
             "ticks": ""
            },
            "type": "contourcarpet"
           }
          ],
          "heatmap": [
           {
            "colorbar": {
             "outlinewidth": 0,
             "ticks": ""
            },
            "colorscale": [
             [
              0,
              "#0d0887"
             ],
             [
              0.1111111111111111,
              "#46039f"
             ],
             [
              0.2222222222222222,
              "#7201a8"
             ],
             [
              0.3333333333333333,
              "#9c179e"
             ],
             [
              0.4444444444444444,
              "#bd3786"
             ],
             [
              0.5555555555555556,
              "#d8576b"
             ],
             [
              0.6666666666666666,
              "#ed7953"
             ],
             [
              0.7777777777777778,
              "#fb9f3a"
             ],
             [
              0.8888888888888888,
              "#fdca26"
             ],
             [
              1,
              "#f0f921"
             ]
            ],
            "type": "heatmap"
           }
          ],
          "heatmapgl": [
           {
            "colorbar": {
             "outlinewidth": 0,
             "ticks": ""
            },
            "colorscale": [
             [
              0,
              "#0d0887"
             ],
             [
              0.1111111111111111,
              "#46039f"
             ],
             [
              0.2222222222222222,
              "#7201a8"
             ],
             [
              0.3333333333333333,
              "#9c179e"
             ],
             [
              0.4444444444444444,
              "#bd3786"
             ],
             [
              0.5555555555555556,
              "#d8576b"
             ],
             [
              0.6666666666666666,
              "#ed7953"
             ],
             [
              0.7777777777777778,
              "#fb9f3a"
             ],
             [
              0.8888888888888888,
              "#fdca26"
             ],
             [
              1,
              "#f0f921"
             ]
            ],
            "type": "heatmapgl"
           }
          ],
          "histogram": [
           {
            "marker": {
             "colorbar": {
              "outlinewidth": 0,
              "ticks": ""
             }
            },
            "type": "histogram"
           }
          ],
          "histogram2d": [
           {
            "colorbar": {
             "outlinewidth": 0,
             "ticks": ""
            },
            "colorscale": [
             [
              0,
              "#0d0887"
             ],
             [
              0.1111111111111111,
              "#46039f"
             ],
             [
              0.2222222222222222,
              "#7201a8"
             ],
             [
              0.3333333333333333,
              "#9c179e"
             ],
             [
              0.4444444444444444,
              "#bd3786"
             ],
             [
              0.5555555555555556,
              "#d8576b"
             ],
             [
              0.6666666666666666,
              "#ed7953"
             ],
             [
              0.7777777777777778,
              "#fb9f3a"
             ],
             [
              0.8888888888888888,
              "#fdca26"
             ],
             [
              1,
              "#f0f921"
             ]
            ],
            "type": "histogram2d"
           }
          ],
          "histogram2dcontour": [
           {
            "colorbar": {
             "outlinewidth": 0,
             "ticks": ""
            },
            "colorscale": [
             [
              0,
              "#0d0887"
             ],
             [
              0.1111111111111111,
              "#46039f"
             ],
             [
              0.2222222222222222,
              "#7201a8"
             ],
             [
              0.3333333333333333,
              "#9c179e"
             ],
             [
              0.4444444444444444,
              "#bd3786"
             ],
             [
              0.5555555555555556,
              "#d8576b"
             ],
             [
              0.6666666666666666,
              "#ed7953"
             ],
             [
              0.7777777777777778,
              "#fb9f3a"
             ],
             [
              0.8888888888888888,
              "#fdca26"
             ],
             [
              1,
              "#f0f921"
             ]
            ],
            "type": "histogram2dcontour"
           }
          ],
          "mesh3d": [
           {
            "colorbar": {
             "outlinewidth": 0,
             "ticks": ""
            },
            "type": "mesh3d"
           }
          ],
          "parcoords": [
           {
            "line": {
             "colorbar": {
              "outlinewidth": 0,
              "ticks": ""
             }
            },
            "type": "parcoords"
           }
          ],
          "pie": [
           {
            "automargin": true,
            "type": "pie"
           }
          ],
          "scatter": [
           {
            "marker": {
             "colorbar": {
              "outlinewidth": 0,
              "ticks": ""
             }
            },
            "type": "scatter"
           }
          ],
          "scatter3d": [
           {
            "line": {
             "colorbar": {
              "outlinewidth": 0,
              "ticks": ""
             }
            },
            "marker": {
             "colorbar": {
              "outlinewidth": 0,
              "ticks": ""
             }
            },
            "type": "scatter3d"
           }
          ],
          "scattercarpet": [
           {
            "marker": {
             "colorbar": {
              "outlinewidth": 0,
              "ticks": ""
             }
            },
            "type": "scattercarpet"
           }
          ],
          "scattergeo": [
           {
            "marker": {
             "colorbar": {
              "outlinewidth": 0,
              "ticks": ""
             }
            },
            "type": "scattergeo"
           }
          ],
          "scattergl": [
           {
            "marker": {
             "colorbar": {
              "outlinewidth": 0,
              "ticks": ""
             }
            },
            "type": "scattergl"
           }
          ],
          "scattermapbox": [
           {
            "marker": {
             "colorbar": {
              "outlinewidth": 0,
              "ticks": ""
             }
            },
            "type": "scattermapbox"
           }
          ],
          "scatterpolar": [
           {
            "marker": {
             "colorbar": {
              "outlinewidth": 0,
              "ticks": ""
             }
            },
            "type": "scatterpolar"
           }
          ],
          "scatterpolargl": [
           {
            "marker": {
             "colorbar": {
              "outlinewidth": 0,
              "ticks": ""
             }
            },
            "type": "scatterpolargl"
           }
          ],
          "scatterternary": [
           {
            "marker": {
             "colorbar": {
              "outlinewidth": 0,
              "ticks": ""
             }
            },
            "type": "scatterternary"
           }
          ],
          "surface": [
           {
            "colorbar": {
             "outlinewidth": 0,
             "ticks": ""
            },
            "colorscale": [
             [
              0,
              "#0d0887"
             ],
             [
              0.1111111111111111,
              "#46039f"
             ],
             [
              0.2222222222222222,
              "#7201a8"
             ],
             [
              0.3333333333333333,
              "#9c179e"
             ],
             [
              0.4444444444444444,
              "#bd3786"
             ],
             [
              0.5555555555555556,
              "#d8576b"
             ],
             [
              0.6666666666666666,
              "#ed7953"
             ],
             [
              0.7777777777777778,
              "#fb9f3a"
             ],
             [
              0.8888888888888888,
              "#fdca26"
             ],
             [
              1,
              "#f0f921"
             ]
            ],
            "type": "surface"
           }
          ],
          "table": [
           {
            "cells": {
             "fill": {
              "color": "#EBF0F8"
             },
             "line": {
              "color": "white"
             }
            },
            "header": {
             "fill": {
              "color": "#C8D4E3"
             },
             "line": {
              "color": "white"
             }
            },
            "type": "table"
           }
          ]
         },
         "layout": {
          "annotationdefaults": {
           "arrowcolor": "#2a3f5f",
           "arrowhead": 0,
           "arrowwidth": 1
          },
          "coloraxis": {
           "colorbar": {
            "outlinewidth": 0,
            "ticks": ""
           }
          },
          "colorscale": {
           "diverging": [
            [
             0,
             "#8e0152"
            ],
            [
             0.1,
             "#c51b7d"
            ],
            [
             0.2,
             "#de77ae"
            ],
            [
             0.3,
             "#f1b6da"
            ],
            [
             0.4,
             "#fde0ef"
            ],
            [
             0.5,
             "#f7f7f7"
            ],
            [
             0.6,
             "#e6f5d0"
            ],
            [
             0.7,
             "#b8e186"
            ],
            [
             0.8,
             "#7fbc41"
            ],
            [
             0.9,
             "#4d9221"
            ],
            [
             1,
             "#276419"
            ]
           ],
           "sequential": [
            [
             0,
             "#0d0887"
            ],
            [
             0.1111111111111111,
             "#46039f"
            ],
            [
             0.2222222222222222,
             "#7201a8"
            ],
            [
             0.3333333333333333,
             "#9c179e"
            ],
            [
             0.4444444444444444,
             "#bd3786"
            ],
            [
             0.5555555555555556,
             "#d8576b"
            ],
            [
             0.6666666666666666,
             "#ed7953"
            ],
            [
             0.7777777777777778,
             "#fb9f3a"
            ],
            [
             0.8888888888888888,
             "#fdca26"
            ],
            [
             1,
             "#f0f921"
            ]
           ],
           "sequentialminus": [
            [
             0,
             "#0d0887"
            ],
            [
             0.1111111111111111,
             "#46039f"
            ],
            [
             0.2222222222222222,
             "#7201a8"
            ],
            [
             0.3333333333333333,
             "#9c179e"
            ],
            [
             0.4444444444444444,
             "#bd3786"
            ],
            [
             0.5555555555555556,
             "#d8576b"
            ],
            [
             0.6666666666666666,
             "#ed7953"
            ],
            [
             0.7777777777777778,
             "#fb9f3a"
            ],
            [
             0.8888888888888888,
             "#fdca26"
            ],
            [
             1,
             "#f0f921"
            ]
           ]
          },
          "colorway": [
           "#636efa",
           "#EF553B",
           "#00cc96",
           "#ab63fa",
           "#FFA15A",
           "#19d3f3",
           "#FF6692",
           "#B6E880",
           "#FF97FF",
           "#FECB52"
          ],
          "font": {
           "color": "#2a3f5f"
          },
          "geo": {
           "bgcolor": "white",
           "lakecolor": "white",
           "landcolor": "#E5ECF6",
           "showlakes": true,
           "showland": true,
           "subunitcolor": "white"
          },
          "hoverlabel": {
           "align": "left"
          },
          "hovermode": "closest",
          "mapbox": {
           "style": "light"
          },
          "paper_bgcolor": "white",
          "plot_bgcolor": "#E5ECF6",
          "polar": {
           "angularaxis": {
            "gridcolor": "white",
            "linecolor": "white",
            "ticks": ""
           },
           "bgcolor": "#E5ECF6",
           "radialaxis": {
            "gridcolor": "white",
            "linecolor": "white",
            "ticks": ""
           }
          },
          "scene": {
           "xaxis": {
            "backgroundcolor": "#E5ECF6",
            "gridcolor": "white",
            "gridwidth": 2,
            "linecolor": "white",
            "showbackground": true,
            "ticks": "",
            "zerolinecolor": "white"
           },
           "yaxis": {
            "backgroundcolor": "#E5ECF6",
            "gridcolor": "white",
            "gridwidth": 2,
            "linecolor": "white",
            "showbackground": true,
            "ticks": "",
            "zerolinecolor": "white"
           },
           "zaxis": {
            "backgroundcolor": "#E5ECF6",
            "gridcolor": "white",
            "gridwidth": 2,
            "linecolor": "white",
            "showbackground": true,
            "ticks": "",
            "zerolinecolor": "white"
           }
          },
          "shapedefaults": {
           "line": {
            "color": "#2a3f5f"
           }
          },
          "ternary": {
           "aaxis": {
            "gridcolor": "white",
            "linecolor": "white",
            "ticks": ""
           },
           "baxis": {
            "gridcolor": "white",
            "linecolor": "white",
            "ticks": ""
           },
           "bgcolor": "#E5ECF6",
           "caxis": {
            "gridcolor": "white",
            "linecolor": "white",
            "ticks": ""
           }
          },
          "title": {
           "x": 0.05
          },
          "xaxis": {
           "automargin": true,
           "gridcolor": "white",
           "linecolor": "white",
           "ticks": "",
           "title": {
            "standoff": 15
           },
           "zerolinecolor": "white",
           "zerolinewidth": 2
          },
          "yaxis": {
           "automargin": true,
           "gridcolor": "white",
           "linecolor": "white",
           "ticks": "",
           "title": {
            "standoff": 15
           },
           "zerolinecolor": "white",
           "zerolinewidth": 2
          }
         }
        },
        "title": {
         "text": "Topic GesR"
        }
       }
      }
     },
     "metadata": {}
    },
    {
     "output_type": "display_data",
     "data": {
      "application/vnd.plotly.v1+json": {
       "config": {
        "plotlyServerURL": "https://plot.ly"
       },
       "data": [
        {
         "name": "ArbR",
         "type": "bar",
         "x": [
          "AufbhG",
          "SchlussFinG",
          "KBFG",
          "KInvFErrG",
          "DIFG",
          "SokaSiG",
          "AufhFG",
          "BGVPLTErG",
          "DEFG",
          "WFStG",
          "ABAG",
          "EKFG",
          "ERPVwG",
          "ITFG",
          "ArztWohnortG",
          "APAstErG",
          "RVKnSeemannskasseÜG",
          "WoFÜG",
          "AABG",
          "BetrAVG",
          "KrFArbZG",
          "1. NOG",
          "VerstromG3AbwG",
          "SozSichRheinSchiffÜbkVwVbgG",
          "2. AAÜG-ÄndG",
          "ArbZG",
          "JArbSchG",
          "SchuldMitüG",
          "NutzZG",
          "SVDDRAuflG"
         ],
         "y": [
          0.9005186557769775,
          0.8610005974769592,
          0.8456054329872131,
          0.7712851762771606,
          0.741912305355072,
          0.694638192653656,
          0.6734906435012817,
          0.6570751070976257,
          0.6535941362380981,
          0.6517115831375122,
          0.6468834280967712,
          0.6305870413780212,
          0.6211222410202026,
          0.6173998117446899,
          0.6053725481033325,
          0.5950959920883179,
          0.5796568393707275,
          0.5603622794151306,
          0.5545278191566467,
          0.55119788646698,
          0.5296993255615234,
          0.5270957350730896,
          0.5230774879455566,
          0.5145806074142456,
          0.5113447308540344,
          0.5038583278656006,
          0.5009775757789612,
          0.49945181608200073,
          0.4922987222671509,
          0.4816860258579254
         ]
        }
       ],
       "layout": {
        "barmode": "stack",
        "font": {
         "family": "Arial"
        },
        "template": {
         "data": {
          "bar": [
           {
            "error_x": {
             "color": "#2a3f5f"
            },
            "error_y": {
             "color": "#2a3f5f"
            },
            "marker": {
             "line": {
              "color": "#E5ECF6",
              "width": 0.5
             }
            },
            "type": "bar"
           }
          ],
          "barpolar": [
           {
            "marker": {
             "line": {
              "color": "#E5ECF6",
              "width": 0.5
             }
            },
            "type": "barpolar"
           }
          ],
          "carpet": [
           {
            "aaxis": {
             "endlinecolor": "#2a3f5f",
             "gridcolor": "white",
             "linecolor": "white",
             "minorgridcolor": "white",
             "startlinecolor": "#2a3f5f"
            },
            "baxis": {
             "endlinecolor": "#2a3f5f",
             "gridcolor": "white",
             "linecolor": "white",
             "minorgridcolor": "white",
             "startlinecolor": "#2a3f5f"
            },
            "type": "carpet"
           }
          ],
          "choropleth": [
           {
            "colorbar": {
             "outlinewidth": 0,
             "ticks": ""
            },
            "type": "choropleth"
           }
          ],
          "contour": [
           {
            "colorbar": {
             "outlinewidth": 0,
             "ticks": ""
            },
            "colorscale": [
             [
              0,
              "#0d0887"
             ],
             [
              0.1111111111111111,
              "#46039f"
             ],
             [
              0.2222222222222222,
              "#7201a8"
             ],
             [
              0.3333333333333333,
              "#9c179e"
             ],
             [
              0.4444444444444444,
              "#bd3786"
             ],
             [
              0.5555555555555556,
              "#d8576b"
             ],
             [
              0.6666666666666666,
              "#ed7953"
             ],
             [
              0.7777777777777778,
              "#fb9f3a"
             ],
             [
              0.8888888888888888,
              "#fdca26"
             ],
             [
              1,
              "#f0f921"
             ]
            ],
            "type": "contour"
           }
          ],
          "contourcarpet": [
           {
            "colorbar": {
             "outlinewidth": 0,
             "ticks": ""
            },
            "type": "contourcarpet"
           }
          ],
          "heatmap": [
           {
            "colorbar": {
             "outlinewidth": 0,
             "ticks": ""
            },
            "colorscale": [
             [
              0,
              "#0d0887"
             ],
             [
              0.1111111111111111,
              "#46039f"
             ],
             [
              0.2222222222222222,
              "#7201a8"
             ],
             [
              0.3333333333333333,
              "#9c179e"
             ],
             [
              0.4444444444444444,
              "#bd3786"
             ],
             [
              0.5555555555555556,
              "#d8576b"
             ],
             [
              0.6666666666666666,
              "#ed7953"
             ],
             [
              0.7777777777777778,
              "#fb9f3a"
             ],
             [
              0.8888888888888888,
              "#fdca26"
             ],
             [
              1,
              "#f0f921"
             ]
            ],
            "type": "heatmap"
           }
          ],
          "heatmapgl": [
           {
            "colorbar": {
             "outlinewidth": 0,
             "ticks": ""
            },
            "colorscale": [
             [
              0,
              "#0d0887"
             ],
             [
              0.1111111111111111,
              "#46039f"
             ],
             [
              0.2222222222222222,
              "#7201a8"
             ],
             [
              0.3333333333333333,
              "#9c179e"
             ],
             [
              0.4444444444444444,
              "#bd3786"
             ],
             [
              0.5555555555555556,
              "#d8576b"
             ],
             [
              0.6666666666666666,
              "#ed7953"
             ],
             [
              0.7777777777777778,
              "#fb9f3a"
             ],
             [
              0.8888888888888888,
              "#fdca26"
             ],
             [
              1,
              "#f0f921"
             ]
            ],
            "type": "heatmapgl"
           }
          ],
          "histogram": [
           {
            "marker": {
             "colorbar": {
              "outlinewidth": 0,
              "ticks": ""
             }
            },
            "type": "histogram"
           }
          ],
          "histogram2d": [
           {
            "colorbar": {
             "outlinewidth": 0,
             "ticks": ""
            },
            "colorscale": [
             [
              0,
              "#0d0887"
             ],
             [
              0.1111111111111111,
              "#46039f"
             ],
             [
              0.2222222222222222,
              "#7201a8"
             ],
             [
              0.3333333333333333,
              "#9c179e"
             ],
             [
              0.4444444444444444,
              "#bd3786"
             ],
             [
              0.5555555555555556,
              "#d8576b"
             ],
             [
              0.6666666666666666,
              "#ed7953"
             ],
             [
              0.7777777777777778,
              "#fb9f3a"
             ],
             [
              0.8888888888888888,
              "#fdca26"
             ],
             [
              1,
              "#f0f921"
             ]
            ],
            "type": "histogram2d"
           }
          ],
          "histogram2dcontour": [
           {
            "colorbar": {
             "outlinewidth": 0,
             "ticks": ""
            },
            "colorscale": [
             [
              0,
              "#0d0887"
             ],
             [
              0.1111111111111111,
              "#46039f"
             ],
             [
              0.2222222222222222,
              "#7201a8"
             ],
             [
              0.3333333333333333,
              "#9c179e"
             ],
             [
              0.4444444444444444,
              "#bd3786"
             ],
             [
              0.5555555555555556,
              "#d8576b"
             ],
             [
              0.6666666666666666,
              "#ed7953"
             ],
             [
              0.7777777777777778,
              "#fb9f3a"
             ],
             [
              0.8888888888888888,
              "#fdca26"
             ],
             [
              1,
              "#f0f921"
             ]
            ],
            "type": "histogram2dcontour"
           }
          ],
          "mesh3d": [
           {
            "colorbar": {
             "outlinewidth": 0,
             "ticks": ""
            },
            "type": "mesh3d"
           }
          ],
          "parcoords": [
           {
            "line": {
             "colorbar": {
              "outlinewidth": 0,
              "ticks": ""
             }
            },
            "type": "parcoords"
           }
          ],
          "pie": [
           {
            "automargin": true,
            "type": "pie"
           }
          ],
          "scatter": [
           {
            "marker": {
             "colorbar": {
              "outlinewidth": 0,
              "ticks": ""
             }
            },
            "type": "scatter"
           }
          ],
          "scatter3d": [
           {
            "line": {
             "colorbar": {
              "outlinewidth": 0,
              "ticks": ""
             }
            },
            "marker": {
             "colorbar": {
              "outlinewidth": 0,
              "ticks": ""
             }
            },
            "type": "scatter3d"
           }
          ],
          "scattercarpet": [
           {
            "marker": {
             "colorbar": {
              "outlinewidth": 0,
              "ticks": ""
             }
            },
            "type": "scattercarpet"
           }
          ],
          "scattergeo": [
           {
            "marker": {
             "colorbar": {
              "outlinewidth": 0,
              "ticks": ""
             }
            },
            "type": "scattergeo"
           }
          ],
          "scattergl": [
           {
            "marker": {
             "colorbar": {
              "outlinewidth": 0,
              "ticks": ""
             }
            },
            "type": "scattergl"
           }
          ],
          "scattermapbox": [
           {
            "marker": {
             "colorbar": {
              "outlinewidth": 0,
              "ticks": ""
             }
            },
            "type": "scattermapbox"
           }
          ],
          "scatterpolar": [
           {
            "marker": {
             "colorbar": {
              "outlinewidth": 0,
              "ticks": ""
             }
            },
            "type": "scatterpolar"
           }
          ],
          "scatterpolargl": [
           {
            "marker": {
             "colorbar": {
              "outlinewidth": 0,
              "ticks": ""
             }
            },
            "type": "scatterpolargl"
           }
          ],
          "scatterternary": [
           {
            "marker": {
             "colorbar": {
              "outlinewidth": 0,
              "ticks": ""
             }
            },
            "type": "scatterternary"
           }
          ],
          "surface": [
           {
            "colorbar": {
             "outlinewidth": 0,
             "ticks": ""
            },
            "colorscale": [
             [
              0,
              "#0d0887"
             ],
             [
              0.1111111111111111,
              "#46039f"
             ],
             [
              0.2222222222222222,
              "#7201a8"
             ],
             [
              0.3333333333333333,
              "#9c179e"
             ],
             [
              0.4444444444444444,
              "#bd3786"
             ],
             [
              0.5555555555555556,
              "#d8576b"
             ],
             [
              0.6666666666666666,
              "#ed7953"
             ],
             [
              0.7777777777777778,
              "#fb9f3a"
             ],
             [
              0.8888888888888888,
              "#fdca26"
             ],
             [
              1,
              "#f0f921"
             ]
            ],
            "type": "surface"
           }
          ],
          "table": [
           {
            "cells": {
             "fill": {
              "color": "#EBF0F8"
             },
             "line": {
              "color": "white"
             }
            },
            "header": {
             "fill": {
              "color": "#C8D4E3"
             },
             "line": {
              "color": "white"
             }
            },
            "type": "table"
           }
          ]
         },
         "layout": {
          "annotationdefaults": {
           "arrowcolor": "#2a3f5f",
           "arrowhead": 0,
           "arrowwidth": 1
          },
          "coloraxis": {
           "colorbar": {
            "outlinewidth": 0,
            "ticks": ""
           }
          },
          "colorscale": {
           "diverging": [
            [
             0,
             "#8e0152"
            ],
            [
             0.1,
             "#c51b7d"
            ],
            [
             0.2,
             "#de77ae"
            ],
            [
             0.3,
             "#f1b6da"
            ],
            [
             0.4,
             "#fde0ef"
            ],
            [
             0.5,
             "#f7f7f7"
            ],
            [
             0.6,
             "#e6f5d0"
            ],
            [
             0.7,
             "#b8e186"
            ],
            [
             0.8,
             "#7fbc41"
            ],
            [
             0.9,
             "#4d9221"
            ],
            [
             1,
             "#276419"
            ]
           ],
           "sequential": [
            [
             0,
             "#0d0887"
            ],
            [
             0.1111111111111111,
             "#46039f"
            ],
            [
             0.2222222222222222,
             "#7201a8"
            ],
            [
             0.3333333333333333,
             "#9c179e"
            ],
            [
             0.4444444444444444,
             "#bd3786"
            ],
            [
             0.5555555555555556,
             "#d8576b"
            ],
            [
             0.6666666666666666,
             "#ed7953"
            ],
            [
             0.7777777777777778,
             "#fb9f3a"
            ],
            [
             0.8888888888888888,
             "#fdca26"
            ],
            [
             1,
             "#f0f921"
            ]
           ],
           "sequentialminus": [
            [
             0,
             "#0d0887"
            ],
            [
             0.1111111111111111,
             "#46039f"
            ],
            [
             0.2222222222222222,
             "#7201a8"
            ],
            [
             0.3333333333333333,
             "#9c179e"
            ],
            [
             0.4444444444444444,
             "#bd3786"
            ],
            [
             0.5555555555555556,
             "#d8576b"
            ],
            [
             0.6666666666666666,
             "#ed7953"
            ],
            [
             0.7777777777777778,
             "#fb9f3a"
            ],
            [
             0.8888888888888888,
             "#fdca26"
            ],
            [
             1,
             "#f0f921"
            ]
           ]
          },
          "colorway": [
           "#636efa",
           "#EF553B",
           "#00cc96",
           "#ab63fa",
           "#FFA15A",
           "#19d3f3",
           "#FF6692",
           "#B6E880",
           "#FF97FF",
           "#FECB52"
          ],
          "font": {
           "color": "#2a3f5f"
          },
          "geo": {
           "bgcolor": "white",
           "lakecolor": "white",
           "landcolor": "#E5ECF6",
           "showlakes": true,
           "showland": true,
           "subunitcolor": "white"
          },
          "hoverlabel": {
           "align": "left"
          },
          "hovermode": "closest",
          "mapbox": {
           "style": "light"
          },
          "paper_bgcolor": "white",
          "plot_bgcolor": "#E5ECF6",
          "polar": {
           "angularaxis": {
            "gridcolor": "white",
            "linecolor": "white",
            "ticks": ""
           },
           "bgcolor": "#E5ECF6",
           "radialaxis": {
            "gridcolor": "white",
            "linecolor": "white",
            "ticks": ""
           }
          },
          "scene": {
           "xaxis": {
            "backgroundcolor": "#E5ECF6",
            "gridcolor": "white",
            "gridwidth": 2,
            "linecolor": "white",
            "showbackground": true,
            "ticks": "",
            "zerolinecolor": "white"
           },
           "yaxis": {
            "backgroundcolor": "#E5ECF6",
            "gridcolor": "white",
            "gridwidth": 2,
            "linecolor": "white",
            "showbackground": true,
            "ticks": "",
            "zerolinecolor": "white"
           },
           "zaxis": {
            "backgroundcolor": "#E5ECF6",
            "gridcolor": "white",
            "gridwidth": 2,
            "linecolor": "white",
            "showbackground": true,
            "ticks": "",
            "zerolinecolor": "white"
           }
          },
          "shapedefaults": {
           "line": {
            "color": "#2a3f5f"
           }
          },
          "ternary": {
           "aaxis": {
            "gridcolor": "white",
            "linecolor": "white",
            "ticks": ""
           },
           "baxis": {
            "gridcolor": "white",
            "linecolor": "white",
            "ticks": ""
           },
           "bgcolor": "#E5ECF6",
           "caxis": {
            "gridcolor": "white",
            "linecolor": "white",
            "ticks": ""
           }
          },
          "title": {
           "x": 0.05
          },
          "xaxis": {
           "automargin": true,
           "gridcolor": "white",
           "linecolor": "white",
           "ticks": "",
           "title": {
            "standoff": 15
           },
           "zerolinecolor": "white",
           "zerolinewidth": 2
          },
          "yaxis": {
           "automargin": true,
           "gridcolor": "white",
           "linecolor": "white",
           "ticks": "",
           "title": {
            "standoff": 15
           },
           "zerolinecolor": "white",
           "zerolinewidth": 2
          }
         }
        },
        "title": {
         "text": "Topic ArbR"
        }
       }
      }
     },
     "metadata": {}
    },
    {
     "output_type": "display_data",
     "data": {
      "application/vnd.plotly.v1+json": {
       "config": {
        "plotlyServerURL": "https://plot.ly"
       },
       "data": [
        {
         "name": "BankR",
         "type": "bar",
         "x": [
          "GGArt91cVtrG",
          "VertLastÄndG",
          "DollBBerAbk2G",
          "GGArt91cÄndVtr1G",
          "BFinHBRuaG",
          "FrHfHbgAufhG",
          "AutobBrVtrBELG",
          "KraftStKompG",
          "AuslWBG",
          "FlugkmkRBÜbkG",
          "AuslWBEntschG",
          "KatHiLAbkRussFöG",
          "VgHilAbkUSAG",
          "GrBerKrAC/MalVtrBELG",
          "RheinBrückEschauVtrG",
          "ARGEuaÄndG",
          "EmsDolKoopVtrNLDG",
          "StruktHiGAufhDEFASG",
          "KatHiLAbkBELG",
          "SozSichAbkDVbgSWEG",
          "ARG",
          "KatHiLAbkLITG",
          "VermRglVtrISR/AUSG",
          "KatHiLAbkDNKG",
          "GrBerichtVtrNLD1G",
          "GrBerichtVtrNLD2G",
          "UrhUSAG",
          "AltfAbwG",
          "FABECVtrG",
          "FischDNKVtrG"
         ],
         "y": [
          0.7744925618171692,
          0.7169171571731567,
          0.679964542388916,
          0.669049859046936,
          0.6684758067131042,
          0.6672403216362,
          0.6642799377441406,
          0.6515317559242249,
          0.6277447938919067,
          0.6061065196990967,
          0.5840707421302795,
          0.5591200590133667,
          0.550693154335022,
          0.547645628452301,
          0.5113136768341064,
          0.507741391658783,
          0.502224862575531,
          0.48784708976745605,
          0.4668988287448883,
          0.4637712836265564,
          0.4589070975780487,
          0.4472273588180542,
          0.43594470620155334,
          0.43026208877563477,
          0.4274274706840515,
          0.4003661274909973,
          0.38477206230163574,
          0.377795547246933,
          0.37431392073631287,
          0.3668338656425476
         ]
        }
       ],
       "layout": {
        "barmode": "stack",
        "font": {
         "family": "Arial"
        },
        "template": {
         "data": {
          "bar": [
           {
            "error_x": {
             "color": "#2a3f5f"
            },
            "error_y": {
             "color": "#2a3f5f"
            },
            "marker": {
             "line": {
              "color": "#E5ECF6",
              "width": 0.5
             }
            },
            "type": "bar"
           }
          ],
          "barpolar": [
           {
            "marker": {
             "line": {
              "color": "#E5ECF6",
              "width": 0.5
             }
            },
            "type": "barpolar"
           }
          ],
          "carpet": [
           {
            "aaxis": {
             "endlinecolor": "#2a3f5f",
             "gridcolor": "white",
             "linecolor": "white",
             "minorgridcolor": "white",
             "startlinecolor": "#2a3f5f"
            },
            "baxis": {
             "endlinecolor": "#2a3f5f",
             "gridcolor": "white",
             "linecolor": "white",
             "minorgridcolor": "white",
             "startlinecolor": "#2a3f5f"
            },
            "type": "carpet"
           }
          ],
          "choropleth": [
           {
            "colorbar": {
             "outlinewidth": 0,
             "ticks": ""
            },
            "type": "choropleth"
           }
          ],
          "contour": [
           {
            "colorbar": {
             "outlinewidth": 0,
             "ticks": ""
            },
            "colorscale": [
             [
              0,
              "#0d0887"
             ],
             [
              0.1111111111111111,
              "#46039f"
             ],
             [
              0.2222222222222222,
              "#7201a8"
             ],
             [
              0.3333333333333333,
              "#9c179e"
             ],
             [
              0.4444444444444444,
              "#bd3786"
             ],
             [
              0.5555555555555556,
              "#d8576b"
             ],
             [
              0.6666666666666666,
              "#ed7953"
             ],
             [
              0.7777777777777778,
              "#fb9f3a"
             ],
             [
              0.8888888888888888,
              "#fdca26"
             ],
             [
              1,
              "#f0f921"
             ]
            ],
            "type": "contour"
           }
          ],
          "contourcarpet": [
           {
            "colorbar": {
             "outlinewidth": 0,
             "ticks": ""
            },
            "type": "contourcarpet"
           }
          ],
          "heatmap": [
           {
            "colorbar": {
             "outlinewidth": 0,
             "ticks": ""
            },
            "colorscale": [
             [
              0,
              "#0d0887"
             ],
             [
              0.1111111111111111,
              "#46039f"
             ],
             [
              0.2222222222222222,
              "#7201a8"
             ],
             [
              0.3333333333333333,
              "#9c179e"
             ],
             [
              0.4444444444444444,
              "#bd3786"
             ],
             [
              0.5555555555555556,
              "#d8576b"
             ],
             [
              0.6666666666666666,
              "#ed7953"
             ],
             [
              0.7777777777777778,
              "#fb9f3a"
             ],
             [
              0.8888888888888888,
              "#fdca26"
             ],
             [
              1,
              "#f0f921"
             ]
            ],
            "type": "heatmap"
           }
          ],
          "heatmapgl": [
           {
            "colorbar": {
             "outlinewidth": 0,
             "ticks": ""
            },
            "colorscale": [
             [
              0,
              "#0d0887"
             ],
             [
              0.1111111111111111,
              "#46039f"
             ],
             [
              0.2222222222222222,
              "#7201a8"
             ],
             [
              0.3333333333333333,
              "#9c179e"
             ],
             [
              0.4444444444444444,
              "#bd3786"
             ],
             [
              0.5555555555555556,
              "#d8576b"
             ],
             [
              0.6666666666666666,
              "#ed7953"
             ],
             [
              0.7777777777777778,
              "#fb9f3a"
             ],
             [
              0.8888888888888888,
              "#fdca26"
             ],
             [
              1,
              "#f0f921"
             ]
            ],
            "type": "heatmapgl"
           }
          ],
          "histogram": [
           {
            "marker": {
             "colorbar": {
              "outlinewidth": 0,
              "ticks": ""
             }
            },
            "type": "histogram"
           }
          ],
          "histogram2d": [
           {
            "colorbar": {
             "outlinewidth": 0,
             "ticks": ""
            },
            "colorscale": [
             [
              0,
              "#0d0887"
             ],
             [
              0.1111111111111111,
              "#46039f"
             ],
             [
              0.2222222222222222,
              "#7201a8"
             ],
             [
              0.3333333333333333,
              "#9c179e"
             ],
             [
              0.4444444444444444,
              "#bd3786"
             ],
             [
              0.5555555555555556,
              "#d8576b"
             ],
             [
              0.6666666666666666,
              "#ed7953"
             ],
             [
              0.7777777777777778,
              "#fb9f3a"
             ],
             [
              0.8888888888888888,
              "#fdca26"
             ],
             [
              1,
              "#f0f921"
             ]
            ],
            "type": "histogram2d"
           }
          ],
          "histogram2dcontour": [
           {
            "colorbar": {
             "outlinewidth": 0,
             "ticks": ""
            },
            "colorscale": [
             [
              0,
              "#0d0887"
             ],
             [
              0.1111111111111111,
              "#46039f"
             ],
             [
              0.2222222222222222,
              "#7201a8"
             ],
             [
              0.3333333333333333,
              "#9c179e"
             ],
             [
              0.4444444444444444,
              "#bd3786"
             ],
             [
              0.5555555555555556,
              "#d8576b"
             ],
             [
              0.6666666666666666,
              "#ed7953"
             ],
             [
              0.7777777777777778,
              "#fb9f3a"
             ],
             [
              0.8888888888888888,
              "#fdca26"
             ],
             [
              1,
              "#f0f921"
             ]
            ],
            "type": "histogram2dcontour"
           }
          ],
          "mesh3d": [
           {
            "colorbar": {
             "outlinewidth": 0,
             "ticks": ""
            },
            "type": "mesh3d"
           }
          ],
          "parcoords": [
           {
            "line": {
             "colorbar": {
              "outlinewidth": 0,
              "ticks": ""
             }
            },
            "type": "parcoords"
           }
          ],
          "pie": [
           {
            "automargin": true,
            "type": "pie"
           }
          ],
          "scatter": [
           {
            "marker": {
             "colorbar": {
              "outlinewidth": 0,
              "ticks": ""
             }
            },
            "type": "scatter"
           }
          ],
          "scatter3d": [
           {
            "line": {
             "colorbar": {
              "outlinewidth": 0,
              "ticks": ""
             }
            },
            "marker": {
             "colorbar": {
              "outlinewidth": 0,
              "ticks": ""
             }
            },
            "type": "scatter3d"
           }
          ],
          "scattercarpet": [
           {
            "marker": {
             "colorbar": {
              "outlinewidth": 0,
              "ticks": ""
             }
            },
            "type": "scattercarpet"
           }
          ],
          "scattergeo": [
           {
            "marker": {
             "colorbar": {
              "outlinewidth": 0,
              "ticks": ""
             }
            },
            "type": "scattergeo"
           }
          ],
          "scattergl": [
           {
            "marker": {
             "colorbar": {
              "outlinewidth": 0,
              "ticks": ""
             }
            },
            "type": "scattergl"
           }
          ],
          "scattermapbox": [
           {
            "marker": {
             "colorbar": {
              "outlinewidth": 0,
              "ticks": ""
             }
            },
            "type": "scattermapbox"
           }
          ],
          "scatterpolar": [
           {
            "marker": {
             "colorbar": {
              "outlinewidth": 0,
              "ticks": ""
             }
            },
            "type": "scatterpolar"
           }
          ],
          "scatterpolargl": [
           {
            "marker": {
             "colorbar": {
              "outlinewidth": 0,
              "ticks": ""
             }
            },
            "type": "scatterpolargl"
           }
          ],
          "scatterternary": [
           {
            "marker": {
             "colorbar": {
              "outlinewidth": 0,
              "ticks": ""
             }
            },
            "type": "scatterternary"
           }
          ],
          "surface": [
           {
            "colorbar": {
             "outlinewidth": 0,
             "ticks": ""
            },
            "colorscale": [
             [
              0,
              "#0d0887"
             ],
             [
              0.1111111111111111,
              "#46039f"
             ],
             [
              0.2222222222222222,
              "#7201a8"
             ],
             [
              0.3333333333333333,
              "#9c179e"
             ],
             [
              0.4444444444444444,
              "#bd3786"
             ],
             [
              0.5555555555555556,
              "#d8576b"
             ],
             [
              0.6666666666666666,
              "#ed7953"
             ],
             [
              0.7777777777777778,
              "#fb9f3a"
             ],
             [
              0.8888888888888888,
              "#fdca26"
             ],
             [
              1,
              "#f0f921"
             ]
            ],
            "type": "surface"
           }
          ],
          "table": [
           {
            "cells": {
             "fill": {
              "color": "#EBF0F8"
             },
             "line": {
              "color": "white"
             }
            },
            "header": {
             "fill": {
              "color": "#C8D4E3"
             },
             "line": {
              "color": "white"
             }
            },
            "type": "table"
           }
          ]
         },
         "layout": {
          "annotationdefaults": {
           "arrowcolor": "#2a3f5f",
           "arrowhead": 0,
           "arrowwidth": 1
          },
          "coloraxis": {
           "colorbar": {
            "outlinewidth": 0,
            "ticks": ""
           }
          },
          "colorscale": {
           "diverging": [
            [
             0,
             "#8e0152"
            ],
            [
             0.1,
             "#c51b7d"
            ],
            [
             0.2,
             "#de77ae"
            ],
            [
             0.3,
             "#f1b6da"
            ],
            [
             0.4,
             "#fde0ef"
            ],
            [
             0.5,
             "#f7f7f7"
            ],
            [
             0.6,
             "#e6f5d0"
            ],
            [
             0.7,
             "#b8e186"
            ],
            [
             0.8,
             "#7fbc41"
            ],
            [
             0.9,
             "#4d9221"
            ],
            [
             1,
             "#276419"
            ]
           ],
           "sequential": [
            [
             0,
             "#0d0887"
            ],
            [
             0.1111111111111111,
             "#46039f"
            ],
            [
             0.2222222222222222,
             "#7201a8"
            ],
            [
             0.3333333333333333,
             "#9c179e"
            ],
            [
             0.4444444444444444,
             "#bd3786"
            ],
            [
             0.5555555555555556,
             "#d8576b"
            ],
            [
             0.6666666666666666,
             "#ed7953"
            ],
            [
             0.7777777777777778,
             "#fb9f3a"
            ],
            [
             0.8888888888888888,
             "#fdca26"
            ],
            [
             1,
             "#f0f921"
            ]
           ],
           "sequentialminus": [
            [
             0,
             "#0d0887"
            ],
            [
             0.1111111111111111,
             "#46039f"
            ],
            [
             0.2222222222222222,
             "#7201a8"
            ],
            [
             0.3333333333333333,
             "#9c179e"
            ],
            [
             0.4444444444444444,
             "#bd3786"
            ],
            [
             0.5555555555555556,
             "#d8576b"
            ],
            [
             0.6666666666666666,
             "#ed7953"
            ],
            [
             0.7777777777777778,
             "#fb9f3a"
            ],
            [
             0.8888888888888888,
             "#fdca26"
            ],
            [
             1,
             "#f0f921"
            ]
           ]
          },
          "colorway": [
           "#636efa",
           "#EF553B",
           "#00cc96",
           "#ab63fa",
           "#FFA15A",
           "#19d3f3",
           "#FF6692",
           "#B6E880",
           "#FF97FF",
           "#FECB52"
          ],
          "font": {
           "color": "#2a3f5f"
          },
          "geo": {
           "bgcolor": "white",
           "lakecolor": "white",
           "landcolor": "#E5ECF6",
           "showlakes": true,
           "showland": true,
           "subunitcolor": "white"
          },
          "hoverlabel": {
           "align": "left"
          },
          "hovermode": "closest",
          "mapbox": {
           "style": "light"
          },
          "paper_bgcolor": "white",
          "plot_bgcolor": "#E5ECF6",
          "polar": {
           "angularaxis": {
            "gridcolor": "white",
            "linecolor": "white",
            "ticks": ""
           },
           "bgcolor": "#E5ECF6",
           "radialaxis": {
            "gridcolor": "white",
            "linecolor": "white",
            "ticks": ""
           }
          },
          "scene": {
           "xaxis": {
            "backgroundcolor": "#E5ECF6",
            "gridcolor": "white",
            "gridwidth": 2,
            "linecolor": "white",
            "showbackground": true,
            "ticks": "",
            "zerolinecolor": "white"
           },
           "yaxis": {
            "backgroundcolor": "#E5ECF6",
            "gridcolor": "white",
            "gridwidth": 2,
            "linecolor": "white",
            "showbackground": true,
            "ticks": "",
            "zerolinecolor": "white"
           },
           "zaxis": {
            "backgroundcolor": "#E5ECF6",
            "gridcolor": "white",
            "gridwidth": 2,
            "linecolor": "white",
            "showbackground": true,
            "ticks": "",
            "zerolinecolor": "white"
           }
          },
          "shapedefaults": {
           "line": {
            "color": "#2a3f5f"
           }
          },
          "ternary": {
           "aaxis": {
            "gridcolor": "white",
            "linecolor": "white",
            "ticks": ""
           },
           "baxis": {
            "gridcolor": "white",
            "linecolor": "white",
            "ticks": ""
           },
           "bgcolor": "#E5ECF6",
           "caxis": {
            "gridcolor": "white",
            "linecolor": "white",
            "ticks": ""
           }
          },
          "title": {
           "x": 0.05
          },
          "xaxis": {
           "automargin": true,
           "gridcolor": "white",
           "linecolor": "white",
           "ticks": "",
           "title": {
            "standoff": 15
           },
           "zerolinecolor": "white",
           "zerolinewidth": 2
          },
          "yaxis": {
           "automargin": true,
           "gridcolor": "white",
           "linecolor": "white",
           "ticks": "",
           "title": {
            "standoff": 15
           },
           "zerolinecolor": "white",
           "zerolinewidth": 2
          }
         }
        },
        "title": {
         "text": "Topic BankR"
        }
       }
      }
     },
     "metadata": {}
    },
    {
     "output_type": "display_data",
     "data": {
      "application/vnd.plotly.v1+json": {
       "config": {
        "plotlyServerURL": "https://plot.ly"
       },
       "data": [
        {
         "name": "UmweltR",
         "type": "bar",
         "x": [
          "AtHaftÜbkG",
          "WVögelAbkG",
          "EuLRaumÜbkG",
          "AntarktUmwSchProtAG",
          "UAGAnwG",
          "LMeerSchÜbkG",
          "AbwAG",
          "WildTArtÜbkG",
          "IAEOBen/IAEOHiLÜbkG",
          "BImSchG",
          "SchErsRÄndG",
          "RobErhÜbkG",
          "UNSekrSitzAbkG",
          "FluLärmSchutzVerbG",
          "IFUKK1992ÄndUrk1996G",
          "EUROCONTROLÜbkNFProtG",
          "HoheSeeÜbkG",
          "PersStdNamZProtG",
          "AlkoVerfrG",
          "StrlSchG",
          "HoheSeeEinbrG",
          "UmweltHG",
          "SchSG",
          "BinSchÜbkG",
          "UNSekrSitzAbkÄndProtG",
          "MForschG",
          "AtG",
          "NordSBrWeinG",
          "SatellitÜbkG",
          "CCDSekrSitzAbkG"
         ],
         "y": [
          0.9439250826835632,
          0.8825132846832275,
          0.8643035888671875,
          0.8612701892852783,
          0.8208887577056885,
          0.8062067627906799,
          0.7730416655540466,
          0.7625744938850403,
          0.7606974244117737,
          0.7583991885185242,
          0.754939615726471,
          0.7463917136192322,
          0.7392779588699341,
          0.7334557175636292,
          0.7294752597808838,
          0.7278860807418823,
          0.7202195525169373,
          0.7201418876647949,
          0.7179621458053589,
          0.7135535478591919,
          0.7103561758995056,
          0.7034755945205688,
          0.7022080421447754,
          0.7011467218399048,
          0.6894136667251587,
          0.6872652173042297,
          0.6660415530204773,
          0.6653795838356018,
          0.660797119140625,
          0.6570338010787964
         ]
        }
       ],
       "layout": {
        "barmode": "stack",
        "font": {
         "family": "Arial"
        },
        "template": {
         "data": {
          "bar": [
           {
            "error_x": {
             "color": "#2a3f5f"
            },
            "error_y": {
             "color": "#2a3f5f"
            },
            "marker": {
             "line": {
              "color": "#E5ECF6",
              "width": 0.5
             }
            },
            "type": "bar"
           }
          ],
          "barpolar": [
           {
            "marker": {
             "line": {
              "color": "#E5ECF6",
              "width": 0.5
             }
            },
            "type": "barpolar"
           }
          ],
          "carpet": [
           {
            "aaxis": {
             "endlinecolor": "#2a3f5f",
             "gridcolor": "white",
             "linecolor": "white",
             "minorgridcolor": "white",
             "startlinecolor": "#2a3f5f"
            },
            "baxis": {
             "endlinecolor": "#2a3f5f",
             "gridcolor": "white",
             "linecolor": "white",
             "minorgridcolor": "white",
             "startlinecolor": "#2a3f5f"
            },
            "type": "carpet"
           }
          ],
          "choropleth": [
           {
            "colorbar": {
             "outlinewidth": 0,
             "ticks": ""
            },
            "type": "choropleth"
           }
          ],
          "contour": [
           {
            "colorbar": {
             "outlinewidth": 0,
             "ticks": ""
            },
            "colorscale": [
             [
              0,
              "#0d0887"
             ],
             [
              0.1111111111111111,
              "#46039f"
             ],
             [
              0.2222222222222222,
              "#7201a8"
             ],
             [
              0.3333333333333333,
              "#9c179e"
             ],
             [
              0.4444444444444444,
              "#bd3786"
             ],
             [
              0.5555555555555556,
              "#d8576b"
             ],
             [
              0.6666666666666666,
              "#ed7953"
             ],
             [
              0.7777777777777778,
              "#fb9f3a"
             ],
             [
              0.8888888888888888,
              "#fdca26"
             ],
             [
              1,
              "#f0f921"
             ]
            ],
            "type": "contour"
           }
          ],
          "contourcarpet": [
           {
            "colorbar": {
             "outlinewidth": 0,
             "ticks": ""
            },
            "type": "contourcarpet"
           }
          ],
          "heatmap": [
           {
            "colorbar": {
             "outlinewidth": 0,
             "ticks": ""
            },
            "colorscale": [
             [
              0,
              "#0d0887"
             ],
             [
              0.1111111111111111,
              "#46039f"
             ],
             [
              0.2222222222222222,
              "#7201a8"
             ],
             [
              0.3333333333333333,
              "#9c179e"
             ],
             [
              0.4444444444444444,
              "#bd3786"
             ],
             [
              0.5555555555555556,
              "#d8576b"
             ],
             [
              0.6666666666666666,
              "#ed7953"
             ],
             [
              0.7777777777777778,
              "#fb9f3a"
             ],
             [
              0.8888888888888888,
              "#fdca26"
             ],
             [
              1,
              "#f0f921"
             ]
            ],
            "type": "heatmap"
           }
          ],
          "heatmapgl": [
           {
            "colorbar": {
             "outlinewidth": 0,
             "ticks": ""
            },
            "colorscale": [
             [
              0,
              "#0d0887"
             ],
             [
              0.1111111111111111,
              "#46039f"
             ],
             [
              0.2222222222222222,
              "#7201a8"
             ],
             [
              0.3333333333333333,
              "#9c179e"
             ],
             [
              0.4444444444444444,
              "#bd3786"
             ],
             [
              0.5555555555555556,
              "#d8576b"
             ],
             [
              0.6666666666666666,
              "#ed7953"
             ],
             [
              0.7777777777777778,
              "#fb9f3a"
             ],
             [
              0.8888888888888888,
              "#fdca26"
             ],
             [
              1,
              "#f0f921"
             ]
            ],
            "type": "heatmapgl"
           }
          ],
          "histogram": [
           {
            "marker": {
             "colorbar": {
              "outlinewidth": 0,
              "ticks": ""
             }
            },
            "type": "histogram"
           }
          ],
          "histogram2d": [
           {
            "colorbar": {
             "outlinewidth": 0,
             "ticks": ""
            },
            "colorscale": [
             [
              0,
              "#0d0887"
             ],
             [
              0.1111111111111111,
              "#46039f"
             ],
             [
              0.2222222222222222,
              "#7201a8"
             ],
             [
              0.3333333333333333,
              "#9c179e"
             ],
             [
              0.4444444444444444,
              "#bd3786"
             ],
             [
              0.5555555555555556,
              "#d8576b"
             ],
             [
              0.6666666666666666,
              "#ed7953"
             ],
             [
              0.7777777777777778,
              "#fb9f3a"
             ],
             [
              0.8888888888888888,
              "#fdca26"
             ],
             [
              1,
              "#f0f921"
             ]
            ],
            "type": "histogram2d"
           }
          ],
          "histogram2dcontour": [
           {
            "colorbar": {
             "outlinewidth": 0,
             "ticks": ""
            },
            "colorscale": [
             [
              0,
              "#0d0887"
             ],
             [
              0.1111111111111111,
              "#46039f"
             ],
             [
              0.2222222222222222,
              "#7201a8"
             ],
             [
              0.3333333333333333,
              "#9c179e"
             ],
             [
              0.4444444444444444,
              "#bd3786"
             ],
             [
              0.5555555555555556,
              "#d8576b"
             ],
             [
              0.6666666666666666,
              "#ed7953"
             ],
             [
              0.7777777777777778,
              "#fb9f3a"
             ],
             [
              0.8888888888888888,
              "#fdca26"
             ],
             [
              1,
              "#f0f921"
             ]
            ],
            "type": "histogram2dcontour"
           }
          ],
          "mesh3d": [
           {
            "colorbar": {
             "outlinewidth": 0,
             "ticks": ""
            },
            "type": "mesh3d"
           }
          ],
          "parcoords": [
           {
            "line": {
             "colorbar": {
              "outlinewidth": 0,
              "ticks": ""
             }
            },
            "type": "parcoords"
           }
          ],
          "pie": [
           {
            "automargin": true,
            "type": "pie"
           }
          ],
          "scatter": [
           {
            "marker": {
             "colorbar": {
              "outlinewidth": 0,
              "ticks": ""
             }
            },
            "type": "scatter"
           }
          ],
          "scatter3d": [
           {
            "line": {
             "colorbar": {
              "outlinewidth": 0,
              "ticks": ""
             }
            },
            "marker": {
             "colorbar": {
              "outlinewidth": 0,
              "ticks": ""
             }
            },
            "type": "scatter3d"
           }
          ],
          "scattercarpet": [
           {
            "marker": {
             "colorbar": {
              "outlinewidth": 0,
              "ticks": ""
             }
            },
            "type": "scattercarpet"
           }
          ],
          "scattergeo": [
           {
            "marker": {
             "colorbar": {
              "outlinewidth": 0,
              "ticks": ""
             }
            },
            "type": "scattergeo"
           }
          ],
          "scattergl": [
           {
            "marker": {
             "colorbar": {
              "outlinewidth": 0,
              "ticks": ""
             }
            },
            "type": "scattergl"
           }
          ],
          "scattermapbox": [
           {
            "marker": {
             "colorbar": {
              "outlinewidth": 0,
              "ticks": ""
             }
            },
            "type": "scattermapbox"
           }
          ],
          "scatterpolar": [
           {
            "marker": {
             "colorbar": {
              "outlinewidth": 0,
              "ticks": ""
             }
            },
            "type": "scatterpolar"
           }
          ],
          "scatterpolargl": [
           {
            "marker": {
             "colorbar": {
              "outlinewidth": 0,
              "ticks": ""
             }
            },
            "type": "scatterpolargl"
           }
          ],
          "scatterternary": [
           {
            "marker": {
             "colorbar": {
              "outlinewidth": 0,
              "ticks": ""
             }
            },
            "type": "scatterternary"
           }
          ],
          "surface": [
           {
            "colorbar": {
             "outlinewidth": 0,
             "ticks": ""
            },
            "colorscale": [
             [
              0,
              "#0d0887"
             ],
             [
              0.1111111111111111,
              "#46039f"
             ],
             [
              0.2222222222222222,
              "#7201a8"
             ],
             [
              0.3333333333333333,
              "#9c179e"
             ],
             [
              0.4444444444444444,
              "#bd3786"
             ],
             [
              0.5555555555555556,
              "#d8576b"
             ],
             [
              0.6666666666666666,
              "#ed7953"
             ],
             [
              0.7777777777777778,
              "#fb9f3a"
             ],
             [
              0.8888888888888888,
              "#fdca26"
             ],
             [
              1,
              "#f0f921"
             ]
            ],
            "type": "surface"
           }
          ],
          "table": [
           {
            "cells": {
             "fill": {
              "color": "#EBF0F8"
             },
             "line": {
              "color": "white"
             }
            },
            "header": {
             "fill": {
              "color": "#C8D4E3"
             },
             "line": {
              "color": "white"
             }
            },
            "type": "table"
           }
          ]
         },
         "layout": {
          "annotationdefaults": {
           "arrowcolor": "#2a3f5f",
           "arrowhead": 0,
           "arrowwidth": 1
          },
          "coloraxis": {
           "colorbar": {
            "outlinewidth": 0,
            "ticks": ""
           }
          },
          "colorscale": {
           "diverging": [
            [
             0,
             "#8e0152"
            ],
            [
             0.1,
             "#c51b7d"
            ],
            [
             0.2,
             "#de77ae"
            ],
            [
             0.3,
             "#f1b6da"
            ],
            [
             0.4,
             "#fde0ef"
            ],
            [
             0.5,
             "#f7f7f7"
            ],
            [
             0.6,
             "#e6f5d0"
            ],
            [
             0.7,
             "#b8e186"
            ],
            [
             0.8,
             "#7fbc41"
            ],
            [
             0.9,
             "#4d9221"
            ],
            [
             1,
             "#276419"
            ]
           ],
           "sequential": [
            [
             0,
             "#0d0887"
            ],
            [
             0.1111111111111111,
             "#46039f"
            ],
            [
             0.2222222222222222,
             "#7201a8"
            ],
            [
             0.3333333333333333,
             "#9c179e"
            ],
            [
             0.4444444444444444,
             "#bd3786"
            ],
            [
             0.5555555555555556,
             "#d8576b"
            ],
            [
             0.6666666666666666,
             "#ed7953"
            ],
            [
             0.7777777777777778,
             "#fb9f3a"
            ],
            [
             0.8888888888888888,
             "#fdca26"
            ],
            [
             1,
             "#f0f921"
            ]
           ],
           "sequentialminus": [
            [
             0,
             "#0d0887"
            ],
            [
             0.1111111111111111,
             "#46039f"
            ],
            [
             0.2222222222222222,
             "#7201a8"
            ],
            [
             0.3333333333333333,
             "#9c179e"
            ],
            [
             0.4444444444444444,
             "#bd3786"
            ],
            [
             0.5555555555555556,
             "#d8576b"
            ],
            [
             0.6666666666666666,
             "#ed7953"
            ],
            [
             0.7777777777777778,
             "#fb9f3a"
            ],
            [
             0.8888888888888888,
             "#fdca26"
            ],
            [
             1,
             "#f0f921"
            ]
           ]
          },
          "colorway": [
           "#636efa",
           "#EF553B",
           "#00cc96",
           "#ab63fa",
           "#FFA15A",
           "#19d3f3",
           "#FF6692",
           "#B6E880",
           "#FF97FF",
           "#FECB52"
          ],
          "font": {
           "color": "#2a3f5f"
          },
          "geo": {
           "bgcolor": "white",
           "lakecolor": "white",
           "landcolor": "#E5ECF6",
           "showlakes": true,
           "showland": true,
           "subunitcolor": "white"
          },
          "hoverlabel": {
           "align": "left"
          },
          "hovermode": "closest",
          "mapbox": {
           "style": "light"
          },
          "paper_bgcolor": "white",
          "plot_bgcolor": "#E5ECF6",
          "polar": {
           "angularaxis": {
            "gridcolor": "white",
            "linecolor": "white",
            "ticks": ""
           },
           "bgcolor": "#E5ECF6",
           "radialaxis": {
            "gridcolor": "white",
            "linecolor": "white",
            "ticks": ""
           }
          },
          "scene": {
           "xaxis": {
            "backgroundcolor": "#E5ECF6",
            "gridcolor": "white",
            "gridwidth": 2,
            "linecolor": "white",
            "showbackground": true,
            "ticks": "",
            "zerolinecolor": "white"
           },
           "yaxis": {
            "backgroundcolor": "#E5ECF6",
            "gridcolor": "white",
            "gridwidth": 2,
            "linecolor": "white",
            "showbackground": true,
            "ticks": "",
            "zerolinecolor": "white"
           },
           "zaxis": {
            "backgroundcolor": "#E5ECF6",
            "gridcolor": "white",
            "gridwidth": 2,
            "linecolor": "white",
            "showbackground": true,
            "ticks": "",
            "zerolinecolor": "white"
           }
          },
          "shapedefaults": {
           "line": {
            "color": "#2a3f5f"
           }
          },
          "ternary": {
           "aaxis": {
            "gridcolor": "white",
            "linecolor": "white",
            "ticks": ""
           },
           "baxis": {
            "gridcolor": "white",
            "linecolor": "white",
            "ticks": ""
           },
           "bgcolor": "#E5ECF6",
           "caxis": {
            "gridcolor": "white",
            "linecolor": "white",
            "ticks": ""
           }
          },
          "title": {
           "x": 0.05
          },
          "xaxis": {
           "automargin": true,
           "gridcolor": "white",
           "linecolor": "white",
           "ticks": "",
           "title": {
            "standoff": 15
           },
           "zerolinecolor": "white",
           "zerolinewidth": 2
          },
          "yaxis": {
           "automargin": true,
           "gridcolor": "white",
           "linecolor": "white",
           "ticks": "",
           "title": {
            "standoff": 15
           },
           "zerolinecolor": "white",
           "zerolinewidth": 2
          }
         }
        },
        "title": {
         "text": "Topic UmweltR"
        }
       }
      }
     },
     "metadata": {}
    },
    {
     "output_type": "display_data",
     "data": {
      "application/vnd.plotly.v1+json": {
       "config": {
        "plotlyServerURL": "https://plot.ly"
       },
       "data": [
        {
         "name": "StrafR",
         "type": "bar",
         "x": [
          "MADG",
          "BKAG",
          "BVerfSchG",
          "ZFdG",
          "VWDG",
          "ATDG",
          "RED-G",
          "BPolG",
          "VISZG",
          "NWRG",
          "KrimBekAbkUSAAG",
          "FlugDaG",
          "EuropolG",
          "BNDG",
          "EuTerrorÜbkG",
          "AZRG",
          "SÜG",
          "SISIIG",
          "PaßG",
          "BZRG",
          "UZwG",
          "WStG",
          "BKATerrAbwG",
          "NTSG",
          "PAuswG",
          "DRK-SDDSG",
          "VStGB",
          "De-Mail-G",
          "PrümVtrAG",
          "StGBuaÄndG"
         ],
         "y": [
          0.9544060826301575,
          0.9513943791389465,
          0.919590175151825,
          0.9171255230903625,
          0.9102885723114014,
          0.9047532677650452,
          0.8962974548339844,
          0.8931048512458801,
          0.879421591758728,
          0.8335400223731995,
          0.8279606103897095,
          0.8131639361381531,
          0.8118841052055359,
          0.7871565222740173,
          0.753761351108551,
          0.7530263662338257,
          0.7510115504264832,
          0.7330772280693054,
          0.721744179725647,
          0.7211506366729736,
          0.7181392312049866,
          0.7075952291488647,
          0.7018877863883972,
          0.6935448050498962,
          0.6922590136528015,
          0.6814668774604797,
          0.6704066395759583,
          0.6679684519767761,
          0.666587769985199,
          0.6646755933761597
         ]
        }
       ],
       "layout": {
        "barmode": "stack",
        "font": {
         "family": "Arial"
        },
        "template": {
         "data": {
          "bar": [
           {
            "error_x": {
             "color": "#2a3f5f"
            },
            "error_y": {
             "color": "#2a3f5f"
            },
            "marker": {
             "line": {
              "color": "#E5ECF6",
              "width": 0.5
             }
            },
            "type": "bar"
           }
          ],
          "barpolar": [
           {
            "marker": {
             "line": {
              "color": "#E5ECF6",
              "width": 0.5
             }
            },
            "type": "barpolar"
           }
          ],
          "carpet": [
           {
            "aaxis": {
             "endlinecolor": "#2a3f5f",
             "gridcolor": "white",
             "linecolor": "white",
             "minorgridcolor": "white",
             "startlinecolor": "#2a3f5f"
            },
            "baxis": {
             "endlinecolor": "#2a3f5f",
             "gridcolor": "white",
             "linecolor": "white",
             "minorgridcolor": "white",
             "startlinecolor": "#2a3f5f"
            },
            "type": "carpet"
           }
          ],
          "choropleth": [
           {
            "colorbar": {
             "outlinewidth": 0,
             "ticks": ""
            },
            "type": "choropleth"
           }
          ],
          "contour": [
           {
            "colorbar": {
             "outlinewidth": 0,
             "ticks": ""
            },
            "colorscale": [
             [
              0,
              "#0d0887"
             ],
             [
              0.1111111111111111,
              "#46039f"
             ],
             [
              0.2222222222222222,
              "#7201a8"
             ],
             [
              0.3333333333333333,
              "#9c179e"
             ],
             [
              0.4444444444444444,
              "#bd3786"
             ],
             [
              0.5555555555555556,
              "#d8576b"
             ],
             [
              0.6666666666666666,
              "#ed7953"
             ],
             [
              0.7777777777777778,
              "#fb9f3a"
             ],
             [
              0.8888888888888888,
              "#fdca26"
             ],
             [
              1,
              "#f0f921"
             ]
            ],
            "type": "contour"
           }
          ],
          "contourcarpet": [
           {
            "colorbar": {
             "outlinewidth": 0,
             "ticks": ""
            },
            "type": "contourcarpet"
           }
          ],
          "heatmap": [
           {
            "colorbar": {
             "outlinewidth": 0,
             "ticks": ""
            },
            "colorscale": [
             [
              0,
              "#0d0887"
             ],
             [
              0.1111111111111111,
              "#46039f"
             ],
             [
              0.2222222222222222,
              "#7201a8"
             ],
             [
              0.3333333333333333,
              "#9c179e"
             ],
             [
              0.4444444444444444,
              "#bd3786"
             ],
             [
              0.5555555555555556,
              "#d8576b"
             ],
             [
              0.6666666666666666,
              "#ed7953"
             ],
             [
              0.7777777777777778,
              "#fb9f3a"
             ],
             [
              0.8888888888888888,
              "#fdca26"
             ],
             [
              1,
              "#f0f921"
             ]
            ],
            "type": "heatmap"
           }
          ],
          "heatmapgl": [
           {
            "colorbar": {
             "outlinewidth": 0,
             "ticks": ""
            },
            "colorscale": [
             [
              0,
              "#0d0887"
             ],
             [
              0.1111111111111111,
              "#46039f"
             ],
             [
              0.2222222222222222,
              "#7201a8"
             ],
             [
              0.3333333333333333,
              "#9c179e"
             ],
             [
              0.4444444444444444,
              "#bd3786"
             ],
             [
              0.5555555555555556,
              "#d8576b"
             ],
             [
              0.6666666666666666,
              "#ed7953"
             ],
             [
              0.7777777777777778,
              "#fb9f3a"
             ],
             [
              0.8888888888888888,
              "#fdca26"
             ],
             [
              1,
              "#f0f921"
             ]
            ],
            "type": "heatmapgl"
           }
          ],
          "histogram": [
           {
            "marker": {
             "colorbar": {
              "outlinewidth": 0,
              "ticks": ""
             }
            },
            "type": "histogram"
           }
          ],
          "histogram2d": [
           {
            "colorbar": {
             "outlinewidth": 0,
             "ticks": ""
            },
            "colorscale": [
             [
              0,
              "#0d0887"
             ],
             [
              0.1111111111111111,
              "#46039f"
             ],
             [
              0.2222222222222222,
              "#7201a8"
             ],
             [
              0.3333333333333333,
              "#9c179e"
             ],
             [
              0.4444444444444444,
              "#bd3786"
             ],
             [
              0.5555555555555556,
              "#d8576b"
             ],
             [
              0.6666666666666666,
              "#ed7953"
             ],
             [
              0.7777777777777778,
              "#fb9f3a"
             ],
             [
              0.8888888888888888,
              "#fdca26"
             ],
             [
              1,
              "#f0f921"
             ]
            ],
            "type": "histogram2d"
           }
          ],
          "histogram2dcontour": [
           {
            "colorbar": {
             "outlinewidth": 0,
             "ticks": ""
            },
            "colorscale": [
             [
              0,
              "#0d0887"
             ],
             [
              0.1111111111111111,
              "#46039f"
             ],
             [
              0.2222222222222222,
              "#7201a8"
             ],
             [
              0.3333333333333333,
              "#9c179e"
             ],
             [
              0.4444444444444444,
              "#bd3786"
             ],
             [
              0.5555555555555556,
              "#d8576b"
             ],
             [
              0.6666666666666666,
              "#ed7953"
             ],
             [
              0.7777777777777778,
              "#fb9f3a"
             ],
             [
              0.8888888888888888,
              "#fdca26"
             ],
             [
              1,
              "#f0f921"
             ]
            ],
            "type": "histogram2dcontour"
           }
          ],
          "mesh3d": [
           {
            "colorbar": {
             "outlinewidth": 0,
             "ticks": ""
            },
            "type": "mesh3d"
           }
          ],
          "parcoords": [
           {
            "line": {
             "colorbar": {
              "outlinewidth": 0,
              "ticks": ""
             }
            },
            "type": "parcoords"
           }
          ],
          "pie": [
           {
            "automargin": true,
            "type": "pie"
           }
          ],
          "scatter": [
           {
            "marker": {
             "colorbar": {
              "outlinewidth": 0,
              "ticks": ""
             }
            },
            "type": "scatter"
           }
          ],
          "scatter3d": [
           {
            "line": {
             "colorbar": {
              "outlinewidth": 0,
              "ticks": ""
             }
            },
            "marker": {
             "colorbar": {
              "outlinewidth": 0,
              "ticks": ""
             }
            },
            "type": "scatter3d"
           }
          ],
          "scattercarpet": [
           {
            "marker": {
             "colorbar": {
              "outlinewidth": 0,
              "ticks": ""
             }
            },
            "type": "scattercarpet"
           }
          ],
          "scattergeo": [
           {
            "marker": {
             "colorbar": {
              "outlinewidth": 0,
              "ticks": ""
             }
            },
            "type": "scattergeo"
           }
          ],
          "scattergl": [
           {
            "marker": {
             "colorbar": {
              "outlinewidth": 0,
              "ticks": ""
             }
            },
            "type": "scattergl"
           }
          ],
          "scattermapbox": [
           {
            "marker": {
             "colorbar": {
              "outlinewidth": 0,
              "ticks": ""
             }
            },
            "type": "scattermapbox"
           }
          ],
          "scatterpolar": [
           {
            "marker": {
             "colorbar": {
              "outlinewidth": 0,
              "ticks": ""
             }
            },
            "type": "scatterpolar"
           }
          ],
          "scatterpolargl": [
           {
            "marker": {
             "colorbar": {
              "outlinewidth": 0,
              "ticks": ""
             }
            },
            "type": "scatterpolargl"
           }
          ],
          "scatterternary": [
           {
            "marker": {
             "colorbar": {
              "outlinewidth": 0,
              "ticks": ""
             }
            },
            "type": "scatterternary"
           }
          ],
          "surface": [
           {
            "colorbar": {
             "outlinewidth": 0,
             "ticks": ""
            },
            "colorscale": [
             [
              0,
              "#0d0887"
             ],
             [
              0.1111111111111111,
              "#46039f"
             ],
             [
              0.2222222222222222,
              "#7201a8"
             ],
             [
              0.3333333333333333,
              "#9c179e"
             ],
             [
              0.4444444444444444,
              "#bd3786"
             ],
             [
              0.5555555555555556,
              "#d8576b"
             ],
             [
              0.6666666666666666,
              "#ed7953"
             ],
             [
              0.7777777777777778,
              "#fb9f3a"
             ],
             [
              0.8888888888888888,
              "#fdca26"
             ],
             [
              1,
              "#f0f921"
             ]
            ],
            "type": "surface"
           }
          ],
          "table": [
           {
            "cells": {
             "fill": {
              "color": "#EBF0F8"
             },
             "line": {
              "color": "white"
             }
            },
            "header": {
             "fill": {
              "color": "#C8D4E3"
             },
             "line": {
              "color": "white"
             }
            },
            "type": "table"
           }
          ]
         },
         "layout": {
          "annotationdefaults": {
           "arrowcolor": "#2a3f5f",
           "arrowhead": 0,
           "arrowwidth": 1
          },
          "coloraxis": {
           "colorbar": {
            "outlinewidth": 0,
            "ticks": ""
           }
          },
          "colorscale": {
           "diverging": [
            [
             0,
             "#8e0152"
            ],
            [
             0.1,
             "#c51b7d"
            ],
            [
             0.2,
             "#de77ae"
            ],
            [
             0.3,
             "#f1b6da"
            ],
            [
             0.4,
             "#fde0ef"
            ],
            [
             0.5,
             "#f7f7f7"
            ],
            [
             0.6,
             "#e6f5d0"
            ],
            [
             0.7,
             "#b8e186"
            ],
            [
             0.8,
             "#7fbc41"
            ],
            [
             0.9,
             "#4d9221"
            ],
            [
             1,
             "#276419"
            ]
           ],
           "sequential": [
            [
             0,
             "#0d0887"
            ],
            [
             0.1111111111111111,
             "#46039f"
            ],
            [
             0.2222222222222222,
             "#7201a8"
            ],
            [
             0.3333333333333333,
             "#9c179e"
            ],
            [
             0.4444444444444444,
             "#bd3786"
            ],
            [
             0.5555555555555556,
             "#d8576b"
            ],
            [
             0.6666666666666666,
             "#ed7953"
            ],
            [
             0.7777777777777778,
             "#fb9f3a"
            ],
            [
             0.8888888888888888,
             "#fdca26"
            ],
            [
             1,
             "#f0f921"
            ]
           ],
           "sequentialminus": [
            [
             0,
             "#0d0887"
            ],
            [
             0.1111111111111111,
             "#46039f"
            ],
            [
             0.2222222222222222,
             "#7201a8"
            ],
            [
             0.3333333333333333,
             "#9c179e"
            ],
            [
             0.4444444444444444,
             "#bd3786"
            ],
            [
             0.5555555555555556,
             "#d8576b"
            ],
            [
             0.6666666666666666,
             "#ed7953"
            ],
            [
             0.7777777777777778,
             "#fb9f3a"
            ],
            [
             0.8888888888888888,
             "#fdca26"
            ],
            [
             1,
             "#f0f921"
            ]
           ]
          },
          "colorway": [
           "#636efa",
           "#EF553B",
           "#00cc96",
           "#ab63fa",
           "#FFA15A",
           "#19d3f3",
           "#FF6692",
           "#B6E880",
           "#FF97FF",
           "#FECB52"
          ],
          "font": {
           "color": "#2a3f5f"
          },
          "geo": {
           "bgcolor": "white",
           "lakecolor": "white",
           "landcolor": "#E5ECF6",
           "showlakes": true,
           "showland": true,
           "subunitcolor": "white"
          },
          "hoverlabel": {
           "align": "left"
          },
          "hovermode": "closest",
          "mapbox": {
           "style": "light"
          },
          "paper_bgcolor": "white",
          "plot_bgcolor": "#E5ECF6",
          "polar": {
           "angularaxis": {
            "gridcolor": "white",
            "linecolor": "white",
            "ticks": ""
           },
           "bgcolor": "#E5ECF6",
           "radialaxis": {
            "gridcolor": "white",
            "linecolor": "white",
            "ticks": ""
           }
          },
          "scene": {
           "xaxis": {
            "backgroundcolor": "#E5ECF6",
            "gridcolor": "white",
            "gridwidth": 2,
            "linecolor": "white",
            "showbackground": true,
            "ticks": "",
            "zerolinecolor": "white"
           },
           "yaxis": {
            "backgroundcolor": "#E5ECF6",
            "gridcolor": "white",
            "gridwidth": 2,
            "linecolor": "white",
            "showbackground": true,
            "ticks": "",
            "zerolinecolor": "white"
           },
           "zaxis": {
            "backgroundcolor": "#E5ECF6",
            "gridcolor": "white",
            "gridwidth": 2,
            "linecolor": "white",
            "showbackground": true,
            "ticks": "",
            "zerolinecolor": "white"
           }
          },
          "shapedefaults": {
           "line": {
            "color": "#2a3f5f"
           }
          },
          "ternary": {
           "aaxis": {
            "gridcolor": "white",
            "linecolor": "white",
            "ticks": ""
           },
           "baxis": {
            "gridcolor": "white",
            "linecolor": "white",
            "ticks": ""
           },
           "bgcolor": "#E5ECF6",
           "caxis": {
            "gridcolor": "white",
            "linecolor": "white",
            "ticks": ""
           }
          },
          "title": {
           "x": 0.05
          },
          "xaxis": {
           "automargin": true,
           "gridcolor": "white",
           "linecolor": "white",
           "ticks": "",
           "title": {
            "standoff": 15
           },
           "zerolinecolor": "white",
           "zerolinewidth": 2
          },
          "yaxis": {
           "automargin": true,
           "gridcolor": "white",
           "linecolor": "white",
           "ticks": "",
           "title": {
            "standoff": 15
           },
           "zerolinecolor": "white",
           "zerolinewidth": 2
          }
         }
        },
        "title": {
         "text": "Topic StrafR"
        }
       }
      }
     },
     "metadata": {}
    },
    {
     "output_type": "display_data",
     "data": {
      "application/vnd.plotly.v1+json": {
       "config": {
        "plotlyServerURL": "https://plot.ly"
       },
       "data": [
        {
         "name": "SteuerR",
         "type": "bar",
         "x": [
          "SolZG",
          "EigZulG",
          "BerlinFG",
          "AStG",
          "ZerlG",
          "UmwStG",
          "KStG",
          "AuslInvG",
          "EStG",
          "DBACHE1971Prot1992G",
          "VStG",
          "DBAESTG",
          "GewStG",
          "DBALETG",
          "InvStG",
          "EntwLStG",
          "SchBauG",
          "StRSaarEG",
          "DBAPAKG",
          "DBAVENG",
          "DBANAMG",
          "DBAAREG",
          "DDR-IG",
          "VStRG",
          "StrbEG",
          "DBACHE1971Prot1978G",
          "DBAAbkSYRG",
          "BewGÄndG",
          "StraBEG",
          "ErbStG"
         ],
         "y": [
          0.9065572619438171,
          0.8656884431838989,
          0.8491213917732239,
          0.8391269445419312,
          0.8264484405517578,
          0.8146998286247253,
          0.7860106229782104,
          0.7496768236160278,
          0.7367956042289734,
          0.7329142093658447,
          0.7268072366714478,
          0.7201874852180481,
          0.7172977924346924,
          0.708323061466217,
          0.7066577076911926,
          0.6983190178871155,
          0.696597158908844,
          0.688211977481842,
          0.6653635501861572,
          0.6642593741416931,
          0.6642005443572998,
          0.6579939126968384,
          0.6371527910232544,
          0.6249016523361206,
          0.6074768900871277,
          0.5734288692474365,
          0.5690868496894836,
          0.5689172148704529,
          0.5581434369087219,
          0.5515267252922058
         ]
        }
       ],
       "layout": {
        "barmode": "stack",
        "font": {
         "family": "Arial"
        },
        "template": {
         "data": {
          "bar": [
           {
            "error_x": {
             "color": "#2a3f5f"
            },
            "error_y": {
             "color": "#2a3f5f"
            },
            "marker": {
             "line": {
              "color": "#E5ECF6",
              "width": 0.5
             }
            },
            "type": "bar"
           }
          ],
          "barpolar": [
           {
            "marker": {
             "line": {
              "color": "#E5ECF6",
              "width": 0.5
             }
            },
            "type": "barpolar"
           }
          ],
          "carpet": [
           {
            "aaxis": {
             "endlinecolor": "#2a3f5f",
             "gridcolor": "white",
             "linecolor": "white",
             "minorgridcolor": "white",
             "startlinecolor": "#2a3f5f"
            },
            "baxis": {
             "endlinecolor": "#2a3f5f",
             "gridcolor": "white",
             "linecolor": "white",
             "minorgridcolor": "white",
             "startlinecolor": "#2a3f5f"
            },
            "type": "carpet"
           }
          ],
          "choropleth": [
           {
            "colorbar": {
             "outlinewidth": 0,
             "ticks": ""
            },
            "type": "choropleth"
           }
          ],
          "contour": [
           {
            "colorbar": {
             "outlinewidth": 0,
             "ticks": ""
            },
            "colorscale": [
             [
              0,
              "#0d0887"
             ],
             [
              0.1111111111111111,
              "#46039f"
             ],
             [
              0.2222222222222222,
              "#7201a8"
             ],
             [
              0.3333333333333333,
              "#9c179e"
             ],
             [
              0.4444444444444444,
              "#bd3786"
             ],
             [
              0.5555555555555556,
              "#d8576b"
             ],
             [
              0.6666666666666666,
              "#ed7953"
             ],
             [
              0.7777777777777778,
              "#fb9f3a"
             ],
             [
              0.8888888888888888,
              "#fdca26"
             ],
             [
              1,
              "#f0f921"
             ]
            ],
            "type": "contour"
           }
          ],
          "contourcarpet": [
           {
            "colorbar": {
             "outlinewidth": 0,
             "ticks": ""
            },
            "type": "contourcarpet"
           }
          ],
          "heatmap": [
           {
            "colorbar": {
             "outlinewidth": 0,
             "ticks": ""
            },
            "colorscale": [
             [
              0,
              "#0d0887"
             ],
             [
              0.1111111111111111,
              "#46039f"
             ],
             [
              0.2222222222222222,
              "#7201a8"
             ],
             [
              0.3333333333333333,
              "#9c179e"
             ],
             [
              0.4444444444444444,
              "#bd3786"
             ],
             [
              0.5555555555555556,
              "#d8576b"
             ],
             [
              0.6666666666666666,
              "#ed7953"
             ],
             [
              0.7777777777777778,
              "#fb9f3a"
             ],
             [
              0.8888888888888888,
              "#fdca26"
             ],
             [
              1,
              "#f0f921"
             ]
            ],
            "type": "heatmap"
           }
          ],
          "heatmapgl": [
           {
            "colorbar": {
             "outlinewidth": 0,
             "ticks": ""
            },
            "colorscale": [
             [
              0,
              "#0d0887"
             ],
             [
              0.1111111111111111,
              "#46039f"
             ],
             [
              0.2222222222222222,
              "#7201a8"
             ],
             [
              0.3333333333333333,
              "#9c179e"
             ],
             [
              0.4444444444444444,
              "#bd3786"
             ],
             [
              0.5555555555555556,
              "#d8576b"
             ],
             [
              0.6666666666666666,
              "#ed7953"
             ],
             [
              0.7777777777777778,
              "#fb9f3a"
             ],
             [
              0.8888888888888888,
              "#fdca26"
             ],
             [
              1,
              "#f0f921"
             ]
            ],
            "type": "heatmapgl"
           }
          ],
          "histogram": [
           {
            "marker": {
             "colorbar": {
              "outlinewidth": 0,
              "ticks": ""
             }
            },
            "type": "histogram"
           }
          ],
          "histogram2d": [
           {
            "colorbar": {
             "outlinewidth": 0,
             "ticks": ""
            },
            "colorscale": [
             [
              0,
              "#0d0887"
             ],
             [
              0.1111111111111111,
              "#46039f"
             ],
             [
              0.2222222222222222,
              "#7201a8"
             ],
             [
              0.3333333333333333,
              "#9c179e"
             ],
             [
              0.4444444444444444,
              "#bd3786"
             ],
             [
              0.5555555555555556,
              "#d8576b"
             ],
             [
              0.6666666666666666,
              "#ed7953"
             ],
             [
              0.7777777777777778,
              "#fb9f3a"
             ],
             [
              0.8888888888888888,
              "#fdca26"
             ],
             [
              1,
              "#f0f921"
             ]
            ],
            "type": "histogram2d"
           }
          ],
          "histogram2dcontour": [
           {
            "colorbar": {
             "outlinewidth": 0,
             "ticks": ""
            },
            "colorscale": [
             [
              0,
              "#0d0887"
             ],
             [
              0.1111111111111111,
              "#46039f"
             ],
             [
              0.2222222222222222,
              "#7201a8"
             ],
             [
              0.3333333333333333,
              "#9c179e"
             ],
             [
              0.4444444444444444,
              "#bd3786"
             ],
             [
              0.5555555555555556,
              "#d8576b"
             ],
             [
              0.6666666666666666,
              "#ed7953"
             ],
             [
              0.7777777777777778,
              "#fb9f3a"
             ],
             [
              0.8888888888888888,
              "#fdca26"
             ],
             [
              1,
              "#f0f921"
             ]
            ],
            "type": "histogram2dcontour"
           }
          ],
          "mesh3d": [
           {
            "colorbar": {
             "outlinewidth": 0,
             "ticks": ""
            },
            "type": "mesh3d"
           }
          ],
          "parcoords": [
           {
            "line": {
             "colorbar": {
              "outlinewidth": 0,
              "ticks": ""
             }
            },
            "type": "parcoords"
           }
          ],
          "pie": [
           {
            "automargin": true,
            "type": "pie"
           }
          ],
          "scatter": [
           {
            "marker": {
             "colorbar": {
              "outlinewidth": 0,
              "ticks": ""
             }
            },
            "type": "scatter"
           }
          ],
          "scatter3d": [
           {
            "line": {
             "colorbar": {
              "outlinewidth": 0,
              "ticks": ""
             }
            },
            "marker": {
             "colorbar": {
              "outlinewidth": 0,
              "ticks": ""
             }
            },
            "type": "scatter3d"
           }
          ],
          "scattercarpet": [
           {
            "marker": {
             "colorbar": {
              "outlinewidth": 0,
              "ticks": ""
             }
            },
            "type": "scattercarpet"
           }
          ],
          "scattergeo": [
           {
            "marker": {
             "colorbar": {
              "outlinewidth": 0,
              "ticks": ""
             }
            },
            "type": "scattergeo"
           }
          ],
          "scattergl": [
           {
            "marker": {
             "colorbar": {
              "outlinewidth": 0,
              "ticks": ""
             }
            },
            "type": "scattergl"
           }
          ],
          "scattermapbox": [
           {
            "marker": {
             "colorbar": {
              "outlinewidth": 0,
              "ticks": ""
             }
            },
            "type": "scattermapbox"
           }
          ],
          "scatterpolar": [
           {
            "marker": {
             "colorbar": {
              "outlinewidth": 0,
              "ticks": ""
             }
            },
            "type": "scatterpolar"
           }
          ],
          "scatterpolargl": [
           {
            "marker": {
             "colorbar": {
              "outlinewidth": 0,
              "ticks": ""
             }
            },
            "type": "scatterpolargl"
           }
          ],
          "scatterternary": [
           {
            "marker": {
             "colorbar": {
              "outlinewidth": 0,
              "ticks": ""
             }
            },
            "type": "scatterternary"
           }
          ],
          "surface": [
           {
            "colorbar": {
             "outlinewidth": 0,
             "ticks": ""
            },
            "colorscale": [
             [
              0,
              "#0d0887"
             ],
             [
              0.1111111111111111,
              "#46039f"
             ],
             [
              0.2222222222222222,
              "#7201a8"
             ],
             [
              0.3333333333333333,
              "#9c179e"
             ],
             [
              0.4444444444444444,
              "#bd3786"
             ],
             [
              0.5555555555555556,
              "#d8576b"
             ],
             [
              0.6666666666666666,
              "#ed7953"
             ],
             [
              0.7777777777777778,
              "#fb9f3a"
             ],
             [
              0.8888888888888888,
              "#fdca26"
             ],
             [
              1,
              "#f0f921"
             ]
            ],
            "type": "surface"
           }
          ],
          "table": [
           {
            "cells": {
             "fill": {
              "color": "#EBF0F8"
             },
             "line": {
              "color": "white"
             }
            },
            "header": {
             "fill": {
              "color": "#C8D4E3"
             },
             "line": {
              "color": "white"
             }
            },
            "type": "table"
           }
          ]
         },
         "layout": {
          "annotationdefaults": {
           "arrowcolor": "#2a3f5f",
           "arrowhead": 0,
           "arrowwidth": 1
          },
          "coloraxis": {
           "colorbar": {
            "outlinewidth": 0,
            "ticks": ""
           }
          },
          "colorscale": {
           "diverging": [
            [
             0,
             "#8e0152"
            ],
            [
             0.1,
             "#c51b7d"
            ],
            [
             0.2,
             "#de77ae"
            ],
            [
             0.3,
             "#f1b6da"
            ],
            [
             0.4,
             "#fde0ef"
            ],
            [
             0.5,
             "#f7f7f7"
            ],
            [
             0.6,
             "#e6f5d0"
            ],
            [
             0.7,
             "#b8e186"
            ],
            [
             0.8,
             "#7fbc41"
            ],
            [
             0.9,
             "#4d9221"
            ],
            [
             1,
             "#276419"
            ]
           ],
           "sequential": [
            [
             0,
             "#0d0887"
            ],
            [
             0.1111111111111111,
             "#46039f"
            ],
            [
             0.2222222222222222,
             "#7201a8"
            ],
            [
             0.3333333333333333,
             "#9c179e"
            ],
            [
             0.4444444444444444,
             "#bd3786"
            ],
            [
             0.5555555555555556,
             "#d8576b"
            ],
            [
             0.6666666666666666,
             "#ed7953"
            ],
            [
             0.7777777777777778,
             "#fb9f3a"
            ],
            [
             0.8888888888888888,
             "#fdca26"
            ],
            [
             1,
             "#f0f921"
            ]
           ],
           "sequentialminus": [
            [
             0,
             "#0d0887"
            ],
            [
             0.1111111111111111,
             "#46039f"
            ],
            [
             0.2222222222222222,
             "#7201a8"
            ],
            [
             0.3333333333333333,
             "#9c179e"
            ],
            [
             0.4444444444444444,
             "#bd3786"
            ],
            [
             0.5555555555555556,
             "#d8576b"
            ],
            [
             0.6666666666666666,
             "#ed7953"
            ],
            [
             0.7777777777777778,
             "#fb9f3a"
            ],
            [
             0.8888888888888888,
             "#fdca26"
            ],
            [
             1,
             "#f0f921"
            ]
           ]
          },
          "colorway": [
           "#636efa",
           "#EF553B",
           "#00cc96",
           "#ab63fa",
           "#FFA15A",
           "#19d3f3",
           "#FF6692",
           "#B6E880",
           "#FF97FF",
           "#FECB52"
          ],
          "font": {
           "color": "#2a3f5f"
          },
          "geo": {
           "bgcolor": "white",
           "lakecolor": "white",
           "landcolor": "#E5ECF6",
           "showlakes": true,
           "showland": true,
           "subunitcolor": "white"
          },
          "hoverlabel": {
           "align": "left"
          },
          "hovermode": "closest",
          "mapbox": {
           "style": "light"
          },
          "paper_bgcolor": "white",
          "plot_bgcolor": "#E5ECF6",
          "polar": {
           "angularaxis": {
            "gridcolor": "white",
            "linecolor": "white",
            "ticks": ""
           },
           "bgcolor": "#E5ECF6",
           "radialaxis": {
            "gridcolor": "white",
            "linecolor": "white",
            "ticks": ""
           }
          },
          "scene": {
           "xaxis": {
            "backgroundcolor": "#E5ECF6",
            "gridcolor": "white",
            "gridwidth": 2,
            "linecolor": "white",
            "showbackground": true,
            "ticks": "",
            "zerolinecolor": "white"
           },
           "yaxis": {
            "backgroundcolor": "#E5ECF6",
            "gridcolor": "white",
            "gridwidth": 2,
            "linecolor": "white",
            "showbackground": true,
            "ticks": "",
            "zerolinecolor": "white"
           },
           "zaxis": {
            "backgroundcolor": "#E5ECF6",
            "gridcolor": "white",
            "gridwidth": 2,
            "linecolor": "white",
            "showbackground": true,
            "ticks": "",
            "zerolinecolor": "white"
           }
          },
          "shapedefaults": {
           "line": {
            "color": "#2a3f5f"
           }
          },
          "ternary": {
           "aaxis": {
            "gridcolor": "white",
            "linecolor": "white",
            "ticks": ""
           },
           "baxis": {
            "gridcolor": "white",
            "linecolor": "white",
            "ticks": ""
           },
           "bgcolor": "#E5ECF6",
           "caxis": {
            "gridcolor": "white",
            "linecolor": "white",
            "ticks": ""
           }
          },
          "title": {
           "x": 0.05
          },
          "xaxis": {
           "automargin": true,
           "gridcolor": "white",
           "linecolor": "white",
           "ticks": "",
           "title": {
            "standoff": 15
           },
           "zerolinecolor": "white",
           "zerolinewidth": 2
          },
          "yaxis": {
           "automargin": true,
           "gridcolor": "white",
           "linecolor": "white",
           "ticks": "",
           "title": {
            "standoff": 15
           },
           "zerolinecolor": "white",
           "zerolinewidth": 2
          }
         }
        },
        "title": {
         "text": "Topic SteuerR"
        }
       }
      }
     },
     "metadata": {}
    }
   ],
   "source": [
    "plot_topic(\"GesR\")\n",
    "plot_topic(\"ArbR\")\n",
    "plot_topic(\"BankR\")\n",
    "plot_topic(\"UmweltR\")\n",
    "plot_topic(\"StrafR\")\n",
    "plot_topic(\"SteuerR\")"
   ]
  },
  {
   "cell_type": "code",
   "execution_count": 14,
   "metadata": {},
   "outputs": [
    {
     "output_type": "display_data",
     "data": {
      "application/vnd.plotly.v1+json": {
       "config": {
        "plotlyServerURL": "https://plot.ly"
       },
       "data": [
        {
         "labels": [
          "OrganR",
          "WahlR",
          "ArbR",
          "GesR",
          "BerufsR",
          "BahnR"
         ],
         "type": "pie",
         "values": [
          0.4770636558532715,
          0.3071598410606384,
          0.08519480377435684,
          0.06330280750989914,
          0.02922307699918747,
          0.019881078973412514
         ]
        }
       ],
       "layout": {
        "template": {
         "data": {
          "bar": [
           {
            "error_x": {
             "color": "#2a3f5f"
            },
            "error_y": {
             "color": "#2a3f5f"
            },
            "marker": {
             "line": {
              "color": "#E5ECF6",
              "width": 0.5
             }
            },
            "type": "bar"
           }
          ],
          "barpolar": [
           {
            "marker": {
             "line": {
              "color": "#E5ECF6",
              "width": 0.5
             }
            },
            "type": "barpolar"
           }
          ],
          "carpet": [
           {
            "aaxis": {
             "endlinecolor": "#2a3f5f",
             "gridcolor": "white",
             "linecolor": "white",
             "minorgridcolor": "white",
             "startlinecolor": "#2a3f5f"
            },
            "baxis": {
             "endlinecolor": "#2a3f5f",
             "gridcolor": "white",
             "linecolor": "white",
             "minorgridcolor": "white",
             "startlinecolor": "#2a3f5f"
            },
            "type": "carpet"
           }
          ],
          "choropleth": [
           {
            "colorbar": {
             "outlinewidth": 0,
             "ticks": ""
            },
            "type": "choropleth"
           }
          ],
          "contour": [
           {
            "colorbar": {
             "outlinewidth": 0,
             "ticks": ""
            },
            "colorscale": [
             [
              0,
              "#0d0887"
             ],
             [
              0.1111111111111111,
              "#46039f"
             ],
             [
              0.2222222222222222,
              "#7201a8"
             ],
             [
              0.3333333333333333,
              "#9c179e"
             ],
             [
              0.4444444444444444,
              "#bd3786"
             ],
             [
              0.5555555555555556,
              "#d8576b"
             ],
             [
              0.6666666666666666,
              "#ed7953"
             ],
             [
              0.7777777777777778,
              "#fb9f3a"
             ],
             [
              0.8888888888888888,
              "#fdca26"
             ],
             [
              1,
              "#f0f921"
             ]
            ],
            "type": "contour"
           }
          ],
          "contourcarpet": [
           {
            "colorbar": {
             "outlinewidth": 0,
             "ticks": ""
            },
            "type": "contourcarpet"
           }
          ],
          "heatmap": [
           {
            "colorbar": {
             "outlinewidth": 0,
             "ticks": ""
            },
            "colorscale": [
             [
              0,
              "#0d0887"
             ],
             [
              0.1111111111111111,
              "#46039f"
             ],
             [
              0.2222222222222222,
              "#7201a8"
             ],
             [
              0.3333333333333333,
              "#9c179e"
             ],
             [
              0.4444444444444444,
              "#bd3786"
             ],
             [
              0.5555555555555556,
              "#d8576b"
             ],
             [
              0.6666666666666666,
              "#ed7953"
             ],
             [
              0.7777777777777778,
              "#fb9f3a"
             ],
             [
              0.8888888888888888,
              "#fdca26"
             ],
             [
              1,
              "#f0f921"
             ]
            ],
            "type": "heatmap"
           }
          ],
          "heatmapgl": [
           {
            "colorbar": {
             "outlinewidth": 0,
             "ticks": ""
            },
            "colorscale": [
             [
              0,
              "#0d0887"
             ],
             [
              0.1111111111111111,
              "#46039f"
             ],
             [
              0.2222222222222222,
              "#7201a8"
             ],
             [
              0.3333333333333333,
              "#9c179e"
             ],
             [
              0.4444444444444444,
              "#bd3786"
             ],
             [
              0.5555555555555556,
              "#d8576b"
             ],
             [
              0.6666666666666666,
              "#ed7953"
             ],
             [
              0.7777777777777778,
              "#fb9f3a"
             ],
             [
              0.8888888888888888,
              "#fdca26"
             ],
             [
              1,
              "#f0f921"
             ]
            ],
            "type": "heatmapgl"
           }
          ],
          "histogram": [
           {
            "marker": {
             "colorbar": {
              "outlinewidth": 0,
              "ticks": ""
             }
            },
            "type": "histogram"
           }
          ],
          "histogram2d": [
           {
            "colorbar": {
             "outlinewidth": 0,
             "ticks": ""
            },
            "colorscale": [
             [
              0,
              "#0d0887"
             ],
             [
              0.1111111111111111,
              "#46039f"
             ],
             [
              0.2222222222222222,
              "#7201a8"
             ],
             [
              0.3333333333333333,
              "#9c179e"
             ],
             [
              0.4444444444444444,
              "#bd3786"
             ],
             [
              0.5555555555555556,
              "#d8576b"
             ],
             [
              0.6666666666666666,
              "#ed7953"
             ],
             [
              0.7777777777777778,
              "#fb9f3a"
             ],
             [
              0.8888888888888888,
              "#fdca26"
             ],
             [
              1,
              "#f0f921"
             ]
            ],
            "type": "histogram2d"
           }
          ],
          "histogram2dcontour": [
           {
            "colorbar": {
             "outlinewidth": 0,
             "ticks": ""
            },
            "colorscale": [
             [
              0,
              "#0d0887"
             ],
             [
              0.1111111111111111,
              "#46039f"
             ],
             [
              0.2222222222222222,
              "#7201a8"
             ],
             [
              0.3333333333333333,
              "#9c179e"
             ],
             [
              0.4444444444444444,
              "#bd3786"
             ],
             [
              0.5555555555555556,
              "#d8576b"
             ],
             [
              0.6666666666666666,
              "#ed7953"
             ],
             [
              0.7777777777777778,
              "#fb9f3a"
             ],
             [
              0.8888888888888888,
              "#fdca26"
             ],
             [
              1,
              "#f0f921"
             ]
            ],
            "type": "histogram2dcontour"
           }
          ],
          "mesh3d": [
           {
            "colorbar": {
             "outlinewidth": 0,
             "ticks": ""
            },
            "type": "mesh3d"
           }
          ],
          "parcoords": [
           {
            "line": {
             "colorbar": {
              "outlinewidth": 0,
              "ticks": ""
             }
            },
            "type": "parcoords"
           }
          ],
          "pie": [
           {
            "automargin": true,
            "type": "pie"
           }
          ],
          "scatter": [
           {
            "marker": {
             "colorbar": {
              "outlinewidth": 0,
              "ticks": ""
             }
            },
            "type": "scatter"
           }
          ],
          "scatter3d": [
           {
            "line": {
             "colorbar": {
              "outlinewidth": 0,
              "ticks": ""
             }
            },
            "marker": {
             "colorbar": {
              "outlinewidth": 0,
              "ticks": ""
             }
            },
            "type": "scatter3d"
           }
          ],
          "scattercarpet": [
           {
            "marker": {
             "colorbar": {
              "outlinewidth": 0,
              "ticks": ""
             }
            },
            "type": "scattercarpet"
           }
          ],
          "scattergeo": [
           {
            "marker": {
             "colorbar": {
              "outlinewidth": 0,
              "ticks": ""
             }
            },
            "type": "scattergeo"
           }
          ],
          "scattergl": [
           {
            "marker": {
             "colorbar": {
              "outlinewidth": 0,
              "ticks": ""
             }
            },
            "type": "scattergl"
           }
          ],
          "scattermapbox": [
           {
            "marker": {
             "colorbar": {
              "outlinewidth": 0,
              "ticks": ""
             }
            },
            "type": "scattermapbox"
           }
          ],
          "scatterpolar": [
           {
            "marker": {
             "colorbar": {
              "outlinewidth": 0,
              "ticks": ""
             }
            },
            "type": "scatterpolar"
           }
          ],
          "scatterpolargl": [
           {
            "marker": {
             "colorbar": {
              "outlinewidth": 0,
              "ticks": ""
             }
            },
            "type": "scatterpolargl"
           }
          ],
          "scatterternary": [
           {
            "marker": {
             "colorbar": {
              "outlinewidth": 0,
              "ticks": ""
             }
            },
            "type": "scatterternary"
           }
          ],
          "surface": [
           {
            "colorbar": {
             "outlinewidth": 0,
             "ticks": ""
            },
            "colorscale": [
             [
              0,
              "#0d0887"
             ],
             [
              0.1111111111111111,
              "#46039f"
             ],
             [
              0.2222222222222222,
              "#7201a8"
             ],
             [
              0.3333333333333333,
              "#9c179e"
             ],
             [
              0.4444444444444444,
              "#bd3786"
             ],
             [
              0.5555555555555556,
              "#d8576b"
             ],
             [
              0.6666666666666666,
              "#ed7953"
             ],
             [
              0.7777777777777778,
              "#fb9f3a"
             ],
             [
              0.8888888888888888,
              "#fdca26"
             ],
             [
              1,
              "#f0f921"
             ]
            ],
            "type": "surface"
           }
          ],
          "table": [
           {
            "cells": {
             "fill": {
              "color": "#EBF0F8"
             },
             "line": {
              "color": "white"
             }
            },
            "header": {
             "fill": {
              "color": "#C8D4E3"
             },
             "line": {
              "color": "white"
             }
            },
            "type": "table"
           }
          ]
         },
         "layout": {
          "annotationdefaults": {
           "arrowcolor": "#2a3f5f",
           "arrowhead": 0,
           "arrowwidth": 1
          },
          "coloraxis": {
           "colorbar": {
            "outlinewidth": 0,
            "ticks": ""
           }
          },
          "colorscale": {
           "diverging": [
            [
             0,
             "#8e0152"
            ],
            [
             0.1,
             "#c51b7d"
            ],
            [
             0.2,
             "#de77ae"
            ],
            [
             0.3,
             "#f1b6da"
            ],
            [
             0.4,
             "#fde0ef"
            ],
            [
             0.5,
             "#f7f7f7"
            ],
            [
             0.6,
             "#e6f5d0"
            ],
            [
             0.7,
             "#b8e186"
            ],
            [
             0.8,
             "#7fbc41"
            ],
            [
             0.9,
             "#4d9221"
            ],
            [
             1,
             "#276419"
            ]
           ],
           "sequential": [
            [
             0,
             "#0d0887"
            ],
            [
             0.1111111111111111,
             "#46039f"
            ],
            [
             0.2222222222222222,
             "#7201a8"
            ],
            [
             0.3333333333333333,
             "#9c179e"
            ],
            [
             0.4444444444444444,
             "#bd3786"
            ],
            [
             0.5555555555555556,
             "#d8576b"
            ],
            [
             0.6666666666666666,
             "#ed7953"
            ],
            [
             0.7777777777777778,
             "#fb9f3a"
            ],
            [
             0.8888888888888888,
             "#fdca26"
            ],
            [
             1,
             "#f0f921"
            ]
           ],
           "sequentialminus": [
            [
             0,
             "#0d0887"
            ],
            [
             0.1111111111111111,
             "#46039f"
            ],
            [
             0.2222222222222222,
             "#7201a8"
            ],
            [
             0.3333333333333333,
             "#9c179e"
            ],
            [
             0.4444444444444444,
             "#bd3786"
            ],
            [
             0.5555555555555556,
             "#d8576b"
            ],
            [
             0.6666666666666666,
             "#ed7953"
            ],
            [
             0.7777777777777778,
             "#fb9f3a"
            ],
            [
             0.8888888888888888,
             "#fdca26"
            ],
            [
             1,
             "#f0f921"
            ]
           ]
          },
          "colorway": [
           "#636efa",
           "#EF553B",
           "#00cc96",
           "#ab63fa",
           "#FFA15A",
           "#19d3f3",
           "#FF6692",
           "#B6E880",
           "#FF97FF",
           "#FECB52"
          ],
          "font": {
           "color": "#2a3f5f"
          },
          "geo": {
           "bgcolor": "white",
           "lakecolor": "white",
           "landcolor": "#E5ECF6",
           "showlakes": true,
           "showland": true,
           "subunitcolor": "white"
          },
          "hoverlabel": {
           "align": "left"
          },
          "hovermode": "closest",
          "mapbox": {
           "style": "light"
          },
          "paper_bgcolor": "white",
          "plot_bgcolor": "#E5ECF6",
          "polar": {
           "angularaxis": {
            "gridcolor": "white",
            "linecolor": "white",
            "ticks": ""
           },
           "bgcolor": "#E5ECF6",
           "radialaxis": {
            "gridcolor": "white",
            "linecolor": "white",
            "ticks": ""
           }
          },
          "scene": {
           "xaxis": {
            "backgroundcolor": "#E5ECF6",
            "gridcolor": "white",
            "gridwidth": 2,
            "linecolor": "white",
            "showbackground": true,
            "ticks": "",
            "zerolinecolor": "white"
           },
           "yaxis": {
            "backgroundcolor": "#E5ECF6",
            "gridcolor": "white",
            "gridwidth": 2,
            "linecolor": "white",
            "showbackground": true,
            "ticks": "",
            "zerolinecolor": "white"
           },
           "zaxis": {
            "backgroundcolor": "#E5ECF6",
            "gridcolor": "white",
            "gridwidth": 2,
            "linecolor": "white",
            "showbackground": true,
            "ticks": "",
            "zerolinecolor": "white"
           }
          },
          "shapedefaults": {
           "line": {
            "color": "#2a3f5f"
           }
          },
          "ternary": {
           "aaxis": {
            "gridcolor": "white",
            "linecolor": "white",
            "ticks": ""
           },
           "baxis": {
            "gridcolor": "white",
            "linecolor": "white",
            "ticks": ""
           },
           "bgcolor": "#E5ECF6",
           "caxis": {
            "gridcolor": "white",
            "linecolor": "white",
            "ticks": ""
           }
          },
          "title": {
           "x": 0.05
          },
          "xaxis": {
           "automargin": true,
           "gridcolor": "white",
           "linecolor": "white",
           "ticks": "",
           "title": {
            "standoff": 15
           },
           "zerolinecolor": "white",
           "zerolinewidth": 2
          },
          "yaxis": {
           "automargin": true,
           "gridcolor": "white",
           "linecolor": "white",
           "ticks": "",
           "title": {
            "standoff": 15
           },
           "zerolinecolor": "white",
           "zerolinewidth": 2
          }
         }
        }
       }
      }
     },
     "metadata": {}
    }
   ],
   "source": [
    "import plotly.graph_objects as go\n",
    "data = Gesetz.collected_laws[\"SEBG\"].topics\n",
    "labels = [name for (name,prob) in data]\n",
    "values = [prob for (name,prob) in data]\n",
    "\n",
    "fig = go.Figure(data=[go.Pie(labels=labels, values=values)])\n",
    "fig.show()"
   ]
  }
 ]
}