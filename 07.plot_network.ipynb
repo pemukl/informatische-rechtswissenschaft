{
 "metadata": {
  "language_info": {
   "codemirror_mode": {
    "name": "ipython",
    "version": 3
   },
   "file_extension": ".py",
   "mimetype": "text/x-python",
   "name": "python",
   "nbconvert_exporter": "python",
   "pygments_lexer": "ipython3",
   "version": "3.7.7-final"
  },
  "orig_nbformat": 2,
  "kernelspec": {
   "name": "python_defaultSpec_1600878768673",
   "display_name": "Python 3.7.7 64-bit"
  }
 },
 "nbformat": 4,
 "nbformat_minor": 2,
 "cells": [
  {
   "cell_type": "code",
   "execution_count": 1,
   "metadata": {
    "tags": []
   },
   "outputs": [],
   "source": [
    "%load_ext autoreload\n",
    "%autoreload 2"
   ]
  },
  {
   "cell_type": "code",
   "execution_count": 2,
   "metadata": {},
   "outputs": [],
   "source": [
    "sys.path.append('..')\n",
    "from gesetz import Gesetz\n",
    "from graph import Graph"
   ]
  },
  {
   "cell_type": "code",
   "execution_count": 3,
   "metadata": {},
   "outputs": [],
   "source": [
    "import pickle\n",
    "with open(\"pickles/laws_links_topics.pickle\", \"rb\") as fp:   # Unpickling\n",
    "    Gesetz.collected_laws = pickle.load(fp)"
   ]
  },
  {
   "cell_type": "code",
   "execution_count": 4,
   "metadata": {
    "tags": []
   },
   "outputs": [
    {
     "output_type": "stream",
     "name": "stdout",
     "text": "{0, 2, 3, 4, 5, 6, 7, 8, 9, 10, 11, 12, 13, 14}\n"
    }
   ],
   "source": [
    "Graph.set_big(Gesetz.collected_laws)"
   ]
  },
  {
   "cell_type": "code",
   "execution_count": 5,
   "metadata": {},
   "outputs": [],
   "source": [
    "from webweb import Web\n",
    "import math\n",
    "threshhold = 10\n",
    "# take care of the partitioning\n",
    "display = {}\n",
    "display[\"colorBy\"]=\"Topic\"\n",
    "display[\"sizeBy\"]=\"TopoSort\"\n",
    "\n",
    "display[\"charge\"]=1500\n",
    "display[\"linkLength\"]=20\n",
    "display[\"linkStrength\"]=0.5\n",
    "display[\"gravity\"]=0.5\n",
    "\n",
    "display[\"showNodeNames\"] = False\n",
    "display[\"scaleLinkOpacity\"]=False\n",
    "display[\"scaleLinkWidth\"]=True\n",
    "\n",
    "display['metadata'] = {\n",
    "        'topic' : {\n",
    "            'values' : list([top[1] for top in Gesetz.topic_names.values()])\n",
    "        }\n",
    "    }\n",
    "# create the web\n",
    "web = Web(display=display,title='webweb')"
   ]
  },
  {
   "cell_type": "code",
   "execution_count": 6,
   "metadata": {
    "tags": []
   },
   "outputs": [
    {
     "output_type": "stream",
     "name": "stdout",
     "text": "not found: ['ZweckVG', 'ZweckVG', 'ZweckVG']\n0.30434782608695654 0.1428571428571429\n"
    }
   ],
   "source": [
    "G = Graph.build_handpicked(\"Erfurt\")\n",
    "print(G.get_closure(),G.get_flow())\n",
    "G.add_to_network(web.networks.ArbErfurt)"
   ]
  },
  {
   "cell_type": "code",
   "execution_count": 7,
   "metadata": {
    "tags": []
   },
   "outputs": [
    {
     "output_type": "stream",
     "name": "stdout",
     "text": "not found: ['ZweckVG', 'ZweckVG', 'ZweckVG', 'ZweckVG']\n0.14516129032258066 0.33333333333333337\n"
    }
   ],
   "source": [
    "G = Graph.build_handpicked(\"Beck\")\n",
    "print(G.get_closure(),G.get_flow())\n",
    "G.add_to_network(web.networks.ArbBeck)"
   ]
  },
  {
   "cell_type": "code",
   "execution_count": 8,
   "metadata": {
    "tags": []
   },
   "outputs": [
    {
     "output_type": "stream",
     "name": "stdout",
     "text": "not found: []\n0.36018957345971564 0.31439393939393945\n"
    }
   ],
   "source": [
    "G = Graph.build_handpicked(\"ArbText beck\")\n",
    "print(G.get_closure(),G.get_flow())\n",
    "G.add_to_network(web.networks.ArbeitsTextBeck)"
   ]
  },
  {
   "cell_type": "code",
   "execution_count": 9,
   "metadata": {
    "tags": []
   },
   "outputs": [
    {
     "output_type": "stream",
     "name": "stdout",
     "text": "not found: []\n0.2446043165467626 0.016949152542372836\n"
    }
   ],
   "source": [
    "G = Graph.build_handpicked(\"Umwelt\")\n",
    "print(G.get_closure(),G.get_flow())\n",
    "G.add_to_network(web.networks.UmweltEntwurf)"
   ]
  },
  {
   "cell_type": "code",
   "execution_count": 10,
   "metadata": {
    "tags": []
   },
   "outputs": [
    {
     "output_type": "stream",
     "name": "stdout",
     "text": "not found: ['ZweckVG']\n0.2809917355371901 0.25257731958762886\n"
    }
   ],
   "source": [
    "G = Graph.build_handpicked(\"UmwR beck\")\n",
    "print(G.get_closure(),G.get_flow())\n",
    "G.add_to_network(web.networks.UmweltRBeck)"
   ]
  },
  {
   "cell_type": "code",
   "execution_count": 11,
   "metadata": {
    "tags": []
   },
   "outputs": [
    {
     "output_type": "stream",
     "name": "stdout",
     "text": "not found: []\n0.3291139240506329 0.39671361502347413\n"
    }
   ],
   "source": [
    "G = Graph.build_handpicked(\"GesR beck\")\n",
    "print(G.get_closure(),G.get_flow())\n",
    "G.add_to_network(web.networks.GesRBeck)"
   ]
  },
  {
   "cell_type": "code",
   "execution_count": 12,
   "metadata": {
    "tags": []
   },
   "outputs": [
    {
     "output_type": "stream",
     "name": "stdout",
     "text": "not found: []\n0.22727272727272727 0.08884688090737236\n"
    }
   ],
   "source": [
    "G = Graph.build_handpicked(\"BankR beck\")\n",
    "print(G.get_closure(),G.get_flow())\n",
    "G.add_to_network(web.networks.BankRBeck)"
   ]
  },
  {
   "cell_type": "code",
   "execution_count": 13,
   "metadata": {
    "tags": []
   },
   "outputs": [
    {
     "output_type": "stream",
     "name": "stdout",
     "text": "not found: []\n0.16666666666666666 0.7076923076923076\n"
    }
   ],
   "source": [
    "G = Graph.build_handpicked(\"WaffR Beck\")\n",
    "print(G.get_closure(),G.get_flow())\n",
    "G.add_to_network(web.networks.WaffRBeck)"
   ]
  },
  {
   "cell_type": "code",
   "execution_count": 14,
   "metadata": {
    "tags": []
   },
   "outputs": [
    {
     "output_type": "stream",
     "name": "stdout",
     "text": "not found: ['ZweckVG', 'ZweckVG']\n0.32142857142857145 0.15174129353233834\n"
    }
   ],
   "source": [
    "G = Graph.build_handpicked(\"StrafR nomos\")\n",
    "print(G.get_closure(),G.get_flow())\n",
    "G.add_to_network(web.networks.StrafRNomos)"
   ]
  },
  {
   "cell_type": "code",
   "execution_count": 15,
   "metadata": {
    "tags": []
   },
   "outputs": [
    {
     "output_type": "stream",
     "name": "stdout",
     "text": "not found: []\n0.2524752475247525 0.0\n"
    }
   ],
   "source": [
    "G = Graph.build_topics([\"FinMarktR\"])\n",
    "print(G.get_closure(),G.get_flow())\n",
    "G.add_to_network(web.networks.FinMarktR)"
   ]
  },
  {
   "cell_type": "code",
   "execution_count": 16,
   "metadata": {
    "tags": []
   },
   "outputs": [
    {
     "output_type": "stream",
     "name": "stdout",
     "text": "not found: []\n0.21195652173913043 0.5128205128205128\n"
    }
   ],
   "source": [
    "G = Graph.build_topics([\"ArbR\"])\n",
    "print(G.get_closure(),G.get_flow())\n",
    "G.add_to_network(web.networks.ArbR)"
   ]
  },
  {
   "cell_type": "code",
   "execution_count": 17,
   "metadata": {
    "tags": []
   },
   "outputs": [
    {
     "output_type": "stream",
     "name": "stdout",
     "text": "not found: []\n0.03125 1.0\n"
    }
   ],
   "source": [
    "G = Graph.build_topics([\"WahlR\"])\n",
    "print(G.get_closure(),G.get_flow())\n",
    "G.add_to_network(web.networks.WahlR)"
   ]
  },
  {
   "cell_type": "code",
   "execution_count": 18,
   "metadata": {
    "tags": []
   },
   "outputs": [
    {
     "output_type": "stream",
     "name": "stdout",
     "text": "not found: []\n0.3802612481857765 0.24293785310734461\n"
    }
   ],
   "source": [
    "G = Graph.build_topics([\"ProzessR\"])\n",
    "print(G.get_closure(),G.get_flow())\n",
    "G.add_to_network(web.networks.ProzessR)"
   ]
  },
  {
   "cell_type": "code",
   "execution_count": 19,
   "metadata": {
    "tags": []
   },
   "outputs": [
    {
     "output_type": "stream",
     "name": "stdout",
     "text": "not found: []\n0.19638242894056848 0.3294573643410853\n"
    }
   ],
   "source": [
    "G = Graph.build_topics([\"UmweltR\"])\n",
    "print(G.get_closure(),G.get_flow())\n",
    "G.add_to_network(web.networks.UmweltR)"
   ]
  },
  {
   "cell_type": "code",
   "execution_count": 20,
   "metadata": {
    "tags": []
   },
   "outputs": [
    {
     "output_type": "stream",
     "name": "stdout",
     "text": "not found: []\n0.1282051282051282 1.0\n"
    }
   ],
   "source": [
    "G = Graph.build_topics([\"InsolvenzR\"])\n",
    "print(G.get_closure(),G.get_flow())\n",
    "G.add_to_network(web.networks.InsolvenzR)"
   ]
  },
  {
   "cell_type": "code",
   "execution_count": 21,
   "metadata": {
    "tags": []
   },
   "outputs": [
    {
     "output_type": "stream",
     "name": "stdout",
     "text": "not found: []\n0.44916540212443096 0.3648474430597336\n"
    }
   ],
   "source": [
    "G = Graph.build_topics([\"GesR\"])\n",
    "print(G.get_closure(),G.get_flow())\n",
    "G.add_to_network(web.networks.GesR)"
   ]
  },
  {
   "cell_type": "code",
   "execution_count": 22,
   "metadata": {
    "tags": []
   },
   "outputs": [
    {
     "output_type": "stream",
     "name": "stdout",
     "text": "not found: []\n0.03125 1.0\n"
    }
   ],
   "source": [
    "G = Graph.build_topics([\"WahlR\"])\n",
    "print(G.get_closure(),G.get_flow())\n",
    "G.add_to_network(web.networks.WahlR)"
   ]
  },
  {
   "cell_type": "code",
   "execution_count": 23,
   "metadata": {
    "tags": []
   },
   "outputs": [
    {
     "output_type": "stream",
     "name": "stdout",
     "text": "not found: []\n0.30303030303030304 0.435820895522388\n"
    }
   ],
   "source": [
    "G = Graph.build_topics([\"SachenR\"])\n",
    "print(G.get_closure(),G.get_flow())\n",
    "G.add_to_network(web.networks.SachenR)"
   ]
  },
  {
   "cell_type": "code",
   "execution_count": 24,
   "metadata": {
    "tags": []
   },
   "outputs": [
    {
     "output_type": "stream",
     "name": "stdout",
     "text": "not found: []\n0.6169201520912547 0.262350936967632\n"
    }
   ],
   "source": [
    "G = Graph.build_louvain([2])\n",
    "print(G.get_closure(),G.get_flow())\n",
    "G.add_to_network(web.networks.Louvain2)"
   ]
  },
  {
   "cell_type": "code",
   "execution_count": 25,
   "metadata": {
    "tags": []
   },
   "outputs": [
    {
     "output_type": "stream",
     "name": "stdout",
     "text": "not found: []\n0.6155913978494624 0.3499420625724218\n"
    }
   ],
   "source": [
    "G = Graph.build_louvain([3])\n",
    "print(G.get_closure(),G.get_flow())\n",
    "G.add_to_network(web.networks.Louvain3)"
   ]
  },
  {
   "cell_type": "code",
   "execution_count": 26,
   "metadata": {
    "tags": []
   },
   "outputs": [
    {
     "output_type": "stream",
     "name": "stdout",
     "text": "not found: []\n0.5509325681492109 0.3111111111111111\n"
    }
   ],
   "source": [
    "G = Graph.build_louvain([4])\n",
    "print(G.get_closure(),G.get_flow())\n",
    "G.add_to_network(web.networks.Louvain4)"
   ]
  },
  {
   "cell_type": "code",
   "execution_count": 27,
   "metadata": {
    "tags": []
   },
   "outputs": [
    {
     "output_type": "stream",
     "name": "stdout",
     "text": "not found: []\n0.47464788732394364 0.3064861012116893\n"
    }
   ],
   "source": [
    "G = Graph.build_louvain([5])\n",
    "print(G.get_closure(),G.get_flow())\n",
    "G.add_to_network(web.networks.Louvain5)"
   ]
  },
  {
   "cell_type": "code",
   "execution_count": 28,
   "metadata": {
    "tags": []
   },
   "outputs": [
    {
     "output_type": "stream",
     "name": "stdout",
     "text": "not found: []\n0.5401002506265664 0.263428755226761\n"
    }
   ],
   "source": [
    "G = Graph.build_louvain([6])\n",
    "print(G.get_closure(),G.get_flow())\n",
    "G.add_to_network(web.networks.Louvain6)"
   ]
  },
  {
   "cell_type": "code",
   "execution_count": 29,
   "metadata": {
    "tags": []
   },
   "outputs": [
    {
     "output_type": "stream",
     "name": "stdout",
     "text": "not found: []\n0.5051975051975052 0.13936063936063936\n"
    }
   ],
   "source": [
    "G = Graph.build_louvain([7])\n",
    "print(G.get_closure(),G.get_flow())\n",
    "G.add_to_network(web.networks.Louvain7)"
   ]
  },
  {
   "cell_type": "code",
   "execution_count": 30,
   "metadata": {
    "tags": []
   },
   "outputs": [
    {
     "output_type": "stream",
     "name": "stdout",
     "text": "not found: []\n0.5777777777777777 0.8153526970954357\n"
    }
   ],
   "source": [
    "G = Graph.build_louvain([8])\n",
    "print(G.get_closure(),G.get_flow())\n",
    "G.add_to_network(web.networks.Louvain8)"
   ]
  },
  {
   "cell_type": "code",
   "execution_count": 31,
   "metadata": {
    "tags": []
   },
   "outputs": [
    {
     "output_type": "stream",
     "name": "stdout",
     "text": "not found: []\n0.4746666666666667 0.15845070422535212\n"
    }
   ],
   "source": [
    "G = Graph.build_louvain([9])\n",
    "print(G.get_closure(),G.get_flow())\n",
    "G.add_to_network(web.networks.Louvain9)"
   ]
  },
  {
   "cell_type": "code",
   "execution_count": 32,
   "metadata": {
    "tags": []
   },
   "outputs": [
    {
     "output_type": "stream",
     "name": "stdout",
     "text": "not found: []\n0.5370370370370371 0.8571428571428572\n"
    }
   ],
   "source": [
    "G = Graph.build_louvain([10])\n",
    "print(G.get_closure(),G.get_flow())\n",
    "G.add_to_network(web.networks.Louvain10)"
   ]
  },
  {
   "cell_type": "code",
   "execution_count": 33,
   "metadata": {
    "tags": []
   },
   "outputs": [
    {
     "output_type": "stream",
     "name": "stdout",
     "text": "not found: []\n0.39572192513368987 0.8389662027833003\n"
    }
   ],
   "source": [
    "G = Graph.build_louvain([11])\n",
    "print(G.get_closure(),G.get_flow())\n",
    "G.add_to_network(web.networks.Louvain11)"
   ]
  },
  {
   "cell_type": "code",
   "execution_count": 34,
   "metadata": {
    "tags": []
   },
   "outputs": [
    {
     "output_type": "stream",
     "name": "stdout",
     "text": "not found: []\n1.0 0.19727029689038977\n"
    }
   ],
   "source": [
    "G = Graph.build_all()\n",
    "print(G.get_closure(),G.get_flow())\n",
    "G.add_to_network(web.networks.All)"
   ]
  },
  {
   "cell_type": "code",
   "execution_count": 35,
   "metadata": {
    "tags": []
   },
   "outputs": [
    {
     "output_type": "stream",
     "name": "stdout",
     "text": "not found: []\n0.43416370106761565 0.38173947264856356\n"
    }
   ],
   "source": [
    "G = Graph.build_topics([\"GesR\",\"ArbR\"])\n",
    "print(G.get_closure(),G.get_flow())\n",
    "G.add_to_network(web.networks.Mix)"
   ]
  },
  {
   "cell_type": "code",
   "execution_count": 36,
   "metadata": {},
   "outputs": [],
   "source": [
    "web.show()"
   ]
  },
  {
   "cell_type": "code",
   "execution_count": 37,
   "metadata": {},
   "outputs": [],
   "source": [
    "web.save(\"cluster.html\")"
   ]
  },
  {
   "cell_type": "code",
   "execution_count": null,
   "metadata": {},
   "outputs": [],
   "source": []
  }
 ]
}