{
 "cells": [
  {
   "cell_type": "markdown",
   "metadata": {},
   "source": [
    "## Parse"
   ]
  },
  {
   "cell_type": "code",
   "execution_count": 1,
   "metadata": {
    "tags": []
   },
   "outputs": [],
   "source": [
    "%load_ext autoreload\n",
    "%autoreload 2"
   ]
  },
  {
   "cell_type": "code",
   "execution_count": 2,
   "metadata": {},
   "outputs": [],
   "source": [
    "import sys\n",
    "sys.path.append('..')\n",
    "import collections\n",
    "import statistics\n",
    "%matplotlib inline\n",
    "from typing import List, Dict\n",
    "import re\n",
    "from gesetz import Gesetz, progressBar"
   ]
  },
  {
   "cell_type": "code",
   "execution_count": 3,
   "metadata": {},
   "outputs": [],
   "source": [
    "import pickle\n",
    "with open(\"pickles/laws.pickle\", \"rb\") as fp:   # Unpickling\n",
    "    Gesetz.collected_laws = pickle.load(fp)"
   ]
  },
  {
   "cell_type": "markdown",
   "metadata": {},
   "source": [
    "## Try stemming"
   ]
  },
  {
   "cell_type": "code",
   "execution_count": 4,
   "metadata": {
    "tags": []
   },
   "outputs": [
    {
     "output_type": "stream",
     "name": "stdout",
     "text": "[['aufbauhilfefonds-errichtungsgesetz'], ['setz', 'errichtung', 'sondervermog', '„', 'aufbauhilf', '“']]\n['Aufbauhilfefonds-Errichtungsgesetz', 'Gesetz zur Errichtung eines Sondervermögens „Aufbauhilfe“']\n"
    }
   ],
   "source": [
    "ges = Gesetz.collected_laws[\"AufbhG\"]\n",
    "print(ges.stems)\n",
    "print(ges.aliases)"
   ]
  },
  {
   "cell_type": "code",
   "execution_count": 5,
   "metadata": {
    "tags": []
   },
   "outputs": [
    {
     "output_type": "stream",
     "name": "stdout",
     "text": "1663/1663 |████████████████████████████████████████████████████████████████████████████████████████████████████| 100.0% (ZweckVG)\n"
    }
   ],
   "source": [
    "for law in progressBar(Gesetz.collected_laws.values()):\n",
    "    law.find_outward_links()"
   ]
  },
  {
   "cell_type": "code",
   "execution_count": 7,
   "metadata": {
    "tags": []
   },
   "outputs": [
    {
     "output_type": "stream",
     "name": "stdout",
     "text": "matched: 21321\nunmatched: 4948\nunmatched groups: 601\n"
    }
   ],
   "source": [
    "dict_amount = {}\n",
    "for law in Gesetz.collected_laws.values():\n",
    "    unmatched_links = [link.hit for link in law.links if link.target==None]\n",
    "    for link in unmatched_links:\n",
    "        if link not in dict_amount:\n",
    "            dict_amount[link] = 1\n",
    "        else:\n",
    "            dict_amount[link] = dict_amount[link] + 1\n",
    "    \n",
    "\n",
    "\n",
    "linkz = zip(dict_amount.values(),dict_amount.keys())\n",
    "unmatched_links = sorted(((n,d) for n,d in linkz),reverse=True)\n",
    "\n",
    "print(\"matched: \"+str(sum([len([link for link in ges.links if link.target!=None]) for ges in Gesetz.collected_laws.values()])))\n",
    "print(\"unmatched: \"+str(sum([len([link for link in ges.links if link.target==None]) for ges in Gesetz.collected_laws.values()])))\n",
    "print(\"unmatched groups: \"+str(len(unmatched_links)))"
   ]
  },
  {
   "cell_type": "code",
   "execution_count": 8,
   "metadata": {
    "tags": []
   },
   "outputs": [
    {
     "output_type": "stream",
     "name": "stdout",
     "text": "(1075, 'des gesetzes')\n(745, 'dieses gesetzes')\n(218, 'überleitungsgesetzes')\n(192, 'reichsknappschaftsgesetzes')\n(128, 'angestelltenversicherungsgesetzes')\n(112, 'diesem gesetz')\n(108, 'arbeiterrentenversicherungs-neuregelungsgesetzes')\n(94, 'des[n]gesetzes')\n(87, 'dieses[n]gesetzes')\n(87, 'angestelltenversicherungs-neuregelungsgesetzes')\n(68, 'dieses gesetz')\n(67, 'erneuerbare-energien-gesetzes')\n(66, 'wohnungsbaugesetzes')\n(66, 'des[n]landesnaturschutzgesetzes')\n(52, 'investmentgesetzes')\n(51, 'landesnaturschutzgesetzes')\n(39, 'zweiten gesetzes')\n(36, 'des[n]angestelltenversicherungs-neuregelungsgesetzes')\n(35, 'kraft gesetzes')\n(35, 'des[n]angestelltenversicherungsgesetzes')\n(31, 'knappschaftsrentenversicherungs-neuregelungsgesetzes')\n(27, '10-gesetzes')\n(22, 'verwaltungskostengesetzes')\n(22, 'ausführungsgesetzes')\n(21, 'wassergesetzes')\n(21, 'bundesimmissionsschutzgesetzes')\n(19, 'sozialversicherungsangleichungsgesetzes')\n(19, 'saarländischen gesetzes')\n(19, 'des[n]reichsknappschaftsgesetzes')\n(18, 'feststellungsgesetzes')\n"
    }
   ],
   "source": [
    "for link in unmatched_links[:30]:\n",
    "    print(link)"
   ]
  },
  {
   "cell_type": "code",
   "execution_count": 9,
   "metadata": {
    "tags": []
   },
   "outputs": [
    {
     "output_type": "stream",
     "name": "stdout",
     "text": "GWB        - $ 99 Nummer 1 bis 3 des Gesetzes gegen[n]Wettbewerbsbeschränkungen, so ist abweichend von Absatz 1[n]1.[n][n]eine\nBGBEG      - $ 306 und 307 bis 309 dieses Gesetzes sowie Artikel 46b des Einführungsgesetzes[n]zum Bürgerlichen Gesetzbuche\nBGBEG      - $ 1 Absatz 2 und 3 des Einführungsgesetzes zum[n]Bürgerlichen Gesetzbuche über die Pflicht zur Information\nBGBEG      - $ 1 Absatz 1 Satz 1 Nummer 4 des Einführungsgesetzes zum Bürgerlichen[n]Gesetzbuche informiert hat.[n]\nKAGB       - $ 1 Absatz 4 des Kapitalanlagegesetzbuchs und mit anderen handelbaren Wertpapieren, Devisen,[n]Derivaten\nKAGB       - $ 305 Absatz 1 bis 6 des[n]Kapitalanlagegesetzbuchs ein Widerrufsrecht zusteht.[n]\nBGBEG      - $ 1 Absatz 1 Satz 1 Nummer 1, 4, 5, 11 und 12 des Einführungsgesetzes zum Bürgerlichen Gesetzbuche,[n]unmittelbar\nBGBEG      - $ 1 Absatz 2 Satz 1 Nummer 1 des Einführungsgesetzes zum Bürgerlichen Gesetzbuche[n]oder eine andere eindeutige\nBGBEG      - $ 2 Absatz 1 des Einführungsgesetzes[n]zum Bürgerlichen Gesetzbuche unterrichtet hat. Das Widerrufsrecht\nBGBEG      - $ 1 Absatz 2 des Einführungsgesetzes zum Bürgerlichen Gesetzbuche bezeichnete Formblatt[n]vor Vertragsschluss\nBGBEG      - $ 6 Absatz 2 des Einführungsgesetzes zum Bürgerlichen Gesetzbuche[n]nicht, beginnt die Frist erst mit Nachholung\nBGBEG      - $ 3 des Einführungsgesetzes zum Bürgerlichen Gesetzbuche über sein[n]Widerrufsrecht belehrt hat. Das Widerrufsrecht\nBGBEG      - $ 1 Absatz 2 Satz 1 Nummer 2 des Einführungsgesetzes zum Bürgerlichen[n]Gesetzbuche von dieser Pflicht unterrichtet\nBGBEG      - $ 1 Absatz 2 Satz 1 Nummer 1 des[n]Einführungsgesetzes zum Bürgerlichen Gesetzbuche über sein Widerrufsrecht\nBGBEG      - $ 1 Absatz 2 Satz 1 Nummer 1 und 3 des Einführungsgesetzes zum Bürgerlichen[n]Gesetzbuche ordnungsgemäß\nBGBEG      - $ 6 Absatz 2 des Einführungsgesetzes zum[n]Bürgerlichen Gesetzbuche, die das Widerrufsrecht betreffen, treten.\nBGBEG      - $ 1 Absatz 2 Satz 1 Nummer 1 des Einführungsgesetzes[n]zum Bürgerlichen Gesetzbuche die Unterrichtung nach\nProdHaftG  - $ 4 Abs. 1 und 2 des Produkthaftungsgesetzes) oder seines Gehilfen[n]insbesondere in der Werbung oder bei\nHGB        - $ 377 des Handelsgesetzbuchs bleibt unberührt.[n]\nBGBEG      - $ 1 des[n]Einführungsgesetzes zum Bürgerlichen Gesetzbuche in Textform zur Verfügung zu stellen. Diese müssen\nBGBEG      - $ 2 des[n]Einführungsgesetzes zum Bürgerlichen Gesetzbuche geregelt.[n]\nBeurkG     - $ 5 und 16 des[n]Beurkundungsgesetzes mit der Maßgabe, dass dem Verbraucher eine beglaubigte Übersetzung\nBGBEG      - $ 1 Absatz 2 des[n]Einführungsgesetzes zum Bürgerlichen Gesetzbuche bezeichnete Formblatt einen Ratenzahlungsplan.\nBGBEG      - $ 3 Abs. 2 des Einführungsgesetzes zum Bürgerlichen[n]Gesetzbuche) weniger als 200 Euro beträgt,[n][n]2.[n][n]bei\nBGBEG      - $ 1[n]Absatz 2 Satz 2 des Einführungsgesetzes zum Bürgerlichen Gesetzbuche genannten Musters zu informieren.[n]Artikel\nBGBEG      - $ 1 Absatz 2 Satz 6 des Einführungsgesetzes zum Bürgerlichen Gesetzbuche findet Anwendung.[n]\nBGBEG      - $ 6[n]bis 13 des Einführungsgesetzes zum Bürgerlichen Gesetzbuche enthalten.[n](3) Nach Vertragsschluss stellt\nBGBEG      - $ 14 des Einführungsgesetzes zum Bürgerlichen[n]Gesetzbuche verlangen.[n](4) Die Absätze 1 und 2 gelten auch\nKWG        - $ 18a Absatz 8a des Kreditwesengesetzes genehmigt hat.[n]\nBGBEG      - $ 15 des Einführungsgesetzes zum Bürgerlichen Gesetzbuche ergeben.[n]Abweichende Vereinbarungen über die\nBGBEG      - $ 15 Absatz 2 und 3 des[n]Einführungsgesetzes zum Bürgerlichen Gesetzbuche zulässig.[n](4) Bei einem Vertrag\nBGBEG      - $[n]6 und 10 bis 13 des Einführungsgesetzes zum Bürgerlichen Gesetzbuche für den Verbraucherdarlehensvertrag[n]vorgeschriebenen\nBGBEG      - $ 3 des[n]Einführungsgesetzes zum Bürgerlichen Gesetzbuche) geringer ist als die Restschuld des ursprünglichen[n]Vertrags,[n][n]2.[n][n]die\nBGBEG      - $ 1 Absatz 1 Nummer[n]1, 3 und 4 des Einführungsgesetzes zum Bürgerlichen Gesetzbuche zu unterrichten. Die\nBGBEG      - $ 16 des Einführungsgesetzes zum Bürgerlichen[n]Gesetzbuche ergeben. Ein Anspruch auf Vorfälligkeitsentschädigung\nBGBEG      - $ 17 Abs. 1 des Einführungsgesetzes zum Bürgerlichen[n]Gesetzbuche auf einem dauerhaften Datenträger enthalten\nBGBEG      - $ 17 Abs. 2 des Einführungsgesetzes zum Bürgerlichen Gesetzbuche ergebenden Einzelheiten. Wenn[n]es im Fall\nBGBEG      - $ 6, 12 und 13 des Einführungsgesetzes zum[n]Bürgerlichen Gesetzbuche vorgeschriebenen Angaben fehlt. Ungeachtet\n---------- - $ 491a und 492 Abs. 2 dieses Gesetzes und von Artikel 247 \nBGBEG      - $ 3, 6 und 12[n]des Einführungsgesetzes zum Bürgerlichen Gesetzbuche müssen in der vorvertraglichen Information[n]und\nBGBEG      - $ 18 des Einführungsgesetzes[n]zum Bürgerlichen Gesetzbuche ergebenden Einzelheiten in der dort vorgesehenen\n---------- - $ 560 abgesehen, geändert worden sind. Ausgenommen ist Wohnraum, bei dem die Miethöhe[n]durch Gesetz oder\nWoFG       - $[n]34 bis 37 des Wohnraumförderungsgesetzes und den hierzu ergangenen landesrechtlichen Vorschriften wegen[n]Wegfalls\nZPO        - $ 794a der Zivilprozessordnung eine Räumungsfrist gewährt, so ist er für[n]die Zeit von der Beendigung des\nZPO        - $ 109 der Zivilprozessordnung gilt entsprechend.[n](3) Hat der Pächter das nach \nZPO        - $ 811 Abs. 1 Nr. 4 der Zivilprozessordnung[n]genannten Sachen erstreckt sich das Pfandrecht nicht auf Sachen,\nGewO       - $ 109 der Gewerbeordnung Anwendung.[n][n]Untertitel 2[n]Behandlungsvertrag[n]\nStPO       - $ 52 Absatz 1 der[n]Strafprozessordnung bezeichneten Angehörigen ein Behandlungsfehler unterlaufen, darf\nBGBEG      - $ 3 des Einführungsgesetzes[n]zum Bürgerlichen Gesetzbuche über sein Widerrufsrecht zu belehren.[n]\nBGBEG      - $ 1 bis 3 des Einführungsgesetzes zum Bürgerlichen Gesetzbuche zu informieren. Er[n]erfüllt damit zugleich\nBGBEG      - $ 3 Nummer 3 des Einführungsgesetzes zum[n]Bürgerlichen Gesetzbuche informiert worden ist.[n](3) Die gemäß\nBGBEG      - $ 3 Nummer 1, 3 bis 5 und 7 des Einführungsgesetzes zum Bürgerlichen Gesetzbuche[n]gemachten Angaben werden\nBGBEG      - $ 6 des Einführungsgesetzes zum Bürgerlichen Gesetzbuche eine Abschrift oder[n]Bestätigung des Vertrags\nBGBEG      - $ 7 des Einführungsgesetzes zum Bürgerlichen Gesetzbuche die notwendigen Reiseunterlagen zu[n]übermitteln.[n](4)\nBGBEG      - $ 4 und 8 des Einführungsgesetzes zum Bürgerlichen Gesetzbuche. Im[n]Übrigen bleiben die vorstehenden Absätze\nBGBEG      - $ 3 Nummer 1 des Einführungsgesetzes zum[n]Bürgerlichen Gesetzbuche) oder nur unter Abweichung von besonderen\nBGBEG      - $ 10 des Einführungsgesetzes[n]zum Bürgerlichen Gesetzbuche zu informieren. Nach dem Ablauf der vom Reiseveranstalter\nBGBEG      - $ 6 Absatz 2 Nummer 3 des[n]Einführungsgesetzes zum Bürgerlichen Gesetzbuche genannte Kundengeldabsicherer\nGewO       - $ 4 Absatz[n]3 der Gewerbeordnung in einem anderen Mitgliedstaat der Europäischen Union oder in einem sonstigen[n]Vertragsstaat\nBGBEG      - $ 1 bis 3 des Einführungsgesetzes zum Bürgerlichen[n]Gesetzbuche zu informieren. Er erfüllt damit zugleich\nBGBEG      - $ 6 des Einführungsgesetzes[n]zum Bürgerlichen Gesetzbuche entsprechende Abschrift oder Bestätigung des\nBGBEG      - $ 13b Absatz 1 und 3[n]des Einführungsgesetzes zum Bürgerlichen Gesetzbuche nicht erfüllt worden sind, ist\nBGBEG      - $ 13 Absatz 2 Satz 1 Nummer 4 des[n]Einführungsgesetzes zum Bürgerlichen Gesetzbuche mitgeteilt hat, nicht\nBGBEG      - $ 14 bis 16 des Einführungsgesetzes zum Bürgerlichen[n]Gesetzbuche bestimmten Umstände in der dort vorgesehenen\nBGBEG      - $ 13a des Einführungsgesetzes zum Bürgerlichen Gesetzbuche bestimmten Umstände in der Form zu[n]unterrichten,\nBGBEG      - $ 2 und 12 des Einführungsgesetzes zum Bürgerlichen Gesetzbuche vorgesehen[n]ist. Kontoinformationsdienstleister\nBGBEG      - $ 4 und 13 Absatz 1 des[n]Einführungsgesetzes zum Bürgerlichen Gesetzbuche bestimmten Umstände zu unterrichten;\nBGBEG      - $ 1 bis 16 des Einführungsgesetzes zum Bürgerlichen[n]Gesetzbuche vorgesehen,[n][n]2.[n][n]eine Information erbringt,\nBGBEG      - $ 1 bis 16 des Einführungsgesetzes zum Bürgerlichen[n]Gesetzbuche vorgeschriebenen hinausgeht, oder[n][n]3.[n][n]diese\nBGBEG      - $ 17 bis 18 des Einführungsgesetzes zum Bürgerlichen Gesetzbuche bestimmten Umstände. Der[n]Zahler ist nur\nBGBEG      - $ 18 des Einführungsgesetzes[n]zum Bürgerlichen Gesetzbuche zu entrichten, wenn deren volle Höhe vor der\nBGBEG      - $ 13 Absatz 1 Satz 1 Nummer 2 des Einführungsgesetzes zum Bürgerlichen[n]Gesetzbuche auch auf die innerhalb\nBGBEG      - $ 4 Absatz 1 Nummer 5 Buchstabe g des Einführungsgesetzes zum[n]Bürgerlichen Gesetzbuche.[n]\nBGBEG      - $ 2 und 3 des Einführungsgesetzes zum[n]Bürgerlichen Gesetzbuche vorgesehenen Form anbietet.[n](2) Der Zahlungsdienstleister\nBGBEG      - $ 2 und 3 des Einführungsgesetzes zum[n]Bürgerlichen Gesetzbuche vorgesehenen Form zu erklären.[n](3) Im Fall\nBGBEG      - $ 8 und 15 des Einführungsgesetzes zum Bürgerlichen Gesetzbuche für den Zahlungsempfänger[n]getrennt auszuweisen.[n](3)\nZAG        - $ 1 Absatz 24 des[n]Zahlungsdiensteaufsichtsgesetzes nicht verlangt oder[n][n]2.[n][n]der Zahlungsempfänger oder\nZAG        - $[n]1 Absatz 24 des Zahlungsdiensteaufsichtsgesetzes nicht akzeptiert.[n][n]Satz 1 gilt nicht, wenn der Zahler\nZAG        - $ 60 bis 62 des Zahlungsdiensteaufsichtsgesetzes und auf die[n]Möglichkeit, eine Schlichtungsstelle gemäß\nUKlaG      - $ 14 des Unterlassungsklagengesetzes anzurufen, hinzuweisen.[n]Das Recht des Zahlungsdienstleisters, eine\nBGBEG      - $ 14 des Einführungsgesetzes[n]zum Bürgerlichen Gesetzbuche unterrichtet hat; anderenfalls ist für den Fristbeginn\nBGBEG      - $ 14 des Einführungsgesetzes zum[n]Bürgerlichen Gesetzbuche unterrichtet hat; anderenfalls ist für den Fristbeginn\nBImSchG    - $ 48 des[n]Bundes-Immissionsschutzgesetzes erlassen worden sind und den Stand der Technik wiedergeben.[n](2)\n---------- - $ 1314 Absatz 2 aufhebbar wäre, oder[n][n]2.[n][n]nach Artikel 13 Absatz 3 des Einführungsgesetzes zum Bürgerlichen\nVersAusglG - $ 6 und 8 des Versorgungsausgleichsgesetzes anzuwenden.[n]\n---------- - $ 182 Abs. 1 des Gesetzes über das Verfahren in Familiensachen und[n]in den Angelegenheiten der freiwilligen\nStAG       - $ 4 Absatz 1 oder Absatz 3[n]Satz 1 des Staatsangehörigkeitsgesetzes zu schaffen (missbräuchliche Anerkennung\nAufenthG   - $ 85a des Aufenthaltsgesetzes zuständigen[n]Behörde nach Anhörung des Anerkennenden und der Mutter mitzuteilen\nAsylG      - $ 29a des Asylgesetzes besitzt,[n][n]3.[n][n]das Fehlen von persönlichen Beziehungen zwischen dem Anerkennenden\nAufenthG   - $ 85a des Aufenthaltsgesetzes zuständige Behörde gemäß \nAufenthG   - $ 85a[n]Absatz 1 des Aufenthaltsgesetzes das Vorliegen einer missbräuchlichen Anerkennung der Vaterschaft\nTPG        - $ 1a Nummer 9 des Transplantationsgesetzes unter heterologer Verwendung von[n]Samen gezeugt worden, der\nSaRegG     - $ 2 Absatz 1 Satz 1 des[n]Samenspenderregistergesetzes zur Verfügung gestellt wurde, so kann der Samenspender\n---------- - $ 269 Absatz 1 Nummer 1 oder 2 des[n]Gesetzes über das Verfahren in Familiensachen und in den Angelegenheiten\nSchKG      - $ 25 Absatz 1 des Schwangerschaftskonfliktgesetzes vertraulich[n]geborenes Kind ruht. Ihre elterliche Sorge\nFamFG      - $ 277 des Gesetzes über das[n]Verfahren in Familiensachen und in den Angelegenheiten der freiwilligen Gerichtsbarkeit\nSchKG      - $ 25 Absatz[n]1 des Schwangerschaftskonfliktgesetzes vertraulich geborenen Kindes gilt als dauernd unbekannt,\nLPartG     - $ 3 Abs. 2 des[n]Lebenspartnerschaftsgesetzes).[n](2) Nimmt ein Ehepaar ein Kind an oder nimmt ein Ehegatte\nJVEG       - $ 5 des Justizvergütungs- und -entschädigungsgesetzes für Sachverständige[n]getroffene Regelung entsprechend.\nVBVG       - $[n]1836 Abs. 1 Satz 2 in Verbindung mit dem Vormünder- und Betreuervergütungsgesetz erhält.[n](3) Als Aufwendungen\nJVEG       - $ 22 des Justizvergütungs- und -entschädigungsgesetzes) gewährt werden kann[n](Aufwandsentschädigung). Hat\nZPO        - $ 850b der[n]Zivilprozessordnung keine Anwendung.[n][n]Untertitel 3[n]Fürsorge und Aufsicht des Familiengerichts[n]\nVBVG       - $ 1 Abs. 1 Satz 1 zweite Alternative des Vormünder- und[n]Betreuervergütungsgesetzes zu treffenden Feststellungen\nVBVG       - $ 3 Abs. 1 bis 3 des Vormünder- und[n]Betreuervergütungsgesetzes bestimmt sich die Höhe einer nach \nInsO       - $ 81 und 82 der Insolvenzordnung finden entsprechende Anwendung.[n]Ein Anspruch, der sich gegen den Nachlass\nBeurkG     - $ 7 und 27 des Beurkundungsgesetzes gelten entsprechend. Für die[n]Errichtung gelten die Vorschriften der\nBeurkG     - $ 27, 28, 30, 32, 34, 35 des[n]Beurkundungsgesetzes; der Bürgermeister tritt an die Stelle des Notars. Die\nBeurkG     - $ 27 des Beurkundungsgesetzes; auf die Niederschrift sind die Vorschriften der \nBeurkG     - $ 23, 28 des Beurkundungsgesetzes sowie die Vorschriften des[n]\nStGB       - $ 267, 271[n]bis 274 des Strafgesetzbuchs schuldig gemacht hat.[n][n](2) Die Erbunwürdigkeit tritt in den Fällen\n"
    }
   ],
   "source": [
    "Gesetz.collected_laws[\"BGB\"].print_links()"
   ]
  },
  {
   "cell_type": "code",
   "execution_count": 10,
   "metadata": {},
   "outputs": [],
   "source": [
    "import pickle\n",
    "with open(\"pickles/laws_links.pickle\", \"wb\") as fp:   #Pickling\n",
    "    pickle.dump(Gesetz.collected_laws, fp)"
   ]
  },
  {
   "cell_type": "code",
   "execution_count": null,
   "metadata": {},
   "outputs": [],
   "source": []
  }
 ],
 "metadata": {
  "kernelspec": {
   "display_name": "Python 3.7.7 64-bit",
   "language": "python",
   "name": "python_defaultSpec_1600868694755"
  },
  "language_info": {
   "codemirror_mode": {
    "name": "ipython",
    "version": 3
   },
   "file_extension": ".py",
   "mimetype": "text/x-python",
   "name": "python",
   "nbconvert_exporter": "python",
   "pygments_lexer": "ipython3",
   "version": "3.7.7-final"
  }
 },
 "nbformat": 4,
 "nbformat_minor": 2
}