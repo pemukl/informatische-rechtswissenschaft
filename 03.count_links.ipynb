{
 "cells": [
  {
   "cell_type": "markdown",
   "metadata": {},
   "source": [
    "## Load saved files and run evaluation"
   ]
  },
  {
   "cell_type": "code",
   "execution_count": 1,
   "metadata": {
    "tags": []
   },
   "outputs": [],
   "source": [
    "%load_ext autoreload\n",
    "%autoreload 2"
   ]
  },
  {
   "cell_type": "code",
   "execution_count": 2,
   "metadata": {},
   "outputs": [],
   "source": [
    "sys.path.append('..')\n",
    "from gesetz import Gesetz"
   ]
  },
  {
   "cell_type": "code",
   "execution_count": 3,
   "metadata": {},
   "outputs": [],
   "source": [
    "import pickle\n",
    "with open(\"pickles/laws_links.pickle\", \"rb\") as fp:   # Unpickling\n",
    "    Gesetz.collected_laws = pickle.load(fp)"
   ]
  },
  {
   "cell_type": "code",
   "execution_count": 4,
   "metadata": {
    "tags": []
   },
   "outputs": [
    {
     "output_type": "stream",
     "name": "stdout",
     "text": "BGB:  105/154 - 68%\nSGB5: nothing\nKAGB: 203/376 - 54%\nKredWG: nothing\nHGB:  201/219 - 92%\nZPO:  139/133 - 105%\nSGB6: nothing\nAMG:  55/169 - 33%\nStPO: 383/331 - 116%\nStGB: 75/79 - 95%\n"
    }
   ],
   "source": [
    "Lexalyze = {\"BGB\":154,\"SGB5\":458,\"KAGB\":376,\"KredWG\":423,\"HGB\":219,\"ZPO\":133,\"SGB6\":264,\"AMG\":169,\"StPO\":331,\"StGB\":79}\n",
    "for law_name in Lexalyze:\n",
    "    if law_name in Gesetz.collected_laws:\n",
    "        law = Gesetz.collected_laws[law_name]\n",
    "        links = [link for link in law.links if link.target != None]\n",
    "        print((law_name+\": \").ljust(6)+str(len(links))+\"/\"+str(Lexalyze[law_name])+\" - \"+str(round(len(links)*100/Lexalyze[law_name]))+\"%\")\n",
    "    else:\n",
    "        print((law_name+\": \").ljust(6)+\"nothing\")\n"
   ]
  },
  {
   "cell_type": "code",
   "execution_count": 5,
   "metadata": {
    "tags": []
   },
   "outputs": [
    {
     "output_type": "stream",
     "name": "stdout",
     "text": "[(31.0, '5. RAG'), (21.0, 'KJHG'), (17.5, '6. RAG'), (15.0, 'WPapBerSchlG'), (14.333333333333334, '21. RAG'), (14.0, 'BPersVWO'), (11.5, '13. RAG'), (11.25, '14. RAG'), (11.0, 'MilchFettG'), (10.666666666666666, '4. RAG'), (10.5, '15. RAG'), (10.25, '18. RAG'), (10.25, '17. RAG'), (9.75, '19. RAG'), (9.5, '16. RAG'), (8.666666666666666, '2. RAG'), (8.0, 'RVermG'), (8.0, '20. RAG'), (7.0, 'MPhG'), (6.666666666666667, '10. RAG'), (6.5, '7. RAG'), (6.0, 'KAGG/GewOErgG'), (5.857142857142857, '12. RAG'), (5.75, '8. RAG'), (5.666666666666667, '3. RAG'), (5.5, '11. RAG'), (5.0, 'StreitkrNotWG'), (5.0, 'PodG'), (5.0, 'OrthoptG'), (5.0, '9. RAG'), (4.78, 'BNatSchG'), (4.5, 'BKnEG'), (4.0, 'WoBauG2ÄndG'), (4.0, 'StrFinG'), (4.0, 'GRG'), (4.0, 'DiätAssG'), (3.9, 'SVSaarAnglG'), (3.6666666666666665, 'AuslWBG'), (3.5, 'VersAnsprReglG'), (3.4827586206896552, '3. WOMitbestG'), (3.4827586206896552, '2. WOMitbestG'), (3.3333333333333335, 'TierNebG'), (3.259259259259259, '1. WOMitbestG'), (3.0, 'RettungsG'), (3.0, 'BfAG'), (3.0, 'BetrVGDV1WO'), (2.6666666666666665, 'EhfG'), (2.5, 'ZustLG'), (2.5, 'MTAG'), (2.3333333333333335, 'BEGSchlG'), (2.2, 'SCEBG'), (2.130434782608696, 'KWKG'), (2.0, 'ÖDZustG'), (2.0, 'PTSG'), (2.0, 'MarktONOG'), (2.0, 'EEWärmeG'), (2.0, 'BGebG'), (2.0, 'AuslWBEntschG'), (1.8974358974358974, 'WHG'), (1.8, 'SEBG'), (1.5555555555555556, 'VRG'), (1.5, 'KfbG'), (1.5, 'HypKrlosErklG'), (1.5, 'HdlKlG'), (1.5, 'HaftPflG'), (1.5, 'HaagÜbkAG'), (1.5, 'BWKAuslGÄndG'), (1.4285714285714286, 'LFÜG'), (1.3333333333333333, 'ÖLG'), (1.3333333333333333, 'MittelweserG'), (1.3333333333333333, 'InvHSG'), (1.3333333333333333, 'AuslInvG'), (1.2857142857142858, 'WGSVG'), (1.1666666666666667, 'ThUG'), (1.1428571428571428, '1. BesVNG'), (1.125, 'HebG'), (1.1, 'GrdstVG'), (1.0952380952380953, 'AKG'), (1.0, 'WOSprAuG'), (1.0, 'TSG'), (1.0, 'SprengG'), (1.0, 'SchuldMitüG'), (1.0, 'SchiedsG'), (1.0, 'PfandBrAUmwG'), (1.0, 'NotSanG'), (1.0, 'HeimG'), (1.0, 'HRG'), (1.0, 'GräbG'), (1.0, 'DiätenG'), (1.0, 'BergArbWoFöG'), (1.0, 'BRüG'), (1.0, 'AltSchG'), (1.0, 'ASiG'), (0.96875, '5. VermBG'), (0.9615384615384616, 'LAG'), (0.9361702127659575, 'WoFG'), (0.8604651162790697, 'BBergG'), (0.8, 'ZOVersDTAG'), (0.8, 'SVLFÜG'), (0.8, 'BVFG')]\n"
    }
   ],
   "source": [
    "ratio = []\n",
    "for law in Gesetz.collected_laws.values():\n",
    "    if law.links != [] and len(law.links)>4:\n",
    "        links = [link for link in law.links if link.target != None]\n",
    "        unmatched_links = [link for link in law.links if link.target == None]\n",
    "        if len(links)>0:\n",
    "            ratio.append((len(unmatched_links)/len(links),law.name_short))\n",
    "\n",
    "print(sorted(((n,d) for n,d in ratio),reverse=True)[0:100])"
   ]
  },
  {
   "cell_type": "markdown",
   "metadata": {},
   "source": [
    "## Count degrees with MultiDigraph"
   ]
  },
  {
   "cell_type": "code",
   "execution_count": 6,
   "metadata": {},
   "outputs": [],
   "source": [
    "import networkx as nx\n",
    "G = nx.MultiDiGraph()\n",
    "G.add_nodes_from(Gesetz.collected_laws.keys())\n",
    "for law_name in G:\n",
    "    law = Gesetz.collected_laws[law_name]\n",
    "    for link in law.links:\n",
    "        if link.target != None:\n",
    "            G.add_edge(law.name_short,link.target)\n",
    "        #print(law.name_short+\" -> \"+link+\".\")"
   ]
  },
  {
   "cell_type": "code",
   "execution_count": 7,
   "metadata": {
    "tags": []
   },
   "outputs": [
    {
     "output_type": "stream",
     "name": "stdout",
     "text": "BGB (1476)\nZPO (1205)\nHGB (1013)\nAO (962)\nEStG (866)\nStGB (827)\nAktG (665)\nStPO (605)\nKWG (580)\nOWiG (428)\nVwVfG (376)\nAufenthG (304)\nBBG (257)\nGVG (226)\nBWahlG (222)\nKStG (219)\nVwGO (212)\nInsO (207)\nBeamtVG (197)\nSG (190)\nBBesG (187)\nBDSG (186)\nBVG (182)\nKAGB (173)\nWpHG (160)\nVAG (151)\nEuWG (151)\nBetrVG (151)\nEnWG (148)\nBauGB (146)\nPatG (132)\nLAG (130)\nBewG (127)\nAsylG (126)\nGewO (123)\nBGBEG (120)\nVVG (112)\nAtG (106)\nVermG (105)\nUVPG (99)\nFamFG (98)\nBHO (96)\nSVG (94)\nLuftVG (90)\nBVerfSchG (90)\nStVG (85)\nBVFG (85)\nGWB (84)\nUmstG (81)\nSAG (81)\n"
    }
   ],
   "source": [
    "deg = sorted(((d,n) for n, d in G.in_degree()),reverse=True)\n",
    "for (d,n) in deg[:50]:\n",
    "    print(n+\" (\"+str(d)+\")\")"
   ]
  },
  {
   "cell_type": "code",
   "execution_count": 8,
   "metadata": {
    "tags": []
   },
   "outputs": [
    {
     "output_type": "stream",
     "name": "stdout",
     "text": "EStG (488)\nBGBEG (388)\nStPO (383)\nFamFG (348)\nSVG (255)\nAO (250)\nKWG (227)\nBWO (225)\nVAG (217)\nEGAO (206)\nKAGB (203)\nAktG (203)\nHGB (201)\nWpHG (199)\nEuWO (193)\nRPflG (188)\nKStG (188)\nHGBEG (186)\nEnWG (174)\nInvStG (161)\nGVG (150)\nAufenthG (141)\nZPO (139)\nGewO (139)\nSAG (138)\nUmwG (134)\nRVG (128)\nGWB (123)\nBeamtVG (119)\nWiPrO (118)\nGwG (116)\nErbStG (111)\nDMBilG (110)\nOWiG (109)\nGNotKG (108)\nBKAG (107)\nFinDAG (106)\nBerlinFG (105)\nBGB (105)\nAsylG (103)\nAktGEG (102)\nStrlSchG (98)\nArbGG (96)\nGKG (95)\nInsO (94)\nGewStG (93)\nUVPG (91)\nJGG (89)\nIRG (89)\nSEAG (87)\n"
    }
   ],
   "source": [
    "deg = sorted(((d,n) for n, d in G.out_degree()),reverse=True)\n",
    "for (d,n) in deg[:50]:\n",
    "    print(n+\" (\"+str(d)+\")\")"
   ]
  },
  {
   "cell_type": "code",
   "execution_count": 9,
   "metadata": {},
   "outputs": [],
   "source": [
    "G_di = nx.DiGraph()\n",
    "for edge in G.edges():\n",
    "    G_di.add_edges_from([edge])\n"
   ]
  },
  {
   "cell_type": "code",
   "execution_count": 10,
   "metadata": {
    "tags": []
   },
   "outputs": [],
   "source": [
    "weighted_degrees = []\n",
    "for node in G_di.nodes:\n",
    "    if G.out_degree(node) != 0:\n",
    "        weighted_degrees.append((G.out_degree(node)/G_di.out_degree(node),node))"
   ]
  },
  {
   "cell_type": "code",
   "execution_count": 11,
   "metadata": {},
   "outputs": [],
   "source": [
    "    def count_links(law):\n",
    "        targets = [link.target for link in Gesetz.collected_laws[law].links if link.target != None]\n",
    "        links_counter = []\n",
    "        for tgt in set(targets):\n",
    "            links_counter.append((targets.count(tgt),tgt))\n",
    "\n",
    "        return sorted(((n,d) for n, d in links_counter),reverse=True)\n"
   ]
  },
  {
   "cell_type": "code",
   "execution_count": 12,
   "metadata": {},
   "outputs": [
    {
     "output_type": "execute_result",
     "data": {
      "text/plain": "[(166, 'AO'),\n (51, 'KStG'),\n (21, 'BetrAVG'),\n (20, 'UmwStG'),\n (19, 'AStG'),\n (18, 'InvStG'),\n (17, 'BewG'),\n (16, 'HGB'),\n (14, 'VersAusglG'),\n (10, 'AufenthG'),\n (9, 'BerlinFG'),\n (9, 'BauGB'),\n (7, 'VAG'),\n (7, 'UStG'),\n (7, 'DepotG'),\n (7, 'BeamtVG'),\n (6, 'BGB'),\n (6, 'AktG'),\n (4, 'SVG'),\n (4, 'PartG'),\n (3, 'ZDG'),\n (3, 'VVG'),\n (3, 'AÜG'),\n (3, 'ALG'),\n (2, 'WoEigG'),\n (2, 'WSG'),\n (2, 'USG'),\n (2, 'REITG'),\n (2, 'OWiG'),\n (2, 'KWG'),\n (2, 'InsO'),\n (2, 'FVG'),\n (2, 'ErbStG'),\n (2, 'EmoG'),\n (2, 'EigZulG'),\n (2, 'EhfG'),\n (2, 'EUAHiG'),\n (2, 'BEG'),\n (2, 'BEEG'),\n (2, 'BBesG'),\n (1, 'ZPO'),\n (1, 'ZAG'),\n (1, 'WoGG'),\n (1, 'WPflG'),\n (1, 'UhVorschG'),\n (1, 'SchBauG'),\n (1, 'SG'),\n (1, 'RStruktFG'),\n (1, 'RBkG'),\n (1, 'LwG'),\n (1, 'LPartG'),\n (1, 'LAG'),\n (1, 'KGSG'),\n (1, 'GmbHG'),\n (1, 'ForstSchAusglG'),\n (1, 'FZulG'),\n (1, 'FGO'),\n (1, 'BKGG'),\n (1, 'BFDG'),\n (1, 'BBankG'),\n (1, 'AuslWBG'),\n (1, 'AuslWBEntschG'),\n (1, 'ArbPlSchG'),\n (1, 'AltZertG'),\n (1, 'AltGG'),\n (1, '5. VermBG')]"
     },
     "metadata": {},
     "execution_count": 12
    }
   ],
   "source": [
    "count_links(\"EStG\")"
   ]
  },
  {
   "cell_type": "code",
   "execution_count": 13,
   "metadata": {
    "tags": []
   },
   "outputs": [
    {
     "output_type": "stream",
     "name": "stdout",
     "text": "AktGEG (34.0)       [(94, 'AktG'), (7, 'HGB'), (1, 'HGBEG')]\nHGBEG (26.6)        [(177, 'HGB'), (4, 'BGB'), (1, 'WpHG'), (1, 'KWG'), (1, 'GNotKG'), (1, 'AktGEG'), (1, 'AktG')]\nFANG (24.0)         [(24, 'FRG')]\nEGAO (22.9)         [(190, 'AO'), (6, 'FGO'), (4, 'EStG'), (1, 'UStG'), (1, 'LPartG'), (1, 'FVG'), (1, 'BewG'), (1, 'BVerfGG'), (1, 'AnfG')]\nBWO (20.5)          [(174, 'BWahlG'), (29, 'BDSG'), (7, 'BMG'), (6, 'StGB'), (2, 'StAG'), (2, 'BVFG'), (1, 'WahlPrG'), (1, 'PaßG'), (1, 'PAuswG'), (1, 'IfSG'), (1, 'BRKG')]\nBGBEG (20.4)        [(339, 'BGB'), (10, 'SachenRBerG'), (8, 'VermG'), (4, 'VZOG'), (4, 'GewO'), (4, 'AMG'), (3, 'PartG'), (3, 'LwAnpG'), (2, 'ZPO'), (2, 'VwVfG'), (1, 'ZAG'), (1, 'VSBG'), (1, 'UKlaG'), (1, 'TreuhG'), (1, 'SchRG'), (1, 'IntErbRVG'), (1, 'HGB'), (1, 'FlurbG'), (1, 'BDSG')]\nBVGSaarEG (19.0)    [(19, 'BVG')]\n14. ÄndG LAG (18.0) [(18, 'LAG')]\nJGG (17.8)          [(35, 'StPO'), (32, 'StGB'), (15, 'GVG'), (5, 'StVollzG'), (2, 'BGB')]\nPublG (17.2)        [(74, 'HGB'), (8, 'AktG'), (2, 'KWG'), (1, 'WpHG'), (1, 'OWiG')]\nEuWO (16.1)         [(146, 'EuWG'), (24, 'BWahlG'), (7, 'BMG'), (5, 'StGB'), (2, 'StAG'), (2, 'BZRG'), (2, 'BVFG'), (1, 'WahlPrG'), (1, 'PaßG'), (1, 'PAuswG'), (1, 'IfSG'), (1, 'BRKG')]\nInvStG (14.6)       [(97, 'EStG'), (21, 'KStG'), (20, 'KAGB'), (8, 'AO'), (7, 'GewStG'), (2, 'REITG'), (2, 'HGB'), (1, 'UBGG'), (1, 'OWiG'), (1, 'EUBeitrG'), (1, 'AltZertG')]\nKHEntgG (14.5)      [(53, 'KHG'), (3, 'PflBG'), (1, 'PsychThG'), (1, 'IRegG')]\nEGInsO (14.5)       [(47, 'InsO'), (9, 'ZPO'), (1, 'VwVfG'), (1, 'RPflG')]\nAAppO (13.7)        [(39, 'BApO'), (1, 'HRG'), (1, 'AufenthG')]\nErstrG (13.5)       [(25, 'PatG'), (2, 'GebrMG')]\nBerlinFG (13.1)     [(82, 'EStG'), (6, 'KStG'), (6, 'AO'), (4, 'UStG'), (3, 'StGB'), (2, 'BVG'), (1, 'GewStG'), (1, '2. HStruktG')]\nVollstrVtrTUNAG (13.0) [(13, 'ZPO')]\nVollstrVtrNLDAG (13.0) [(13, 'ZPO')]\nNWRG (12.2)         [(46, 'WaffG'), (1, 'StPO'), (1, 'KrWaffKontrG'), (1, 'GewO')]\nUmwG (12.2)         [(55, 'AktG'), (23, 'BGB'), (21, 'HGB'), (10, 'GmbHG'), (9, 'GenG'), (8, 'PartGG'), (2, 'VAG'), (2, 'KStG'), (2, 'BetrVG'), (1, 'ZPO'), (1, 'WpHG')]\nFlüHG (12.0)        [(23, 'LAG'), (1, 'BVFG')]\nSokaSiG (11.7)      [(21, 'BetrVG'), (14, 'WPflG'), (13, 'BBiG'), (12, 'BUrlG'), (10, 'ArbPlSchG'), (7, 'ArbZG'), (5, 'BFDG')]\nBKostV-MPG (11.5)   [(22, 'MPG'), (1, 'VwVfG')]\nAsylG (11.4)        [(69, 'AufenthG'), (17, 'VwGO'), (7, 'VwVfG'), (3, 'StGB'), (2, 'IfSG'), (2, 'BZRG'), (1, 'VwZG'), (1, 'AsylbLG'), (1, 'AZRG')]\nAktG (11.3)         [(112, 'HGB'), (23, 'KWG'), (16, 'WpHG'), (10, 'BGB'), (7, 'FamFG'), (6, 'UmwG'), (6, 'KAGB'), (5, 'SpruchG'), (4, 'VAG'), (3, 'ZPO'), (2, 'StGB'), (2, 'MitbestG'), (2, 'DepotG'), (1, 'PublG'), (1, 'OWiG'), (1, 'GmbHG'), (1, 'BauSparkG'), (1, 'BZRG')]\nVollstrVtrGRCAG (11.0) [(11, 'ZPO')]\nVollstrAbkBELAG (11.0) [(11, 'ZPO')]\nUhAnerkÜbkAG (11.0) [(11, 'ZPO')]\nBesÜG (11.0)        [(31, 'BBesG'), (1, 'SG'), (1, 'BBG')]\nSEAG (10.9)         [(55, 'AktG'), (11, 'HGB'), (6, 'UmwG'), (6, 'SEBG'), (4, 'KWG'), (2, 'InsO'), (2, 'BGB'), (1, 'FamFG')]\nAsylbLG (10.7)      [(35, 'AsylG'), (19, 'AufenthG'), (5, 'RBEG'), (3, 'BAföG'), (1, 'EStG'), (1, 'BGB')]\nUmwStG (10.6)       [(38, 'EStG'), (16, 'KStG'), (11, 'UmwG'), (3, 'GewStG'), (2, 'LwAnpG'), (2, 'BerlinFG'), (2, 'BGB')]\nWStG (10.5)         [(20, 'StGB'), (1, 'SG')]\nFELEG (10.2)        [(37, 'ALG'), (2, 'KSchG'), (1, 'LPachtVG'), (1, 'BewG')]\nZHG§10PrO (10.0)    [(10, 'ZHG')]\nVollstrAbkGBRAG (10.0) [(10, 'ZPO')]\nVBVG (10.0)         [(19, 'BGB'), (1, 'UStG')]\nDMBilG (10.0)       [(78, 'HGB'), (7, 'AktG'), (6, 'KWG'), (6, 'EStG'), (5, 'GmbHG'), (2, 'TreuhG'), (2, 'GenG'), (1, 'VermG'), (1, 'VAG'), (1, 'URaG'), (1, 'OWiG')]\n8. ÄndGLAG (10.0)   [(10, 'LAG')]\n4. ÄndG LAG (10.0)  [(10, 'LAG')]\nStRSaarEG (9.9)     [(46, 'EStG'), (13, 'GewStG'), (7, 'KStG'), (5, 'LAG'), (3, 'BewG'), (2, 'GrStG'), (2, 'DMBilG'), (1, 'VStG')]\nAStG (9.9)          [(50, 'EStG'), (9, 'KStG'), (8, 'AO'), (5, 'REITG'), (3, 'UmwStG'), (2, 'EUAHiG'), (1, 'KWG'), (1, 'FGO')]\nMitbestG (9.7)      [(18, 'AktG'), (9, 'BetrVG'), (2, 'GenG')]\nEGStGB (9.6)        [(52, 'StGB'), (11, 'StPO'), (5, 'OWiG'), (3, 'StrVerjFrG'), (2, 'JGG'), (2, 'GVG'), (1, 'ThUG'), (1, 'BtMG')]\nSVertO (9.5)        [(20, 'BinSchG'), (8, 'HGB'), (6, 'InsO'), (4, 'ZPO')]\nSVG (9.4)           [(79, 'SG'), (53, 'BeamtVG'), (32, 'BVG'), (13, 'BBesG'), (12, 'BBG'), (9, 'EStG'), (8, 'WPflG'), (8, 'BesÜG'), (6, 'BUKG'), (6, 'BPolBG'), (4, 'HRG'), (4, 'BKGG'), (3, 'VersAusglG'), (3, 'BGB'), (2, 'EinsatzWVG'), (2, 'BBiG'), (1, 'WDO'), (1, 'SGG'), (1, 'PersStärkeG'), (1, 'PersAnpassG'), (1, 'OWiG'), (1, 'OEG'), (1, 'HHG'), (1, 'EntgFG'), (1, 'BewG'), (1, 'ArbPlSchG'), (1, 'AWG')]\nMsbG (8.8)          [(30, 'EnWG'), (3, 'MessEG'), (1, 'GWB'), (1, 'BSIG')]\nFamFG (8.7)         [(151, 'BGB'), (91, 'ZPO'), (13, 'VersAusglG'), (12, 'HGB'), (11, 'GewSchG'), (10, 'LPartG'), (7, 'AktG'), (5, 'GmbHG'), (4, 'SchRegO'), (4, 'SchRG'), (4, 'AufenthG'), (3, 'VBVG'), (2, 'UmwG'), (2, 'GenG'), (2, 'BNotO'), (2, 'AdWirkG'), (2, 'AdVermiG'), (1, 'eIDKG'), (1, 'VereinsG'), (1, 'VAG'), (1, 'UhVorschG'), (1, 'StVollzG'), (1, 'SchVG'), (1, 'SchKG'), (1, 'SEAG'), (1, 'PublG'), (1, 'PartGG'), (1, 'PStG'), (1, 'PAuswG'), (1, 'LuftFzgG'), (1, 'KWG'), (1, 'GVGEG'), (1, 'GVG'), (1, 'FKAG'), (1, 'EWIVAG'), (1, 'EStG'), (1, 'BeurkG'), (1, 'BKGG'), (1, 'BGBEG'), (1, 'AO')]\nErbStG (8.5)        [(36, 'BewG'), (23, 'BGB'), (20, 'AO'), (11, 'EStG'), (6, 'KStG'), (3, 'VAG'), (3, 'KWG'), (2, 'UmwStG'), (2, 'PartG'), (2, 'EUAHiG'), (1, 'LPartG'), (1, 'KGSG'), (1, 'GewStG')]\n"
    }
   ],
   "source": [
    "deg = sorted(((d,n) for d, n in weighted_degrees),reverse=True)\n",
    "for (d,n) in deg[:50]:\n",
    "    print((n+\" (\"+str(round(d,1))+\") \").ljust(20)+str(count_links(n)))\n"
   ]
  },
  {
   "cell_type": "code",
   "execution_count": null,
   "metadata": {},
   "outputs": [],
   "source": []
  }
 ],
 "metadata": {
  "kernelspec": {
   "display_name": "Python 3.7.7 64-bit",
   "language": "python",
   "name": "python_defaultSpec_1600878550265"
  },
  "language_info": {
   "codemirror_mode": {
    "name": "ipython",
    "version": 3
   },
   "file_extension": ".py",
   "mimetype": "text/x-python",
   "name": "python",
   "nbconvert_exporter": "python",
   "pygments_lexer": "ipython3",
   "version": "3.7.7-final"
  }
 },
 "nbformat": 4,
 "nbformat_minor": 2
}